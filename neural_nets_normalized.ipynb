{
 "cells": [
  {
   "cell_type": "code",
   "execution_count": null,
   "metadata": {
    "collapsed": true
   },
   "outputs": [],
   "source": []
  },
  {
   "cell_type": "code",
   "execution_count": 1,
   "metadata": {
    "collapsed": false
   },
   "outputs": [
    {
     "data": {
      "text/html": [
       "<script>\n",
       "code_show=true; \n",
       "function code_toggle() {\n",
       " if (code_show){\n",
       " $('div.input').hide();\n",
       " } else {\n",
       " $('div.input').show();\n",
       " }\n",
       " code_show = !code_show\n",
       "} \n",
       "$( document ).ready(code_toggle);\n",
       "</script>\n",
       "<form action=\"javascript:code_toggle()\"><input type=\"submit\" value=\"Click here to toggle on/off the raw code.\"></form>"
      ],
      "text/plain": [
       "<IPython.core.display.HTML object>"
      ]
     },
     "execution_count": 1,
     "metadata": {},
     "output_type": "execute_result"
    }
   ],
   "source": [
    "from IPython.display import HTML\n",
    "\n",
    "HTML('''<script>\n",
    "code_show=true; \n",
    "function code_toggle() {\n",
    " if (code_show){\n",
    " $('div.input').hide();\n",
    " } else {\n",
    " $('div.input').show();\n",
    " }\n",
    " code_show = !code_show\n",
    "} \n",
    "$( document ).ready(code_toggle);\n",
    "</script>\n",
    "<form action=\"javascript:code_toggle()\"><input type=\"submit\" value=\"Click here to toggle on/off the raw code.\"></form>''')"
   ]
  },
  {
   "cell_type": "code",
   "execution_count": 84,
   "metadata": {
    "collapsed": true
   },
   "outputs": [],
   "source": [
    "import pandas as pd\n",
    "import numpy as np\n",
    "from sklearn.neural_network import MLPClassifier\n",
    "from sklearn.neural_network import MLPRegressor\n",
    "from sklearn.model_selection import GridSearchCV\n",
    "from sklearn.metrics import mean_squared_error\n",
    "import matplotlib.pyplot as plt\n",
    "%matplotlib inline"
   ]
  },
  {
   "cell_type": "code",
   "execution_count": 85,
   "metadata": {
    "collapsed": false
   },
   "outputs": [],
   "source": [
    "def best_output(row):\n",
    "    # se o downloadTime é diferente de 100 para T2 e T3, ambos os targets completam o download\n",
    "    if ((row.downloadTimeT2!=100)&(row.downloadTimeT3!=100)):\n",
    "        # o melhor output será aquele para o qual o downloadTime é menor\n",
    "        if (row.downloadTimeT2<=row.downloadTimeT3):\n",
    "            return 0\n",
    "        else:\n",
    "            return 1\n",
    "    \n",
    "    # se o downloadTime é diferente de 100 apenas para um dos targets, só um deles completa o download\n",
    "    elif ((row.downloadTimeT2!=100)|(row.downloadTimeT3!=100)):\n",
    "        # o melhor output será aquele para o qual o downloadTime é diferente de 100\n",
    "        if (row.downloadTimeT2!=100):\n",
    "            return 0\n",
    "        else:\n",
    "            return 1\n",
    "        \n",
    "    # se o downloadTime é igual a 100 para T2 e T3, ambos os targets não completam o download\n",
    "    elif ((row.downloadTimeT2==100)&(row.downloadTimeT3==100)):\n",
    "        # o melhor output será aquele para o qual o rxBytes é maior\n",
    "        if (row.rxBytesT2>=row.rxBytesT3):\n",
    "            return 0\n",
    "        else:\n",
    "            return 1"
   ]
  },
  {
   "cell_type": "code",
   "execution_count": 86,
   "metadata": {
    "collapsed": true
   },
   "outputs": [],
   "source": [
    "def download_complete(row, column):\n",
    "    if (row[column]==0):\n",
    "        if(row.downloadTimeT2!=100.0):\n",
    "            return 1\n",
    "        else:\n",
    "            return 0\n",
    "    else:\n",
    "        if(row.downloadTimeT3!=100.0):\n",
    "            return 1\n",
    "        else: \n",
    "            return 0\n",
    "\n",
    "        \n",
    "def download_time(row, column):\n",
    "    if ((row[column]==0)&(row.downloadTimeT2<100)):\n",
    "        return row.downloadTimeT2\n",
    "    elif ((row[column]==1)&(row.downloadTimeT3<100)):\n",
    "        return row.downloadTimeT3\n",
    "\n",
    "    \n",
    "def throughput(row, column):\n",
    "    if (row[column]==0):\n",
    "        tp = (row.rxBytesT2/row.downloadTimeT2)*8/1e6\n",
    "        return tp\n",
    "    else:\n",
    "        tp = (row.rxBytesT3/row.downloadTimeT3)*8/1e6\n",
    "        return tp"
   ]
  },
  {
   "cell_type": "code",
   "execution_count": 87,
   "metadata": {
    "collapsed": true
   },
   "outputs": [],
   "source": [
    "def optimum_choice(row, column):\n",
    "    if (row[column]==row.best_output):\n",
    "        return 1\n",
    "    else:\n",
    "        return 0"
   ]
  },
  {
   "cell_type": "code",
   "execution_count": 88,
   "metadata": {
    "collapsed": true
   },
   "outputs": [],
   "source": [
    "def a2a4rsrp(row):\n",
    "    if (row.rsrp2>=row.rsrp3):\n",
    "        return 0\n",
    "    else:\n",
    "        return 1"
   ]
  },
  {
   "cell_type": "markdown",
   "metadata": {},
   "source": [
    "# Sem Shadowing"
   ]
  },
  {
   "cell_type": "code",
   "execution_count": 192,
   "metadata": {
    "collapsed": false
   },
   "outputs": [
    {
     "data": {
      "text/html": [
       "<div>\n",
       "<table border=\"1\" class=\"dataframe\">\n",
       "  <thead>\n",
       "    <tr style=\"text-align: right;\">\n",
       "      <th></th>\n",
       "      <th>nRun</th>\n",
       "      <th>angle</th>\n",
       "      <th>rsrp1</th>\n",
       "      <th>rsrq1</th>\n",
       "      <th>rsrp2</th>\n",
       "      <th>rsrq2</th>\n",
       "      <th>rsrp3</th>\n",
       "      <th>rsrq3</th>\n",
       "      <th>previousrsrp1</th>\n",
       "      <th>previousrsrq1</th>\n",
       "      <th>previousrsrp2</th>\n",
       "      <th>previousrsrq2</th>\n",
       "      <th>previousrsrp3</th>\n",
       "      <th>previousrsrq3</th>\n",
       "      <th>downloadTimeT2</th>\n",
       "      <th>downloadTimeT3</th>\n",
       "      <th>rxBytesT2</th>\n",
       "      <th>rxBytesT3</th>\n",
       "      <th>best_output</th>\n",
       "    </tr>\n",
       "  </thead>\n",
       "  <tbody>\n",
       "    <tr>\n",
       "      <th>0</th>\n",
       "      <td>1</td>\n",
       "      <td>-54.57300</td>\n",
       "      <td>-1.496973</td>\n",
       "      <td>-0.928727</td>\n",
       "      <td>1.204014</td>\n",
       "      <td>1.260287</td>\n",
       "      <td>-1.627623</td>\n",
       "      <td>-1.583483</td>\n",
       "      <td>-1.694071</td>\n",
       "      <td>-1.032834</td>\n",
       "      <td>1.219846</td>\n",
       "      <td>1.284595</td>\n",
       "      <td>-1.633868</td>\n",
       "      <td>-1.584898</td>\n",
       "      <td>37.000</td>\n",
       "      <td>100.0000</td>\n",
       "      <td>15728640</td>\n",
       "      <td>10170752</td>\n",
       "      <td>0</td>\n",
       "    </tr>\n",
       "    <tr>\n",
       "      <th>1</th>\n",
       "      <td>2</td>\n",
       "      <td>-24.03920</td>\n",
       "      <td>1.459316</td>\n",
       "      <td>0.963031</td>\n",
       "      <td>0.511913</td>\n",
       "      <td>0.463449</td>\n",
       "      <td>-0.280863</td>\n",
       "      <td>-0.316543</td>\n",
       "      <td>1.486193</td>\n",
       "      <td>1.019893</td>\n",
       "      <td>0.502143</td>\n",
       "      <td>0.446889</td>\n",
       "      <td>-0.277062</td>\n",
       "      <td>-0.317053</td>\n",
       "      <td>46.809</td>\n",
       "      <td>100.0000</td>\n",
       "      <td>15728640</td>\n",
       "      <td>15106984</td>\n",
       "      <td>0</td>\n",
       "    </tr>\n",
       "    <tr>\n",
       "      <th>2</th>\n",
       "      <td>3</td>\n",
       "      <td>-20.04290</td>\n",
       "      <td>-0.103338</td>\n",
       "      <td>-0.086123</td>\n",
       "      <td>0.416248</td>\n",
       "      <td>0.420659</td>\n",
       "      <td>-0.114908</td>\n",
       "      <td>-0.112039</td>\n",
       "      <td>-0.050356</td>\n",
       "      <td>-0.070835</td>\n",
       "      <td>0.407901</td>\n",
       "      <td>0.408693</td>\n",
       "      <td>-0.109945</td>\n",
       "      <td>-0.109416</td>\n",
       "      <td>48.781</td>\n",
       "      <td>42.7271</td>\n",
       "      <td>15728640</td>\n",
       "      <td>15728640</td>\n",
       "      <td>1</td>\n",
       "    </tr>\n",
       "    <tr>\n",
       "      <th>3</th>\n",
       "      <td>4</td>\n",
       "      <td>-49.51330</td>\n",
       "      <td>0.535860</td>\n",
       "      <td>0.109166</td>\n",
       "      <td>1.125276</td>\n",
       "      <td>1.104459</td>\n",
       "      <td>-1.376160</td>\n",
       "      <td>-1.388789</td>\n",
       "      <td>0.367742</td>\n",
       "      <td>0.095470</td>\n",
       "      <td>1.132437</td>\n",
       "      <td>1.114497</td>\n",
       "      <td>-1.378518</td>\n",
       "      <td>-1.390285</td>\n",
       "      <td>38.277</td>\n",
       "      <td>100.0000</td>\n",
       "      <td>15728640</td>\n",
       "      <td>10490760</td>\n",
       "      <td>0</td>\n",
       "    </tr>\n",
       "    <tr>\n",
       "      <th>4</th>\n",
       "      <td>5</td>\n",
       "      <td>-9.37145</td>\n",
       "      <td>0.847776</td>\n",
       "      <td>1.095583</td>\n",
       "      <td>-0.040940</td>\n",
       "      <td>-0.057333</td>\n",
       "      <td>0.278375</td>\n",
       "      <td>0.265521</td>\n",
       "      <td>0.941307</td>\n",
       "      <td>1.104090</td>\n",
       "      <td>-0.048132</td>\n",
       "      <td>-0.072458</td>\n",
       "      <td>0.280444</td>\n",
       "      <td>0.262462</td>\n",
       "      <td>100.000</td>\n",
       "      <td>39.6510</td>\n",
       "      <td>15560208</td>\n",
       "      <td>15728640</td>\n",
       "      <td>1</td>\n",
       "    </tr>\n",
       "  </tbody>\n",
       "</table>\n",
       "</div>"
      ],
      "text/plain": [
       "   nRun     angle     rsrp1     rsrq1     rsrp2     rsrq2     rsrp3     rsrq3  \\\n",
       "0     1 -54.57300 -1.496973 -0.928727  1.204014  1.260287 -1.627623 -1.583483   \n",
       "1     2 -24.03920  1.459316  0.963031  0.511913  0.463449 -0.280863 -0.316543   \n",
       "2     3 -20.04290 -0.103338 -0.086123  0.416248  0.420659 -0.114908 -0.112039   \n",
       "3     4 -49.51330  0.535860  0.109166  1.125276  1.104459 -1.376160 -1.388789   \n",
       "4     5  -9.37145  0.847776  1.095583 -0.040940 -0.057333  0.278375  0.265521   \n",
       "\n",
       "   previousrsrp1  previousrsrq1  previousrsrp2  previousrsrq2  previousrsrp3  \\\n",
       "0      -1.694071      -1.032834       1.219846       1.284595      -1.633868   \n",
       "1       1.486193       1.019893       0.502143       0.446889      -0.277062   \n",
       "2      -0.050356      -0.070835       0.407901       0.408693      -0.109945   \n",
       "3       0.367742       0.095470       1.132437       1.114497      -1.378518   \n",
       "4       0.941307       1.104090      -0.048132      -0.072458       0.280444   \n",
       "\n",
       "   previousrsrq3  downloadTimeT2  downloadTimeT3  rxBytesT2  rxBytesT3  \\\n",
       "0      -1.584898          37.000        100.0000   15728640   10170752   \n",
       "1      -0.317053          46.809        100.0000   15728640   15106984   \n",
       "2      -0.109416          48.781         42.7271   15728640   15728640   \n",
       "3      -1.390285          38.277        100.0000   15728640   10490760   \n",
       "4       0.262462         100.000         39.6510   15560208   15728640   \n",
       "\n",
       "   best_output  \n",
       "0            0  \n",
       "1            0  \n",
       "2            1  \n",
       "3            0  \n",
       "4            1  "
      ]
     },
     "execution_count": 192,
     "metadata": {},
     "output_type": "execute_result"
    }
   ],
   "source": [
    "# importando os datasets\n",
    "t2 = pd.read_csv('resultados/t2_OkumuraHata_Modificado', delimiter='\\t')\n",
    "t3 = pd.read_csv('resultados/t3_OkumuraHata_Modificado', delimiter='\\t')\n",
    "\n",
    "# garantindo que utilizaremos apenas as sementes presentes nos dois datasets\n",
    "t2 = t2[t2.nRun.isin(t3.nRun)]\n",
    "t3 = t3[t3.nRun.isin(t2.nRun)]\n",
    "t2 = t2.reset_index(drop=True)\n",
    "t3 = t3.reset_index(drop=True)\n",
    "\n",
    "# combinando os datasets\n",
    "data = t2\n",
    "data = data.drop(['targetCellId', 'downloadTime', 'rxBytes'], axis=1)\n",
    "data['downloadTimeT2'] = t2.downloadTime\n",
    "data['downloadTimeT3'] = t3.downloadTime\n",
    "data['rxBytesT2'] = t2.rxBytes\n",
    "data['rxBytesT3'] = t3.rxBytes\n",
    "\n",
    "data['best_output'] = data.apply(best_output, axis=1)\n",
    "\n",
    "original_data = data\n",
    "data = (data - data.mean()) / (data.std())\n",
    "data[['nRun','angle','downloadTimeT2','downloadTimeT3','rxBytesT2','rxBytesT3','best_output']] = original_data[['nRun','angle','downloadTimeT2','downloadTimeT3','rxBytesT2','rxBytesT3','best_output']]\n",
    "\n",
    "data.head()"
   ]
  },
  {
   "cell_type": "code",
   "execution_count": 193,
   "metadata": {
    "collapsed": false
   },
   "outputs": [],
   "source": [
    "teste = data.iloc[800:1000]\n",
    "data = data.iloc[0:800]"
   ]
  },
  {
   "cell_type": "code",
   "execution_count": 91,
   "metadata": {
    "collapsed": false
   },
   "outputs": [
    {
     "data": {
      "text/plain": [
       "<matplotlib.axes._subplots.AxesSubplot at 0x7ff86db3c048>"
      ]
     },
     "execution_count": 91,
     "metadata": {},
     "output_type": "execute_result"
    },
    {
     "data": {
      "image/png": "[encoded data removed]",
      "text/plain": [
       "<matplotlib.figure.Figure at 0x7ff86e1f0748>"
      ]
     },
     "metadata": {},
     "output_type": "display_data"
    }
   ],
   "source": [
    "import seaborn as sns\n",
    "features = data[['rsrp1','rsrq1','rsrp2','rsrq2','rsrp3','rsrq3','previousrsrp1','previousrsrq1','previousrsrp2','previousrsrq2','previousrsrp3','previousrsrq3','best_output']]\n",
    "features = features.rename(columns={'rsrp1': 'RSRP eNB 1', 'rsrq1': 'RSRQ eNB 1', 'rsrp2': 'RSRP eNB 2', 'rsrq2': 'RSRQ eNB 2', 'rsrp3': 'RSRP eNB 3', 'rsrq3': 'RSRQ eNB 3', 'previousrsrp1': 'RSRP eNB 1 (anterior)', 'previousrsrq1': 'RSRQ eNB 1 (anterior)', 'previousrsrp2': 'RSRP eNB 2 (anterior)', 'previousrsrq2': 'RSRQ eNB 2 (anterior)', 'previousrsrp3': 'RSRP eNB 3 (anterior)', 'previousrsrq3': 'RSRQ eNB 3 (anterior)', 'best_output': 'Melhor Target'})\n",
    "sns.heatmap(features.corr())"
   ]
  },
  {
   "cell_type": "code",
   "execution_count": 92,
   "metadata": {
    "collapsed": false
   },
   "outputs": [],
   "source": [
    "param_test = {'hidden_layer_sizes': [(i) for i in range(1,101)]}"
   ]
  },
  {
   "cell_type": "markdown",
   "metadata": {},
   "source": [
    "### Estratégia 1"
   ]
  },
  {
   "cell_type": "code",
   "execution_count": 93,
   "metadata": {
    "collapsed": false
   },
   "outputs": [
    {
     "name": "stdout",
     "output_type": "stream",
     "text": [
      "{'hidden_layer_sizes': 2}\n",
      "0.9975\n",
      "{'hidden_layer_sizes': 5}\n",
      "0.99875\n"
     ]
    }
   ],
   "source": [
    "# A: Download Completo ou Incompleto (para todas as amostras)\n",
    "nn1_a_input = data[['rsrp1','rsrq1','rsrp2','rsrq2','rsrp3','rsrq3','previousrsrp1','previousrsrq1','previousrsrp2','previousrsrq2','previousrsrp3','previousrsrq3']]\n",
    "\n",
    "# NN A para T2\n",
    "nn1_a0_output = (data.downloadTimeT2<100).astype(int)\n",
    "nn1_a0 = GridSearchCV(estimator=MLPClassifier(solver='lbfgs', random_state=1, validation_fraction=0.25), param_grid=param_test, cv=5, scoring='roc_auc')\n",
    "nn1_a0.fit(nn1_a_input.as_matrix(), nn1_a0_output);\n",
    "\n",
    "print (nn1_a0.best_params_)\n",
    "print ((nn1_a0.predict(nn1_a_input)==(data.downloadTimeT2<100).astype(int)).sum()/data.shape[0])\n",
    "\n",
    "# NN A para T3\n",
    "nn1_a1_output = (data.downloadTimeT3<100).astype(int)\n",
    "nn1_a1 = GridSearchCV(estimator=MLPClassifier(solver='lbfgs', random_state=1, validation_fraction=0.25), param_grid=param_test, cv=5, scoring='roc_auc')\n",
    "nn1_a1.fit(nn1_a_input.as_matrix(), nn1_a1_output);\n",
    "\n",
    "print (nn1_a1.best_params_)\n",
    "print ((nn1_a1.predict(nn1_a_input)==(data.downloadTimeT3<100).astype(int)).sum()/data.shape[0])"
   ]
  },
  {
   "cell_type": "code",
   "execution_count": 94,
   "metadata": {
    "collapsed": false
   },
   "outputs": [
    {
     "name": "stdout",
     "output_type": "stream",
     "text": [
      "{'hidden_layer_sizes': 10}\n",
      "0.224767355644\n",
      "{'hidden_layer_sizes': 27}\n",
      "0.0763838527084\n"
     ]
    }
   ],
   "source": [
    "# B: Tempo de Download (para amostras em que ambos os targets completam o download)\n",
    "nn1_b_input = data[(data.downloadTimeT2<100)&(data.downloadTimeT3<100)][['rsrp1','rsrq1','rsrp2','rsrq2','rsrp3','rsrq3','previousrsrp1','previousrsrq1','previousrsrp2','previousrsrq2','previousrsrp3','previousrsrq3']]\n",
    "# NN B para T2\n",
    "nn1_b0_output = data[(data.downloadTimeT2<100)&(data.downloadTimeT3<100)].downloadTimeT2\n",
    "nn1_b0 = GridSearchCV(estimator=MLPRegressor(solver='lbfgs', random_state=1, validation_fraction=0.25), param_grid=param_test, cv=5)\n",
    "nn1_b0.fit(nn1_b_input.as_matrix(), nn1_b0_output);\n",
    "\n",
    "print (nn1_b0.best_params_)\n",
    "print (mean_squared_error(nn1_b0.predict(nn1_b_input),data[(data.downloadTimeT2<100)&(data.downloadTimeT3<100)].downloadTimeT2))\n",
    "\n",
    "# NN B para T3\n",
    "nn1_b1_output = data[(data.downloadTimeT2<100)&(data.downloadTimeT3<100)].downloadTimeT3\n",
    "nn1_b1 = GridSearchCV(estimator=MLPRegressor(solver='lbfgs', random_state=1, validation_fraction=0.25), param_grid=param_test, cv=5)\n",
    "nn1_b1.fit(nn1_b_input.as_matrix(), nn1_b1_output);\n",
    "\n",
    "print (nn1_b1.best_params_)\n",
    "print (mean_squared_error(nn1_b1.predict(nn1_b_input),data[(data.downloadTimeT2<100)&(data.downloadTimeT3<100)].downloadTimeT3))"
   ]
  },
  {
   "cell_type": "code",
   "execution_count": 95,
   "metadata": {
    "collapsed": false
   },
   "outputs": [
    {
     "data": {
      "text/plain": [
       "0.99875000000000003"
      ]
     },
     "execution_count": 95,
     "metadata": {},
     "output_type": "execute_result"
    }
   ],
   "source": [
    "def nn1_func(row):\n",
    "    nn1_input = row[['rsrp1','rsrq1','rsrp2','rsrq2','rsrp3','rsrq3','previousrsrp1','previousrsrq1','previousrsrp2','previousrsrq2','previousrsrp3','previousrsrq3']].values.reshape(1, -1)\n",
    "    # Nível 1A\n",
    "    # se o downloadTime previsto é menor que 100 para T2 e T3, ambos os targets completam o download\n",
    "    if ((nn1_a0.predict(nn1_input)==1)&(nn1_a1.predict(nn1_input)==1)):\n",
    "        # Nível 2B\n",
    "        # o melhor output será aquele para o qual o downloadTime previsto é menor\n",
    "        if (nn1_b0.predict(nn1_input)<=nn1_b1.predict(nn1_input)):\n",
    "            return 0\n",
    "        else:\n",
    "            return 1\n",
    "    \n",
    "    # se o downloadTime previsto é menor que 100 apenas para um dos targets, só um deles completa o download\n",
    "    elif ((nn1_a0.predict(nn1_input)==1)|(nn1_a1.predict(nn1_input)==1)):\n",
    "        # o melhor output será aquele para o qual o downloadTime previsto é menor que 100\n",
    "        if (nn1_a0.predict(nn1_input)==1):\n",
    "            return 0\n",
    "        else:\n",
    "            return 1\n",
    "  \n",
    "        \n",
    "((nn1_a_input.apply(nn1_func, axis=1)==data.best_output).sum())/data.best_output.size        "
   ]
  },
  {
   "cell_type": "markdown",
   "metadata": {},
   "source": [
    "### Estratégia 2"
   ]
  },
  {
   "cell_type": "code",
   "execution_count": 96,
   "metadata": {
    "collapsed": false
   },
   "outputs": [
    {
     "name": "stdout",
     "output_type": "stream",
     "text": [
      "{'hidden_layer_sizes': 1}\n",
      "0.9975\n",
      "{'hidden_layer_sizes': 21}\n",
      "0.99875\n"
     ]
    }
   ],
   "source": [
    "# A: Download Completo ou Incompleto (para todas as amostras)\n",
    "\n",
    "# NN A para T2\n",
    "nn2_a0_input = data[['rsrp2','rsrq2','previousrsrp2','previousrsrq2']]\n",
    "nn2_a0_output = (data.downloadTimeT2<100).astype(int)\n",
    "nn2_a0 = GridSearchCV(estimator=MLPClassifier(solver='lbfgs', random_state=1, validation_fraction=0.25), param_grid=param_test, scoring='roc_auc', cv=5)\n",
    "nn2_a0.fit(nn2_a0_input.as_matrix(), nn2_a0_output);\n",
    "\n",
    "print (nn2_a0.best_params_)\n",
    "print ((nn2_a0.predict(nn2_a0_input)==(data.downloadTimeT2<100).astype(int)).sum()/data.shape[0])\n",
    "\n",
    "\n",
    "# NN A para T3\n",
    "nn2_a1_input = data[['rsrp3','rsrq3','previousrsrp3','previousrsrq3']]\n",
    "nn2_a1_output = (data.downloadTimeT3<100).astype(int)\n",
    "nn2_a1 = GridSearchCV(estimator=MLPClassifier(solver='lbfgs', random_state=1, validation_fraction=0.25), param_grid=param_test, scoring='roc_auc', cv=5)\n",
    "nn2_a1.fit(nn2_a1_input.as_matrix(), nn2_a1_output);\n",
    "\n",
    "print (nn2_a1.best_params_)\n",
    "print ((nn2_a1.predict(nn2_a1_input)==(data.downloadTimeT3<100).astype(int)).sum()/data.shape[0])"
   ]
  },
  {
   "cell_type": "code",
   "execution_count": 97,
   "metadata": {
    "collapsed": false
   },
   "outputs": [
    {
     "name": "stdout",
     "output_type": "stream",
     "text": [
      "{'hidden_layer_sizes': 45}\n",
      "0.226662638711\n",
      "{'hidden_layer_sizes': 44}\n",
      "0.0717093667875\n"
     ]
    }
   ],
   "source": [
    "# B: Tempo de Download (para amostras em que ambos os targets completam o download)\n",
    "\n",
    "param_test = {'hidden_layer_sizes':[(i) for i in range(1,101)]}\n",
    "\n",
    "# NN B para T2\n",
    "nn2_b0_input = data[(data.downloadTimeT2<100)&(data.downloadTimeT3<100)][['rsrp2','rsrq2','previousrsrp2','previousrsrq2']]\n",
    "nn2_b0_output = data[(data.downloadTimeT2<100)&(data.downloadTimeT3<100)].downloadTimeT2\n",
    "nn2_b0 = GridSearchCV(estimator=MLPRegressor(solver='lbfgs', random_state=1, validation_fraction=0.25), param_grid=param_test, cv=5)\n",
    "nn2_b0.fit(nn2_b0_input.as_matrix(), nn2_b0_output);\n",
    "\n",
    "print (nn2_b0.best_params_)\n",
    "print (mean_squared_error(nn2_b0.predict(nn2_b0_input),data[(data.downloadTimeT2<100)&(data.downloadTimeT3<100)].downloadTimeT2))\n",
    "\n",
    "\n",
    "# NN B para T3\n",
    "nn2_b1_input = data[(data.downloadTimeT2<100)&(data.downloadTimeT3<100)][['rsrp3','rsrq3','previousrsrp3','previousrsrq3']]\n",
    "nn2_b1_output = data[(data.downloadTimeT2<100)&(data.downloadTimeT3<100)].downloadTimeT3\n",
    "nn2_b1 = GridSearchCV(estimator=MLPRegressor(solver='lbfgs', random_state=1, validation_fraction=0.25), param_grid=param_test, cv=5)\n",
    "nn2_b1.fit(nn2_b1_input.as_matrix(), nn2_b1_output);\n",
    "\n",
    "print (nn2_b1.best_params_)\n",
    "print (mean_squared_error(nn2_b1.predict(nn2_b1_input),data[(data.downloadTimeT2<100)&(data.downloadTimeT3<100)].downloadTimeT3))"
   ]
  },
  {
   "cell_type": "code",
   "execution_count": 98,
   "metadata": {
    "collapsed": false
   },
   "outputs": [
    {
     "data": {
      "text/plain": [
       "0.96750000000000003"
      ]
     },
     "execution_count": 98,
     "metadata": {},
     "output_type": "execute_result"
    }
   ],
   "source": [
    "def nn2_func(row):\n",
    "    nn2_a0_input = row[['rsrp2','rsrq2','previousrsrp2','previousrsrq2']].values.reshape(1, -1)\n",
    "    nn2_a1_input = row[['rsrp3','rsrq3','previousrsrp3','previousrsrq3']].values.reshape(1, -1)\n",
    "    \n",
    "    # Nível 1A\n",
    "    # se ambos os targets completam o download\n",
    "    if ((nn2_a0.predict(nn2_a0_input)==1)&(nn2_a1.predict(nn2_a1_input)==1)):\n",
    "        # Nível 2B\n",
    "        # o melhor output será aquele para o qual o downloadTime previsto é menor\n",
    "        nn2_b0_input = nn2_a0_input\n",
    "        nn2_b1_input = nn2_a0_input\n",
    "        if (nn2_b0.predict(nn2_b0_input)<=nn2_b1.predict(nn2_b1_input)):\n",
    "            return 0\n",
    "        else:\n",
    "            return 1\n",
    "    \n",
    "    # se apenas um dos targets completa o download\n",
    "    elif ((nn2_a0.predict(nn2_a0_input)==1)|(nn2_a1.predict(nn2_a1_input)==1)):\n",
    "        # o melhor output será aquele que completa o download, segundo a previsão\n",
    "        if (nn2_a0.predict(nn2_a0_input)==1):\n",
    "            return 0\n",
    "        else:\n",
    "            return 1\n",
    "\n",
    "        \n",
    "((data.apply(nn2_func, axis=1)==data.best_output).sum())/data.best_output.size"
   ]
  },
  {
   "cell_type": "markdown",
   "metadata": {},
   "source": [
    "### Estratégia 3"
   ]
  },
  {
   "cell_type": "code",
   "execution_count": 99,
   "metadata": {
    "collapsed": false
   },
   "outputs": [
    {
     "name": "stdout",
     "output_type": "stream",
     "text": [
      "{'hidden_layer_sizes': 5}\n",
      "0.99875\n"
     ]
    }
   ],
   "source": [
    "nn3_input = data[['rsrp1','rsrq1','rsrp2','rsrq2','rsrp3','rsrq3','previousrsrp1','previousrsrq1','previousrsrp2','previousrsrq2','previousrsrp3','previousrsrq3']]\n",
    "nn3_output = data.best_output\n",
    "\n",
    "nn3 = GridSearchCV(estimator=MLPClassifier(solver='lbfgs', random_state=1, validation_fraction=0.25), param_grid=param_test, cv=5, scoring='roc_auc')\n",
    "\n",
    "nn3.fit(nn3_input.as_matrix(), nn3_output)\n",
    "\n",
    "def nn3_func(row):\n",
    "    nn3_input_ = row[['rsrp1','rsrq1','rsrp2','rsrq2','rsrp3','rsrq3','previousrsrp1','previousrsrq1','previousrsrp2','previousrsrq2','previousrsrp3','previousrsrq3']].values.reshape(1, -1)\n",
    "    return nn3.predict(nn3_input_)[0]\n",
    "\n",
    "print (nn3.best_params_)\n",
    "print (((nn3_input.apply(nn3_func, axis=1)==data.best_output).sum())/data.best_output.size)"
   ]
  },
  {
   "cell_type": "code",
   "execution_count": 100,
   "metadata": {
    "collapsed": false
   },
   "outputs": [],
   "source": [
    "teste['best_choice_download_complete'] = original_data.iloc[800:].apply(lambda x: download_complete(x, column='best_output'), axis=1)\n",
    "teste['best_choice_download_time'] = original_data.iloc[800:].apply(lambda x: download_time(x, column='best_output'), axis=1)\n",
    "teste['best_choice_throughput'] = original_data.iloc[800:].apply(lambda x: throughput(x, column='best_output'), axis=1)"
   ]
  },
  {
   "cell_type": "code",
   "execution_count": 101,
   "metadata": {
    "collapsed": false
   },
   "outputs": [],
   "source": [
    "teste['nn1'] = teste.apply(nn1_func, axis=1)\n",
    "teste['nn1_download_complete'] = teste.apply(lambda x: download_complete(x, column='nn1'), axis=1)\n",
    "teste['nn1_download_time'] = teste.apply(lambda x: download_time(x, column='nn1'), axis=1)\n",
    "teste['nn1_throughput'] = teste.apply(lambda x: throughput(x, column='nn1'), axis=1)"
   ]
  },
  {
   "cell_type": "code",
   "execution_count": 102,
   "metadata": {
    "collapsed": false
   },
   "outputs": [],
   "source": [
    "teste['nn2'] = teste.apply(nn2_func, axis=1)\n",
    "teste['nn2_download_complete'] = teste.apply(lambda x: download_complete(x, column='nn2'), axis=1)\n",
    "teste['nn2_download_time'] = teste.apply(lambda x: download_time(x, column='nn2'), axis=1)\n",
    "teste['nn2_throughput'] = teste.apply(lambda x: throughput(x, column='nn2'), axis=1)"
   ]
  },
  {
   "cell_type": "code",
   "execution_count": 103,
   "metadata": {
    "collapsed": false
   },
   "outputs": [],
   "source": [
    "teste['nn3'] = teste.apply(nn3_func, axis=1)\n",
    "teste['nn3_download_complete'] = teste.apply(lambda x: download_complete(x, column='nn3'), axis=1)\n",
    "teste['nn3_download_time'] = teste.apply(lambda x: download_time(x, column='nn3'), axis=1)\n",
    "teste['nn3_throughput'] = teste.apply(lambda x: throughput(x, column='nn3'), axis=1)"
   ]
  },
  {
   "cell_type": "markdown",
   "metadata": {},
   "source": [
    "### Estratégias Clássicas"
   ]
  },
  {
   "cell_type": "code",
   "execution_count": 104,
   "metadata": {
    "collapsed": false
   },
   "outputs": [],
   "source": [
    "teste['a2a4rsrp'] = original_data.iloc[800:].apply(a2a4rsrp, axis=1)\n",
    "teste['a2a4rsrp_download_complete'] = teste.apply(lambda x: download_complete(x, column='a2a4rsrp'), axis=1)\n",
    "teste['a2a4rsrp_download_time'] = teste.apply(lambda x: download_time(x, column='a2a4rsrp'), axis=1)\n",
    "teste['a2a4rsrp_throughput'] = teste.apply(lambda x: throughput(x, column='a2a4rsrp'), axis=1)"
   ]
  },
  {
   "cell_type": "code",
   "execution_count": 105,
   "metadata": {
    "collapsed": false
   },
   "outputs": [],
   "source": [
    "# importando os datasets com dados de simulações de outras duas estratégias clássicas\n",
    "a3rsrp = pd.read_csv('resultados/A3RSRP_OkumuraHata_Modificado', delimiter='\\t')\n",
    "a2a4rsrq = pd.read_csv('resultados/A2A4RSRQ_OkumuraHata_Modificado', delimiter='\\t')\n",
    "a3rsrp_teste = a3rsrp[a3rsrp.nRun>800]\n",
    "a2a4rsrq_teste = a2a4rsrq[a2a4rsrq.nRun>800]\n",
    "\n",
    "def func(row):\n",
    "    if (row.downloadTime<100):\n",
    "        return row.downloadTime\n",
    "    \n",
    "teste['a3rsrp_download_complete'] = (a3rsrp_teste.downloadTime<100).astype(int)\n",
    "teste['a3rsrp_download_time'] = a3rsrp_teste.apply((lambda x: func(x)), axis=1)\n",
    "teste['a3rsrp_throughput'] = (a3rsrp_teste.rxBytes/a3rsrp_teste.downloadTime)*8/1e6\n",
    "\n",
    "teste['a2a4rsrq_download_complete'] = (a2a4rsrq_teste.downloadTime<100).astype(int)\n",
    "teste['a2a4rsrq_download_time'] = a2a4rsrq_teste.apply((lambda x: func(x)), axis=1)\n",
    "teste['a2a4rsrq_throughput'] = (a2a4rsrq_teste.rxBytes/a2a4rsrq_teste.downloadTime)*8/1e6"
   ]
  },
  {
   "cell_type": "markdown",
   "metadata": {},
   "source": [
    "#### Resultados - Sem Shadowing"
   ]
  },
  {
   "cell_type": "code",
   "execution_count": 107,
   "metadata": {
    "collapsed": false
   },
   "outputs": [],
   "source": [
    "estrategias = ['a2a4rsrp', 'a2a4rsrq', 'a3rsrp', 'nn1', 'nn2', 'nn3', 'best_choice']\n",
    "\n",
    "results_ss = {}\n",
    "casas = 3\n",
    "for estrategia in estrategias:\n",
    "    #print(\"\\n\\n\", estrategia)\n",
    "    #print(\"- Geral:\")\n",
    "    #print(\"Percentual de Downloads Completos: \", (teste[estrategia+\"_download_complete\"].sum()/teste.index.size)*100, \"%\")\n",
    "    #print(\"Tempo Médio de Download para os Downloads Completos: \", teste[estrategia+\"_download_time\"].mean(), \"s\")\n",
    "    #print(\"Throughput Médio: \", teste[estrategia+\"_throughput\"].mean(), \"Mbps\")\n",
    "    #print(\"- Para a região central [-30,0]:\")\n",
    "    #print(\"Percentual de Downloads Completos: \", (teste[(teste.angle>-30) & (teste.angle<0)][estrategia+\"_download_complete\"].sum()/teste[(teste.angle>-30) & (teste.angle<0)].index.size)*100, \"%\")\n",
    "    #print(\"Tempo Médio de Download para os Downloads Completos: \", teste[(teste.angle>-30) & (teste.angle<0)][estrategia+\"_download_time\"].mean(), \"s\")\n",
    "    #print(\"Throughput Médio: \", teste[(teste.angle>-30) & (teste.angle<0)][estrategia+\"_throughput\"].mean(), \"Mbps\")\n",
    "    results_ss[estrategia] = []\n",
    "    results_ss[estrategia].append(round((teste[estrategia+\"_download_complete\"].sum()/teste.index.size)*100,casas))\n",
    "    results_ss[estrategia].append(round(teste[estrategia+\"_download_time\"].mean(),casas))\n",
    "    results_ss[estrategia].append(round(teste[estrategia+\"_throughput\"].mean(),casas))\n",
    "    results_ss[estrategia].append(round((teste[(teste.angle>-30) & (teste.angle<0)][estrategia+\"_download_complete\"].sum()/teste[(teste.angle>-30) & (teste.angle<0)].index.size)*100,casas))\n",
    "    results_ss[estrategia].append(round(teste[(teste.angle>-30) & (teste.angle<0)][estrategia+\"_download_time\"].mean(),casas))\n",
    "    results_ss[estrategia].append(round(teste[(teste.angle>-30) & (teste.angle<0)][estrategia+\"_throughput\"].mean(),casas))"
   ]
  },
  {
   "cell_type": "markdown",
   "metadata": {},
   "source": [
    "#### Resultados para o conjunto de teste - OkumuraHata sem shadowing"
   ]
  },
  {
   "cell_type": "markdown",
   "metadata": {},
   "source": [
    "#### Geral"
   ]
  },
  {
   "cell_type": "markdown",
   "metadata": {
    "variables": {
     "results_ss['a2a4rsrp'][0]": "92.0",
     "results_ss['a2a4rsrp'][1]": "41.594",
     "results_ss['a2a4rsrp'][2]": "2.906",
     "results_ss['a2a4rsrq'][0]": "94.0",
     "results_ss['a2a4rsrq'][1]": "37.64",
     "results_ss['a2a4rsrq'][2]": "3.264",
     "results_ss['a3rsrp'][0]": "99.0",
     "results_ss['a3rsrp'][1]": "36.66",
     "results_ss['a3rsrp'][2]": "3.488",
     "results_ss['best_choice'][0]": "100.0",
     "results_ss['best_choice'][1]": "39.921",
     "results_ss['best_choice'][2]": "3.16",
     "results_ss['nn1'][0]": "100.0",
     "results_ss['nn1'][1]": "39.921",
     "results_ss['nn1'][2]": "3.16",
     "results_ss['nn2'][0]": "100.0",
     "results_ss['nn2'][1]": "40.212",
     "results_ss['nn2'][2]": "3.143",
     "results_ss['nn3'][0]": "100.0",
     "results_ss['nn3'][1]": "39.921",
     "results_ss['nn3'][2]": "3.16"
    }
   },
   "source": [
    "|   |A2A4RSRP|A2A4RSRQ|A3RSRP|NN1|NN2|NN3|BEST CHOICE|\n",
    "|---|---|---|---|---|---|---|---|\n",
    "|Downloads completos (%)|{{results_ss['a2a4rsrp'][0]}}|{{results_ss['a2a4rsrq'][0]}}|{{results_ss['a3rsrp'][0]}}|{{results_ss['nn1'][0]}}|{{results_ss['nn2'][0]}}|{{results_ss['nn3'][0]}}|{{results_ss['best_choice'][0]}}|\n",
    "|Tempo médio de download para os downloads completos (s)|{{results_ss['a2a4rsrp'][1]}}|{{results_ss['a2a4rsrq'][1]}}|{{results_ss['a3rsrp'][1]}}|{{results_ss['nn1'][1]}}|{{results_ss['nn2'][1]}}|{{results_ss['nn3'][1]}}|{{results_ss['best_choice'][1]}}|\n",
    "|Throughput médio (Mbps)|{{results_ss['a2a4rsrp'][2]}}|{{results_ss['a2a4rsrq'][2]}}|{{results_ss['a3rsrp'][2]}}|{{results_ss['nn1'][2]}}|{{results_ss['nn2'][2]}}|{{results_ss['nn3'][2]}}|{{results_ss['best_choice'][2]}}|"
   ]
  },
  {
   "cell_type": "markdown",
   "metadata": {},
   "source": [
    "#### Para a região central [-30,0]"
   ]
  },
  {
   "cell_type": "markdown",
   "metadata": {
    "variables": {
     "results_ss['a2a4rsrp'][3]": "73.333",
     "results_ss['a2a4rsrp'][4]": "49.7",
     "results_ss['a2a4rsrp'][5]": "2.162",
     "results_ss['a2a4rsrq'][3]": "81.667",
     "results_ss['a2a4rsrq'][4]": "45.559",
     "results_ss['a2a4rsrq'][5]": "2.489",
     "results_ss['a3rsrp'][3]": "96.667",
     "results_ss['a3rsrp'][4]": "45.13",
     "results_ss['a3rsrp'][5]": "2.756",
     "results_ss['best_choice'][3]": "100.0",
     "results_ss['best_choice'][4]": "41.96",
     "results_ss['best_choice'][5]": "3.009",
     "results_ss['nn1'][3]": "100.0",
     "results_ss['nn1'][4]": "41.96",
     "results_ss['nn1'][5]": "3.009",
     "results_ss['nn2'][3]": "100.0",
     "results_ss['nn2'][4]": "42.931",
     "results_ss['nn2'][5]": "2.95",
     "results_ss['nn3'][3]": "100.0",
     "results_ss['nn3'][4]": "41.96",
     "results_ss['nn3'][5]": "3.009"
    }
   },
   "source": [
    "|   |A2A4RSRP|A2A4RSRQ|A3RSRP|NN1|NN2|NN3|BEST CHOICE|\n",
    "|---|---|---|---|---|---|---|---|\n",
    "|Downloads completos (%)|{{results_ss['a2a4rsrp'][3]}}|{{results_ss['a2a4rsrq'][3]}}|{{results_ss['a3rsrp'][3]}}|{{results_ss['nn1'][3]}}|{{results_ss['nn2'][3]}}|{{results_ss['nn3'][3]}}|{{results_ss['best_choice'][3]}}|\n",
    "|Tempo médio de download para os downloads completos (s)|{{results_ss['a2a4rsrp'][4]}}|{{results_ss['a2a4rsrq'][4]}}|{{results_ss['a3rsrp'][4]}}|{{results_ss['nn1'][4]}}|{{results_ss['nn2'][4]}}|{{results_ss['nn3'][4]}}|{{results_ss['best_choice'][4]}}|\n",
    "|Throughput médio (Mbps)|{{results_ss['a2a4rsrp'][5]}}|{{results_ss['a2a4rsrq'][5]}}|{{results_ss['a3rsrp'][5]}}|{{results_ss['nn1'][5]}}|{{results_ss['nn2'][5]}}|{{results_ss['nn3'][5]}}|{{results_ss['best_choice'][5]}}|"
   ]
  },
  {
   "cell_type": "markdown",
   "metadata": {
    "collapsed": true
   },
   "source": [
    "# Com Shadowing"
   ]
  },
  {
   "cell_type": "code",
   "execution_count": 196,
   "metadata": {
    "collapsed": false
   },
   "outputs": [
    {
     "data": {
      "text/html": [
       "<div>\n",
       "<table border=\"1\" class=\"dataframe\">\n",
       "  <thead>\n",
       "    <tr style=\"text-align: right;\">\n",
       "      <th></th>\n",
       "      <th>nRun</th>\n",
       "      <th>angle</th>\n",
       "      <th>rsrp1</th>\n",
       "      <th>rsrq1</th>\n",
       "      <th>rsrp2</th>\n",
       "      <th>rsrq2</th>\n",
       "      <th>rsrp3</th>\n",
       "      <th>rsrq3</th>\n",
       "      <th>previousrsrp1</th>\n",
       "      <th>previousrsrq1</th>\n",
       "      <th>previousrsrp2</th>\n",
       "      <th>previousrsrq2</th>\n",
       "      <th>previousrsrp3</th>\n",
       "      <th>previousrsrq3</th>\n",
       "      <th>downloadTimeT2</th>\n",
       "      <th>downloadTimeT3</th>\n",
       "      <th>rxBytesT2</th>\n",
       "      <th>rxBytesT3</th>\n",
       "      <th>best_output</th>\n",
       "    </tr>\n",
       "  </thead>\n",
       "  <tbody>\n",
       "    <tr>\n",
       "      <th>0</th>\n",
       "      <td>2</td>\n",
       "      <td>-43.55760</td>\n",
       "      <td>-0.106014</td>\n",
       "      <td>0.830070</td>\n",
       "      <td>-0.288743</td>\n",
       "      <td>-0.003553</td>\n",
       "      <td>-1.092028</td>\n",
       "      <td>-1.184278</td>\n",
       "      <td>-0.119900</td>\n",
       "      <td>0.807628</td>\n",
       "      <td>-0.282842</td>\n",
       "      <td>0.007617</td>\n",
       "      <td>-1.090884</td>\n",
       "      <td>-1.176219</td>\n",
       "      <td>100.0000</td>\n",
       "      <td>100.0000</td>\n",
       "      <td>14300448</td>\n",
       "      <td>14300448</td>\n",
       "      <td>0</td>\n",
       "    </tr>\n",
       "    <tr>\n",
       "      <th>1</th>\n",
       "      <td>4</td>\n",
       "      <td>-12.93740</td>\n",
       "      <td>0.519382</td>\n",
       "      <td>-0.217427</td>\n",
       "      <td>0.345789</td>\n",
       "      <td>-0.056118</td>\n",
       "      <td>1.327790</td>\n",
       "      <td>1.299777</td>\n",
       "      <td>0.525384</td>\n",
       "      <td>-0.185639</td>\n",
       "      <td>0.345067</td>\n",
       "      <td>-0.055587</td>\n",
       "      <td>1.328191</td>\n",
       "      <td>1.309475</td>\n",
       "      <td>55.6891</td>\n",
       "      <td>41.7761</td>\n",
       "      <td>15728640</td>\n",
       "      <td>15728640</td>\n",
       "      <td>1</td>\n",
       "    </tr>\n",
       "    <tr>\n",
       "      <th>2</th>\n",
       "      <td>5</td>\n",
       "      <td>-20.81640</td>\n",
       "      <td>-1.785429</td>\n",
       "      <td>-1.975910</td>\n",
       "      <td>-0.100970</td>\n",
       "      <td>0.631632</td>\n",
       "      <td>-1.481750</td>\n",
       "      <td>-0.839246</td>\n",
       "      <td>-1.786548</td>\n",
       "      <td>-2.011845</td>\n",
       "      <td>-0.094328</td>\n",
       "      <td>0.642014</td>\n",
       "      <td>-1.479575</td>\n",
       "      <td>-0.827879</td>\n",
       "      <td>100.0000</td>\n",
       "      <td>100.0000</td>\n",
       "      <td>1836064</td>\n",
       "      <td>1836064</td>\n",
       "      <td>0</td>\n",
       "    </tr>\n",
       "    <tr>\n",
       "      <th>3</th>\n",
       "      <td>7</td>\n",
       "      <td>28.78270</td>\n",
       "      <td>-2.194676</td>\n",
       "      <td>-0.551222</td>\n",
       "      <td>-6.028444</td>\n",
       "      <td>-5.539492</td>\n",
       "      <td>-1.434826</td>\n",
       "      <td>1.171754</td>\n",
       "      <td>-2.192872</td>\n",
       "      <td>-0.578908</td>\n",
       "      <td>-6.038922</td>\n",
       "      <td>-5.530260</td>\n",
       "      <td>-1.431844</td>\n",
       "      <td>1.199927</td>\n",
       "      <td>100.0000</td>\n",
       "      <td>100.0000</td>\n",
       "      <td>1675336</td>\n",
       "      <td>1675336</td>\n",
       "      <td>0</td>\n",
       "    </tr>\n",
       "    <tr>\n",
       "      <th>4</th>\n",
       "      <td>10</td>\n",
       "      <td>-4.90765</td>\n",
       "      <td>0.209727</td>\n",
       "      <td>0.775280</td>\n",
       "      <td>-0.088671</td>\n",
       "      <td>-0.025874</td>\n",
       "      <td>-0.188449</td>\n",
       "      <td>-0.152633</td>\n",
       "      <td>0.229092</td>\n",
       "      <td>0.770162</td>\n",
       "      <td>-0.089649</td>\n",
       "      <td>-0.045163</td>\n",
       "      <td>-0.193488</td>\n",
       "      <td>-0.210221</td>\n",
       "      <td>100.0000</td>\n",
       "      <td>100.0000</td>\n",
       "      <td>9988304</td>\n",
       "      <td>14768152</td>\n",
       "      <td>1</td>\n",
       "    </tr>\n",
       "  </tbody>\n",
       "</table>\n",
       "</div>"
      ],
      "text/plain": [
       "   nRun     angle     rsrp1     rsrq1     rsrp2     rsrq2     rsrp3     rsrq3  \\\n",
       "0     2 -43.55760 -0.106014  0.830070 -0.288743 -0.003553 -1.092028 -1.184278   \n",
       "1     4 -12.93740  0.519382 -0.217427  0.345789 -0.056118  1.327790  1.299777   \n",
       "2     5 -20.81640 -1.785429 -1.975910 -0.100970  0.631632 -1.481750 -0.839246   \n",
       "3     7  28.78270 -2.194676 -0.551222 -6.028444 -5.539492 -1.434826  1.171754   \n",
       "4    10  -4.90765  0.209727  0.775280 -0.088671 -0.025874 -0.188449 -0.152633   \n",
       "\n",
       "   previousrsrp1  previousrsrq1  previousrsrp2  previousrsrq2  previousrsrp3  \\\n",
       "0      -0.119900       0.807628      -0.282842       0.007617      -1.090884   \n",
       "1       0.525384      -0.185639       0.345067      -0.055587       1.328191   \n",
       "2      -1.786548      -2.011845      -0.094328       0.642014      -1.479575   \n",
       "3      -2.192872      -0.578908      -6.038922      -5.530260      -1.431844   \n",
       "4       0.229092       0.770162      -0.089649      -0.045163      -0.193488   \n",
       "\n",
       "   previousrsrq3  downloadTimeT2  downloadTimeT3  rxBytesT2  rxBytesT3  \\\n",
       "0      -1.176219        100.0000        100.0000   14300448   14300448   \n",
       "1       1.309475         55.6891         41.7761   15728640   15728640   \n",
       "2      -0.827879        100.0000        100.0000    1836064    1836064   \n",
       "3       1.199927        100.0000        100.0000    1675336    1675336   \n",
       "4      -0.210221        100.0000        100.0000    9988304   14768152   \n",
       "\n",
       "   best_output  \n",
       "0            0  \n",
       "1            1  \n",
       "2            0  \n",
       "3            0  \n",
       "4            1  "
      ]
     },
     "execution_count": 196,
     "metadata": {},
     "output_type": "execute_result"
    }
   ],
   "source": [
    "t2 = pd.read_csv('resultados/t2_OhBuildings_ComShadowing_Modificado', delimiter='\\t')\n",
    "t3 = pd.read_csv('resultados/t3_OhBuildings_ComShadowing_Modificado', delimiter='\\t')\n",
    "\n",
    "t2 = t2[t2.nRun.isin(t3.nRun)]\n",
    "t2.reset_index(drop=True, inplace=True)\n",
    "t3 = t3[t3.nRun.isin(t2.nRun)]\n",
    "t3.reset_index(drop=True, inplace=True)\n",
    "\n",
    "a3rsrp = pd.read_csv('resultados/A3RSRP_OhBuildings_ComShadowing_Modificado', delimiter='\\t')\n",
    "a2a4rsrq = pd.read_csv('resultados/A2A4RSRQ_OhBuildings_ComShadowing_Modificado', delimiter='\\t')\n",
    "\n",
    "t2_runs = t2.nRun\n",
    "t3_runs = t3.nRun\n",
    "a3rsrp_runs = a3rsrp.nRun\n",
    "a2a4rsrq_runs = a2a4rsrq.nRun\n",
    "valid_results = t2[t2.rsrp1==t3.rsrp1].nRun\n",
    "valid_runs = set(t2_runs).intersection(t3_runs).intersection(a3rsrp_runs).intersection(a2a4rsrq_runs).intersection(valid_results)\n",
    "\n",
    "t2 = t2[t2.nRun.isin(valid_runs)]\n",
    "t3 = t3[t3.nRun.isin(valid_runs)]\n",
    "a3rsrp = a3rsrp[a3rsrp.nRun.isin(valid_runs)]\n",
    "a2a4rsrq = a2a4rsrq[a2a4rsrq.nRun.isin(valid_runs)]\n",
    "\n",
    "t2.reset_index(drop=True, inplace=True)\n",
    "t3.reset_index(drop=True, inplace=True)\n",
    "a3rsrp.reset_index(drop=True, inplace=True)\n",
    "a2a4rsrq.reset_index(drop=True, inplace=True)\n",
    "\n",
    "# combinando os datasets\n",
    "data = t2\n",
    "data = data.drop(['targetCellId', 'downloadTime', 'rxBytes'], axis=1)\n",
    "data['downloadTimeT2'] = t2.downloadTime\n",
    "data['downloadTimeT3'] = t3.downloadTime\n",
    "data['rxBytesT2'] = t2.rxBytes\n",
    "data['rxBytesT3'] = t3.rxBytes\n",
    "\n",
    "data['best_output'] = data.apply(best_output, axis=1)\n",
    "\n",
    "original_data = data\n",
    "data = (data - data.mean()) / (data.std())\n",
    "data[['nRun','angle','downloadTimeT2','downloadTimeT3','rxBytesT2','rxBytesT3','best_output']] = original_data[['nRun','angle','downloadTimeT2','downloadTimeT3','rxBytesT2','rxBytesT3','best_output']]\n",
    "\n",
    "data.head()"
   ]
  },
  {
   "cell_type": "code",
   "execution_count": 197,
   "metadata": {
    "collapsed": false
   },
   "outputs": [],
   "source": [
    "teste = data.iloc[800:1000]\n",
    "data = data.iloc[0:800]"
   ]
  },
  {
   "cell_type": "code",
   "execution_count": 198,
   "metadata": {
    "collapsed": true
   },
   "outputs": [],
   "source": [
    "a3rsrp_teste = a3rsrp.loc[800:999]\n",
    "a2a4rsrq_teste = a2a4rsrq.loc[800:999]"
   ]
  },
  {
   "cell_type": "code",
   "execution_count": 199,
   "metadata": {
    "collapsed": false
   },
   "outputs": [
    {
     "data": {
      "text/plain": [
       "<matplotlib.axes._subplots.AxesSubplot at 0x7ff86d6aae48>"
      ]
     },
     "execution_count": 199,
     "metadata": {},
     "output_type": "execute_result"
    },
    {
     "data": {
      "image/png": "[encoded data removed]",
      "text/plain": [
       "<matplotlib.figure.Figure at 0x7ff86d689668>"
      ]
     },
     "metadata": {},
     "output_type": "display_data"
    }
   ],
   "source": [
    "import seaborn as sns\n",
    "features = data[['rsrp1','rsrq1','rsrp2','rsrq2','rsrp3','rsrq3','previousrsrp1','previousrsrq1','previousrsrp2','previousrsrq2','previousrsrp3','previousrsrq3', 'best_output']]\n",
    "features = features.rename(columns={'rsrp1': 'RSRP eNB 1', 'rsrq1': 'RSRQ eNB 1', 'rsrp2': 'RSRP eNB 2', 'rsrq2': 'RSRQ eNB 2', 'rsrp3': 'RSRP eNB 3', 'rsrq3': 'RSRQ eNB 3', 'previousrsrp1': 'RSRP eNB 1 (anterior)', 'previousrsrq1': 'RSRQ eNB 1 (anterior)', 'previousrsrp2': 'RSRP eNB 2 (anterior)', 'previousrsrq2': 'RSRQ eNB 2 (anterior)', 'previousrsrp3': 'RSRP eNB 3 (anterior)', 'previousrsrq3': 'RSRQ eNB 3 (anterior)', 'best_output': 'Melhor Target'})\n",
    "sns.heatmap(features.corr())"
   ]
  },
  {
   "cell_type": "code",
   "execution_count": 200,
   "metadata": {
    "collapsed": false
   },
   "outputs": [],
   "source": [
    "param_test = {'hidden_layer_sizes': [(i) for i in range(1,101)]}"
   ]
  },
  {
   "cell_type": "markdown",
   "metadata": {},
   "source": [
    "### Estratégia 1"
   ]
  },
  {
   "cell_type": "code",
   "execution_count": 201,
   "metadata": {
    "collapsed": false
   },
   "outputs": [
    {
     "name": "stdout",
     "output_type": "stream",
     "text": [
      "{'hidden_layer_sizes': 3}\n",
      "0.89625\n",
      "{'hidden_layer_sizes': 1}\n",
      "0.775\n"
     ]
    }
   ],
   "source": [
    "# A: Download Completo ou Incompleto (para todas as amostras)\n",
    "nn1_a_input = data[['rsrp1','rsrq1','rsrp2','rsrq2','rsrp3','rsrq3','previousrsrp1','previousrsrq1','previousrsrp2','previousrsrq2','previousrsrp3','previousrsrq3']]\n",
    "\n",
    "# NN A para T2\n",
    "nn1_a0_output = (data.downloadTimeT2<100).astype(int)\n",
    "nn1_a0 = GridSearchCV(estimator=MLPClassifier(solver='lbfgs', random_state=1, validation_fraction=0.25), param_grid=param_test, cv=5, scoring='roc_auc')\n",
    "nn1_a0.fit(nn1_a_input.as_matrix(), nn1_a0_output);\n",
    "\n",
    "print (nn1_a0.best_params_)\n",
    "print ((nn1_a0.predict(nn1_a_input)==(data.downloadTimeT2<100).astype(int)).sum()/data.shape[0])\n",
    "\n",
    "# NN A para T3\n",
    "nn1_a1_output = (data.downloadTimeT3<100).astype(int)\n",
    "nn1_a1 = GridSearchCV(estimator=MLPClassifier(solver='lbfgs', random_state=1, validation_fraction=0.25), param_grid=param_test, cv=5, scoring='roc_auc')\n",
    "nn1_a1.fit(nn1_a_input.as_matrix(), nn1_a1_output);\n",
    "\n",
    "print (nn1_a1.best_params_)\n",
    "print ((nn1_a1.predict(nn1_a_input)==(data.downloadTimeT3<100).astype(int)).sum()/data.shape[0])"
   ]
  },
  {
   "cell_type": "code",
   "execution_count": 202,
   "metadata": {
    "collapsed": false
   },
   "outputs": [
    {
     "name": "stdout",
     "output_type": "stream",
     "text": [
      "{'hidden_layer_sizes': 6}\n",
      "18.7796979425\n",
      "{'hidden_layer_sizes': 1}\n",
      "150.390398412\n"
     ]
    }
   ],
   "source": [
    "# B: Tempo de Download (para amostras em que ambos os targets completam o download)\n",
    "nn1_b_input = data[(data.downloadTimeT2<100)&(data.downloadTimeT3<100)][['rsrp1','rsrq1','rsrp2','rsrq2','rsrp3','rsrq3','previousrsrp1','previousrsrq1','previousrsrp2','previousrsrq2','previousrsrp3','previousrsrq3']]\n",
    "# NN B para T2\n",
    "nn1_b0_output = data[(data.downloadTimeT2<100)&(data.downloadTimeT3<100)].downloadTimeT2\n",
    "nn1_b0 = GridSearchCV(estimator=MLPRegressor(solver='lbfgs', random_state=1, validation_fraction=0.25), param_grid=param_test, cv=5)\n",
    "nn1_b0.fit(nn1_b_input.as_matrix(), nn1_b0_output);\n",
    "\n",
    "print (nn1_b0.best_params_)\n",
    "print (mean_squared_error(nn1_b0.predict(nn1_b_input),data[(data.downloadTimeT2<100)&(data.downloadTimeT3<100)].downloadTimeT2))\n",
    "\n",
    "# NN B para T3\n",
    "nn1_b1_output = data[(data.downloadTimeT2<100)&(data.downloadTimeT3<100)].downloadTimeT3\n",
    "nn1_b1 = GridSearchCV(estimator=MLPRegressor(solver='lbfgs', random_state=1, validation_fraction=0.25), param_grid=param_test, cv=5)\n",
    "nn1_b1.fit(nn1_b_input.as_matrix(), nn1_b1_output);\n",
    "\n",
    "print (nn1_b1.best_params_)\n",
    "print (mean_squared_error(nn1_b1.predict(nn1_b_input),data[(data.downloadTimeT2<100)&(data.downloadTimeT3<100)].downloadTimeT3))"
   ]
  },
  {
   "cell_type": "code",
   "execution_count": 203,
   "metadata": {
    "collapsed": false
   },
   "outputs": [
    {
     "name": "stdout",
     "output_type": "stream",
     "text": [
      "{'hidden_layer_sizes': 5}\n",
      "9.22159880358e+12\n",
      "{'hidden_layer_sizes': 4}\n",
      "9.56200196887e+12\n"
     ]
    }
   ],
   "source": [
    "# C: RxBytes (para amostras em que ambos os targets não completam o download)\n",
    "nn1_c_input = data[(data.downloadTimeT2>=100)&(data.downloadTimeT3>=100)][['rsrp1','rsrq1','rsrp2','rsrq2','rsrp3','rsrq3','previousrsrp1','previousrsrq1','previousrsrp2','previousrsrq2','previousrsrp3','previousrsrq3']]\n",
    "# NN B para T2\n",
    "nn1_c0_output = data[(data.downloadTimeT2>=100)&(data.downloadTimeT3>=100)].rxBytesT2\n",
    "nn1_c0 = GridSearchCV(estimator=MLPRegressor(solver='lbfgs', random_state=1, validation_fraction=0.25), param_grid=param_test, cv=5)\n",
    "nn1_c0.fit(nn1_c_input.as_matrix(), nn1_c0_output);\n",
    "\n",
    "print (nn1_c0.best_params_)\n",
    "print (mean_squared_error(nn1_c0.predict(nn1_c_input),data[(data.downloadTimeT2>=100)&(data.downloadTimeT3>=100)].rxBytesT2))\n",
    "\n",
    "\n",
    "# NN B para T3\n",
    "nn1_c1_output = data[(data.downloadTimeT2>=100)&(data.downloadTimeT3>=100)].rxBytesT3\n",
    "nn1_c1 = GridSearchCV(estimator=MLPRegressor(solver='lbfgs', random_state=1, validation_fraction=0.25), param_grid=param_test, cv=5)\n",
    "nn1_c1.fit(nn1_c_input.as_matrix(), nn1_c1_output);\n",
    "\n",
    "print (nn1_c1.best_params_)\n",
    "print (mean_squared_error(nn1_c1.predict(nn1_c_input),data[(data.downloadTimeT2>=100)&(data.downloadTimeT3>=100)].rxBytesT3))"
   ]
  },
  {
   "cell_type": "code",
   "execution_count": 204,
   "metadata": {
    "collapsed": false
   },
   "outputs": [
    {
     "data": {
      "text/plain": [
       "0.69999999999999996"
      ]
     },
     "execution_count": 204,
     "metadata": {},
     "output_type": "execute_result"
    }
   ],
   "source": [
    "def nn1_func(row):\n",
    "    nn1_input = row[['rsrp1','rsrq1','rsrp2','rsrq2','rsrp3','rsrq3','previousrsrp1','previousrsrq1','previousrsrp2','previousrsrq2','previousrsrp3','previousrsrq3']].values.reshape(1, -1)\n",
    "    # Nível 1A\n",
    "    # se o downloadTime previsto é menor que 100 para T2 e T3, ambos os targets completam o download\n",
    "    if ((nn1_a0.predict(nn1_input)==1)&(nn1_a1.predict(nn1_input)==1)):\n",
    "        # Nível 2B\n",
    "        # o melhor output será aquele para o qual o downloadTime previsto é menor\n",
    "        if (nn1_b0.predict(nn1_input)<=nn1_b1.predict(nn1_input)):\n",
    "            return 0\n",
    "        else:\n",
    "            return 1\n",
    "    \n",
    "    # se o downloadTime previsto é menor que 100 apenas para um dos targets, só um deles completa o download\n",
    "    elif ((nn1_a0.predict(nn1_input)==1)|(nn1_a1.predict(nn1_input)==1)):\n",
    "        # o melhor output será aquele para o qual o downloadTime previsto é menor que 100\n",
    "        if (nn1_a0.predict(nn1_input)==1):\n",
    "            return 0\n",
    "        else:\n",
    "            return 1\n",
    "        \n",
    "    # se o downloadTime previsto é menor que 100 para ambos os targets\n",
    "    elif ((nn1_a0.predict(nn1_input)==0)&(nn1_a1.predict(nn1_input)==0)):\n",
    "        # o melhor output será aquele para o qual o rxBytes previsto é maior\n",
    "        if (nn1_c0.predict(nn1_input)>=nn1_c1.predict(nn1_input)):\n",
    "            return 0\n",
    "        else:\n",
    "            return 1      \n",
    "        \n",
    "((nn1_a_input.apply(nn1_func, axis=1)==data.best_output).sum())/data.best_output.size        "
   ]
  },
  {
   "cell_type": "markdown",
   "metadata": {},
   "source": [
    "### Estratégia 2"
   ]
  },
  {
   "cell_type": "code",
   "execution_count": 205,
   "metadata": {
    "collapsed": false
   },
   "outputs": [
    {
     "name": "stdout",
     "output_type": "stream",
     "text": [
      "{'hidden_layer_sizes': 11}\n",
      "0.8075\n",
      "{'hidden_layer_sizes': 1}\n",
      "0.76875\n"
     ]
    }
   ],
   "source": [
    "# A: Download Completo ou Incompleto (para todas as amostras)\n",
    "\n",
    "# NN A para T2\n",
    "nn2_a0_input = data[['rsrp2','rsrq2','previousrsrp2','previousrsrq2']]\n",
    "nn2_a0_output = (data.downloadTimeT2<100).astype(int)\n",
    "nn2_a0 = GridSearchCV(estimator=MLPClassifier(solver='lbfgs', random_state=1, validation_fraction=0.25), param_grid=param_test, scoring='roc_auc', cv=5)\n",
    "nn2_a0.fit(nn2_a0_input.as_matrix(), nn2_a0_output);\n",
    "\n",
    "print (nn2_a0.best_params_)\n",
    "print ((nn2_a0.predict(nn2_a0_input)==(data.downloadTimeT2<100).astype(int)).sum()/data.shape[0])\n",
    "\n",
    "\n",
    "# NN A para T3\n",
    "nn2_a1_input = data[['rsrp3','rsrq3','previousrsrp3','previousrsrq3']]\n",
    "nn2_a1_output = (data.downloadTimeT3<100).astype(int)\n",
    "nn2_a1 = GridSearchCV(estimator=MLPClassifier(solver='lbfgs', random_state=1, validation_fraction=0.25), param_grid=param_test, scoring='roc_auc', cv=5)\n",
    "nn2_a1.fit(nn2_a1_input.as_matrix(), nn2_a1_output);\n",
    "\n",
    "print (nn2_a1.best_params_)\n",
    "print ((nn2_a1.predict(nn2_a1_input)==(data.downloadTimeT3<100).astype(int)).sum()/data.shape[0])"
   ]
  },
  {
   "cell_type": "code",
   "execution_count": 206,
   "metadata": {
    "collapsed": false
   },
   "outputs": [
    {
     "name": "stdout",
     "output_type": "stream",
     "text": [
      "{'hidden_layer_sizes': 2}\n",
      "48.1649992727\n",
      "{'hidden_layer_sizes': 10}\n",
      "124.380841971\n"
     ]
    }
   ],
   "source": [
    "# B: Tempo de Download (para amostras em que ambos os targets completam o download)\n",
    "\n",
    "param_test = {'hidden_layer_sizes':[(i) for i in range(1,101)]}\n",
    "\n",
    "# NN B para T2\n",
    "nn2_b0_input = data[(data.downloadTimeT2<100)&(data.downloadTimeT3<100)][['rsrp2','rsrq2','previousrsrp2','previousrsrq2']]\n",
    "nn2_b0_output = data[(data.downloadTimeT2<100)&(data.downloadTimeT3<100)].downloadTimeT2\n",
    "nn2_b0 = GridSearchCV(estimator=MLPRegressor(solver='lbfgs', random_state=1, validation_fraction=0.25), param_grid=param_test, cv=5)\n",
    "nn2_b0.fit(nn2_b0_input.as_matrix(), nn2_b0_output);\n",
    "\n",
    "print (nn2_b0.best_params_)\n",
    "print (mean_squared_error(nn2_b0.predict(nn2_b0_input),data[(data.downloadTimeT2<100)&(data.downloadTimeT3<100)].downloadTimeT2))\n",
    "\n",
    "\n",
    "# NN B para T3\n",
    "nn2_b1_input = data[(data.downloadTimeT2<100)&(data.downloadTimeT3<100)][['rsrp3','rsrq3','previousrsrp3','previousrsrq3']]\n",
    "nn2_b1_output = data[(data.downloadTimeT2<100)&(data.downloadTimeT3<100)].downloadTimeT3\n",
    "nn2_b1 = GridSearchCV(estimator=MLPRegressor(solver='lbfgs', random_state=1, validation_fraction=0.25), param_grid=param_test, cv=5)\n",
    "nn2_b1.fit(nn2_b1_input.as_matrix(), nn2_b1_output);\n",
    "\n",
    "print (nn2_b1.best_params_)\n",
    "print (mean_squared_error(nn2_b1.predict(nn2_b1_input),data[(data.downloadTimeT2<100)&(data.downloadTimeT3<100)].downloadTimeT3))"
   ]
  },
  {
   "cell_type": "code",
   "execution_count": 207,
   "metadata": {
    "collapsed": false
   },
   "outputs": [
    {
     "name": "stdout",
     "output_type": "stream",
     "text": [
      "{'hidden_layer_sizes': 79}\n",
      "1.2158271239e+13\n",
      "{'hidden_layer_sizes': 11}\n",
      "1.47858201507e+13\n"
     ]
    }
   ],
   "source": [
    "# C: Bytes Recebidos (para amostras em que ambos os targets não completam o download)\n",
    "\n",
    "# NN C para T2\n",
    "nn2_c0_input = data[(data.downloadTimeT2>=100)&(data.downloadTimeT3>=100)][['rsrp2','rsrq2','previousrsrp2','previousrsrq2']]\n",
    "nn2_c0_output = data[(data.downloadTimeT2>=100)&(data.downloadTimeT3>=100)].rxBytesT2\n",
    "nn2_c0 = GridSearchCV(estimator=MLPRegressor(solver='lbfgs', random_state=1, validation_fraction=0.25), param_grid=param_test, cv=5)\n",
    "nn2_c0.fit(nn2_c0_input.as_matrix(), nn2_c0_output);\n",
    "\n",
    "print (nn2_c0.best_params_)\n",
    "print (mean_squared_error(nn2_c0.predict(nn2_c0_input),data[(data.downloadTimeT2>=100)&(data.downloadTimeT3>=100)].rxBytesT2))\n",
    "\n",
    "# NN C para T3\n",
    "nn2_c1_input = data[(data.downloadTimeT2>=100)&(data.downloadTimeT3>=100)][['rsrp3','rsrq3','previousrsrp3','previousrsrq3']]\n",
    "nn2_c1_output = data[(data.downloadTimeT2>=100)&(data.downloadTimeT3>=100)].rxBytesT3\n",
    "nn2_c1 = GridSearchCV(estimator=MLPRegressor(solver='lbfgs', random_state=1, validation_fraction=0.25), param_grid=param_test, cv=5)\n",
    "nn2_c1.fit(nn2_c1_input.as_matrix(), nn2_c1_output);\n",
    "\n",
    "print (nn2_c1.best_params_)\n",
    "print (mean_squared_error(nn2_c1.predict(nn2_c1_input),data[(data.downloadTimeT2>=100)&(data.downloadTimeT3>=100)].rxBytesT3))"
   ]
  },
  {
   "cell_type": "code",
   "execution_count": 208,
   "metadata": {
    "collapsed": false
   },
   "outputs": [
    {
     "data": {
      "text/plain": [
       "0.57999999999999996"
      ]
     },
     "execution_count": 208,
     "metadata": {},
     "output_type": "execute_result"
    }
   ],
   "source": [
    "def nn2_func(row):\n",
    "    nn2_a0_input = row[['rsrp2','rsrq2','previousrsrp2','previousrsrq2']].values.reshape(1, -1)\n",
    "    nn2_a1_input = row[['rsrp3','rsrq3','previousrsrp3','previousrsrq3']].values.reshape(1, -1)\n",
    "    \n",
    "    # Nível 1A\n",
    "    # se ambos os targets completam o download\n",
    "    if ((nn2_a0.predict(nn2_a0_input)==1)&(nn2_a1.predict(nn2_a1_input)==1)):\n",
    "        # Nível 2B\n",
    "        # o melhor output será aquele para o qual o downloadTime previsto é menor\n",
    "        nn2_b0_input = nn2_a0_input\n",
    "        nn2_b1_input = nn2_a0_input\n",
    "        if (nn2_b0.predict(nn2_b0_input)<=nn2_b1.predict(nn2_b1_input)):\n",
    "            return 0\n",
    "        else:\n",
    "            return 1\n",
    "    \n",
    "    # se apenas um dos targets completa o download\n",
    "    elif ((nn2_a0.predict(nn2_a0_input)==1)|(nn2_a1.predict(nn2_a1_input)==1)):\n",
    "        # o melhor output será aquele que completa o download, segundo a previsão\n",
    "        if (nn2_a0.predict(nn2_a0_input)==1):\n",
    "            return 0\n",
    "        else:\n",
    "            return 1\n",
    "        \n",
    "    # se apenas nenhum dos targets completa o download\n",
    "    elif ((nn2_a0.predict(nn2_a0_input)==0)&(nn2_a1.predict(nn2_a1_input)==0)):\n",
    "        # o melhor output será aquele para o qual o rxBytes previsto é maior\n",
    "        nn2_c0_input = nn2_a0_input\n",
    "        nn2_c1_input = nn2_a0_input\n",
    "        if (nn2_c0.predict(nn2_c0_input)>=nn2_c1.predict(nn2_c1_input)):\n",
    "            return 0\n",
    "        else:\n",
    "            return 1        \n",
    "        \n",
    "((data.apply(nn2_func, axis=1)==data.best_output).sum())/data.best_output.size"
   ]
  },
  {
   "cell_type": "markdown",
   "metadata": {},
   "source": [
    "### Estratégia 3"
   ]
  },
  {
   "cell_type": "code",
   "execution_count": 209,
   "metadata": {
    "collapsed": false
   },
   "outputs": [
    {
     "name": "stdout",
     "output_type": "stream",
     "text": [
      "{'hidden_layer_sizes': 3}\n",
      "0.855\n"
     ]
    }
   ],
   "source": [
    "nn3_input = data[['rsrp1','rsrq1','rsrp2','rsrq2','rsrp3','rsrq3','previousrsrp1','previousrsrq1','previousrsrp2','previousrsrq2','previousrsrp3','previousrsrq3']]\n",
    "nn3_output = data.best_output\n",
    "\n",
    "nn3 = GridSearchCV(estimator=MLPClassifier(solver='lbfgs', random_state=1, validation_fraction=0.25), param_grid=param_test, cv=5, scoring='roc_auc')\n",
    "\n",
    "nn3.fit(nn3_input.as_matrix(), nn3_output)\n",
    "\n",
    "def nn3_func(row):\n",
    "    nn3_input_ = row[['rsrp1','rsrq1','rsrp2','rsrq2','rsrp3','rsrq3','previousrsrp1','previousrsrq1','previousrsrp2','previousrsrq2','previousrsrp3','previousrsrq3']].values.reshape(1, -1)\n",
    "    return nn3.predict(nn3_input_)[0]\n",
    "\n",
    "print (nn3.best_params_)\n",
    "print (((nn3_input.apply(nn3_func, axis=1)==data.best_output).sum())/data.best_output.size)"
   ]
  },
  {
   "cell_type": "code",
   "execution_count": 210,
   "metadata": {
    "collapsed": false
   },
   "outputs": [],
   "source": [
    "teste['best_choice_download_complete'] = original_data.iloc[800:].apply(lambda x: download_complete(x, column='best_output'), axis=1)\n",
    "teste['best_choice_download_time'] = original_data.iloc[800:].apply(lambda x: download_time(x, column='best_output'), axis=1)\n",
    "teste['best_choice_throughput'] = original_data.iloc[800:].apply(lambda x: throughput(x, column='best_output'), axis=1)"
   ]
  },
  {
   "cell_type": "code",
   "execution_count": 211,
   "metadata": {
    "collapsed": false
   },
   "outputs": [],
   "source": [
    "teste['nn1'] = teste.apply(nn1_func, axis=1)\n",
    "teste['nn1_download_complete'] = teste.apply(lambda x: download_complete(x, column='nn1'), axis=1)\n",
    "teste['nn1_download_time'] = teste.apply(lambda x: download_time(x, column='nn1'), axis=1)\n",
    "teste['nn1_throughput'] = teste.apply(lambda x: throughput(x, column='nn1'), axis=1)"
   ]
  },
  {
   "cell_type": "code",
   "execution_count": 212,
   "metadata": {
    "collapsed": false
   },
   "outputs": [],
   "source": [
    "teste['nn2'] = teste.apply(nn2_func, axis=1)\n",
    "teste['nn2_download_complete'] = teste.apply(lambda x: download_complete(x, column='nn2'), axis=1)\n",
    "teste['nn2_download_time'] = teste.apply(lambda x: download_time(x, column='nn2'), axis=1)\n",
    "teste['nn2_throughput'] = teste.apply(lambda x: throughput(x, column='nn2'), axis=1)"
   ]
  },
  {
   "cell_type": "code",
   "execution_count": 213,
   "metadata": {
    "collapsed": false
   },
   "outputs": [],
   "source": [
    "teste['nn3'] = teste.apply(nn3_func, axis=1)\n",
    "teste['nn3_download_complete'] = teste.apply(lambda x: download_complete(x, column='nn3'), axis=1)\n",
    "teste['nn3_download_time'] = teste.apply(lambda x: download_time(x, column='nn3'), axis=1)\n",
    "teste['nn3_throughput'] = teste.apply(lambda x: throughput(x, column='nn3'), axis=1)"
   ]
  },
  {
   "cell_type": "markdown",
   "metadata": {},
   "source": [
    "\n",
    "### Estratégias Clássicas"
   ]
  },
  {
   "cell_type": "code",
   "execution_count": 214,
   "metadata": {
    "collapsed": false
   },
   "outputs": [],
   "source": [
    "teste['a2a4rsrp'] = original_data.iloc[800:].apply(a2a4rsrp, axis=1)\n",
    "teste['a2a4rsrp_download_complete'] = teste.apply(lambda x: download_complete(x, column='a2a4rsrp'), axis=1)\n",
    "teste['a2a4rsrp_download_time'] = teste.apply(lambda x: download_time(x, column='a2a4rsrp'), axis=1)\n",
    "teste['a2a4rsrp_throughput'] = teste.apply(lambda x: throughput(x, column='a2a4rsrp'), axis=1)"
   ]
  },
  {
   "cell_type": "code",
   "execution_count": 215,
   "metadata": {
    "collapsed": false
   },
   "outputs": [],
   "source": [
    "teste['a3rsrp_download_complete'] = (a3rsrp_teste.downloadTime<100).astype(int)\n",
    "teste['a3rsrp_download_time'] = a3rsrp_teste.apply(lambda x: x.downloadTime if (x.downloadTime<100) else float('NaN'), axis=1)\n",
    "teste['a3rsrp_throughput'] = (a3rsrp_teste.rxBytes/a3rsrp_teste.downloadTime)*8/1e6"
   ]
  },
  {
   "cell_type": "code",
   "execution_count": 216,
   "metadata": {
    "collapsed": false
   },
   "outputs": [],
   "source": [
    "teste['a2a4rsrq_download_complete'] = (a2a4rsrq_teste.downloadTime<100).astype(int)\n",
    "teste['a2a4rsrq_download_time'] = a2a4rsrq_teste.apply(lambda x: x.downloadTime if (x.downloadTime<100) else float('NaN'), axis=1)\n",
    "teste['a2a4rsrq_throughput'] = (a2a4rsrq_teste.rxBytes/a2a4rsrq_teste.downloadTime)*8/1e6"
   ]
  },
  {
   "cell_type": "markdown",
   "metadata": {},
   "source": [
    "#### Resultados - Cem Shadowing"
   ]
  },
  {
   "cell_type": "code",
   "execution_count": 217,
   "metadata": {
    "collapsed": false
   },
   "outputs": [],
   "source": [
    "estrategias = ['a2a4rsrp', 'a2a4rsrq', 'a3rsrp', 'nn1', 'nn2', 'nn3', 'best_choice']\n",
    "\n",
    "results_ss = {}\n",
    "casas = 3\n",
    "for estrategia in estrategias:\n",
    "    #print(\"\\n\\n\", estrategia)\n",
    "    #print(\"- Geral:\")\n",
    "    #print(\"Percentual de Downloads Completos: \", (teste[estrategia+\"_download_complete\"].sum()/teste.index.size)*100, \"%\")\n",
    "    #print(\"Tempo Médio de Download para os Downloads Completos: \", teste[estrategia+\"_download_time\"].mean(), \"s\")\n",
    "    #print(\"Throughput Médio: \", teste[estrategia+\"_throughput\"].mean(), \"Mbps\")\n",
    "    #print(\"- Para a região central [-30,0]:\")\n",
    "    #print(\"Percentual de Downloads Completos: \", (teste[(teste.angle>-30) & (teste.angle<0)][estrategia+\"_download_complete\"].sum()/teste[(teste.angle>-30) & (teste.angle<0)].index.size)*100, \"%\")\n",
    "    #print(\"Tempo Médio de Download para os Downloads Completos: \", teste[(teste.angle>-30) & (teste.angle<0)][estrategia+\"_download_time\"].mean(), \"s\")\n",
    "    #print(\"Throughput Médio: \", teste[(teste.angle>-30) & (teste.angle<0)][estrategia+\"_throughput\"].mean(), \"Mbps\")\n",
    "    results_ss[estrategia] = []\n",
    "    results_ss[estrategia].append(round((teste[estrategia+\"_download_complete\"].sum()/teste.index.size)*100,casas))\n",
    "    results_ss[estrategia].append(round(teste[estrategia+\"_download_time\"].mean(),casas))\n",
    "    results_ss[estrategia].append(round(teste[estrategia+\"_throughput\"].mean(),casas))\n",
    "    results_ss[estrategia].append(round((teste[(teste.angle>-30) & (teste.angle<0)][estrategia+\"_download_complete\"].sum()/teste[(teste.angle>-30) & (teste.angle<0)].index.size)*100,casas))\n",
    "    results_ss[estrategia].append(round(teste[(teste.angle>-30) & (teste.angle<0)][estrategia+\"_download_time\"].mean(),casas))\n",
    "    results_ss[estrategia].append(round(teste[(teste.angle>-30) & (teste.angle<0)][estrategia+\"_throughput\"].mean(),casas))"
   ]
  },
  {
   "cell_type": "markdown",
   "metadata": {},
   "source": [
    "#### Resultados para o conjunto de teste - OhBuildings com shadowing e DADOS NORMALIZADOS"
   ]
  },
  {
   "cell_type": "markdown",
   "metadata": {},
   "source": [
    "#### Geral"
   ]
  },
  {
   "cell_type": "markdown",
   "metadata": {
    "variables": {
     "results_ss['a2a4rsrp'][0]": "50.5",
     "results_ss['a2a4rsrp'][1]": "39.739",
     "results_ss['a2a4rsrp'][2]": "1.948",
     "results_ss['a2a4rsrq'][0]": "57.0",
     "results_ss['a2a4rsrq'][1]": "38.388",
     "results_ss['a2a4rsrq'][2]": "2.173",
     "results_ss['a3rsrp'][0]": "58.0",
     "results_ss['a3rsrp'][1]": "36.569",
     "results_ss['a3rsrp'][2]": "2.301",
     "results_ss['best_choice'][0]": "69.5",
     "results_ss['best_choice'][1]": "39.241",
     "results_ss['best_choice'][2]": "2.454",
     "results_ss['nn1'][0]": "58.5",
     "results_ss['nn1'][1]": "38.801",
     "results_ss['nn1'][2]": "2.175",
     "results_ss['nn2'][0]": "55.0",
     "results_ss['nn2'][1]": "38.263",
     "results_ss['nn2'][2]": "2.124",
     "results_ss['nn3'][0]": "61.5",
     "results_ss['nn3'][1]": "38.738",
     "results_ss['nn3'][2]": "2.268"
    }
   },
   "source": [
    "|   |A2A4RSRP|A2A4RSRQ|A3RSRP|NN1|NN2|NN3|BEST CHOICE|\n",
    "|---|---|---|---|---|---|---|---|\n",
    "|Downloads completos (%)|{{results_ss['a2a4rsrp'][0]}}|{{results_ss['a2a4rsrq'][0]}}|{{results_ss['a3rsrp'][0]}}|{{results_ss['nn1'][0]}}|{{results_ss['nn2'][0]}}|{{results_ss['nn3'][0]}}|{{results_ss['best_choice'][0]}}|\n",
    "|Tempo médio de download para os downloads completos (s)|{{results_ss['a2a4rsrp'][1]}}|{{results_ss['a2a4rsrq'][1]}}|{{results_ss['a3rsrp'][1]}}|{{results_ss['nn1'][1]}}|{{results_ss['nn2'][1]}}|{{results_ss['nn3'][1]}}|{{results_ss['best_choice'][1]}}|\n",
    "|Throughput médio (Mbps)|{{results_ss['a2a4rsrp'][2]}}|{{results_ss['a2a4rsrq'][2]}}|{{results_ss['a3rsrp'][2]}}|{{results_ss['nn1'][2]}}|{{results_ss['nn2'][2]}}|{{results_ss['nn3'][2]}}|{{results_ss['best_choice'][2]}}|"
   ]
  },
  {
   "cell_type": "markdown",
   "metadata": {},
   "source": [
    "#### Para a região central [-30,0]"
   ]
  },
  {
   "cell_type": "markdown",
   "metadata": {
    "variables": {
     "results_ss['a2a4rsrp'][3]": "47.761",
     "results_ss['a2a4rsrp'][4]": "43.193",
     "results_ss['a2a4rsrp'][5]": "1.745",
     "results_ss['a2a4rsrq'][3]": "56.716",
     "results_ss['a2a4rsrq'][4]": "42.488",
     "results_ss['a2a4rsrq'][5]": "2.007",
     "results_ss['a3rsrp'][3]": "49.254",
     "results_ss['a3rsrp'][4]": "41.227",
     "results_ss['a3rsrp'][5]": "1.855",
     "results_ss['best_choice'][3]": "59.701",
     "results_ss['best_choice'][4]": "40.993",
     "results_ss['best_choice'][5]": "2.095",
     "results_ss['nn1'][3]": "50.746",
     "results_ss['nn1'][4]": "40.645",
     "results_ss['nn1'][5]": "1.896",
     "results_ss['nn2'][3]": "44.776",
     "results_ss['nn2'][4]": "40.261",
     "results_ss['nn2'][5]": "1.762",
     "results_ss['nn3'][3]": "47.761",
     "results_ss['nn3'][4]": "41.1",
     "results_ss['nn3'][5]": "1.797"
    }
   },
   "source": [
    "|   |A2A4RSRP|A2A4RSRQ|A3RSRP|NN1|NN2|NN3|BEST CHOICE|\n",
    "|---|---|---|---|---|---|---|---|\n",
    "|Downloads completos (%)|{{results_ss['a2a4rsrp'][3]}}|{{results_ss['a2a4rsrq'][3]}}|{{results_ss['a3rsrp'][3]}}|{{results_ss['nn1'][3]}}|{{results_ss['nn2'][3]}}|{{results_ss['nn3'][3]}}|{{results_ss['best_choice'][3]}}|\n",
    "|Tempo médio de download para os downloads completos (s)|{{results_ss['a2a4rsrp'][4]}}|{{results_ss['a2a4rsrq'][4]}}|{{results_ss['a3rsrp'][4]}}|{{results_ss['nn1'][4]}}|{{results_ss['nn2'][4]}}|{{results_ss['nn3'][4]}}|{{results_ss['best_choice'][4]}}|\n",
    "|Throughput médio (Mbps)|{{results_ss['a2a4rsrp'][5]}}|{{results_ss['a2a4rsrq'][5]}}|{{results_ss['a3rsrp'][5]}}|{{results_ss['nn1'][5]}}|{{results_ss['nn2'][5]}}|{{results_ss['nn3'][5]}}|{{results_ss['best_choice'][5]}}|"
   ]
  },
  {
   "cell_type": "code",
   "execution_count": null,
   "metadata": {
    "collapsed": true
   },
   "outputs": [],
   "source": []
  }
 ],
 "metadata": {
  "kernelspec": {
   "display_name": "Python 3",
   "language": "python",
   "name": "python3"
  },
  "language_info": {
   "codemirror_mode": {
    "name": "ipython",
    "version": 3
   },
   "file_extension": ".py",
   "mimetype": "text/x-python",
   "name": "python",
   "nbconvert_exporter": "python",
   "pygments_lexer": "ipython3",
   "version": "3.6.0"
  }
 },
 "nbformat": 4,
 "nbformat_minor": 2
}
