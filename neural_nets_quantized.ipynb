{
 "cells": [
  {
   "cell_type": "code",
   "execution_count": null,
   "metadata": {
    "collapsed": true
   },
   "outputs": [],
   "source": []
  },
  {
   "cell_type": "code",
   "execution_count": 1,
   "metadata": {
    "collapsed": false
   },
   "outputs": [
    {
     "data": {
      "text/html": [
       "<script>\n",
       "code_show=true; \n",
       "function code_toggle() {\n",
       " if (code_show){\n",
       " $('div.input').hide();\n",
       " } else {\n",
       " $('div.input').show();\n",
       " }\n",
       " code_show = !code_show\n",
       "} \n",
       "$( document ).ready(code_toggle);\n",
       "</script>\n",
       "<form action=\"javascript:code_toggle()\"><input type=\"submit\" value=\"Click here to toggle on/off the raw code.\"></form>"
      ],
      "text/plain": [
       "<IPython.core.display.HTML object>"
      ]
     },
     "execution_count": 1,
     "metadata": {},
     "output_type": "execute_result"
    }
   ],
   "source": [
    "from IPython.display import HTML\n",
    "\n",
    "HTML('''<script>\n",
    "code_show=true; \n",
    "function code_toggle() {\n",
    " if (code_show){\n",
    " $('div.input').hide();\n",
    " } else {\n",
    " $('div.input').show();\n",
    " }\n",
    " code_show = !code_show\n",
    "} \n",
    "$( document ).ready(code_toggle);\n",
    "</script>\n",
    "<form action=\"javascript:code_toggle()\"><input type=\"submit\" value=\"Click here to toggle on/off the raw code.\"></form>''')"
   ]
  },
  {
   "cell_type": "code",
   "execution_count": 2,
   "metadata": {
    "collapsed": true
   },
   "outputs": [],
   "source": [
    "import pandas as pd\n",
    "import numpy as np\n",
    "from sklearn.neural_network import MLPClassifier\n",
    "from sklearn.neural_network import MLPRegressor\n",
    "from sklearn.model_selection import GridSearchCV\n",
    "from sklearn.metrics import mean_squared_error\n",
    "import matplotlib.pyplot as plt\n",
    "%matplotlib inline"
   ]
  },
  {
   "cell_type": "code",
   "execution_count": 3,
   "metadata": {
    "collapsed": false
   },
   "outputs": [],
   "source": [
    "def best_output(row):\n",
    "    # se o downloadTime é diferente de 100 para T2 e T3, ambos os targets completam o download\n",
    "    if ((row.downloadTimeT2!=100)&(row.downloadTimeT3!=100)):\n",
    "        # o melhor output será aquele para o qual o downloadTime é menor\n",
    "        if (row.downloadTimeT2<=row.downloadTimeT3):\n",
    "            return 0\n",
    "        else:\n",
    "            return 1\n",
    "    \n",
    "    # se o downloadTime é diferente de 100 apenas para um dos targets, só um deles completa o download\n",
    "    elif ((row.downloadTimeT2!=100)|(row.downloadTimeT3!=100)):\n",
    "        # o melhor output será aquele para o qual o downloadTime é diferente de 100\n",
    "        if (row.downloadTimeT2!=100):\n",
    "            return 0\n",
    "        else:\n",
    "            return 1\n",
    "        \n",
    "    # se o downloadTime é igual a 100 para T2 e T3, ambos os targets não completam o download\n",
    "    elif ((row.downloadTimeT2==100)&(row.downloadTimeT3==100)):\n",
    "        # o melhor output será aquele para o qual o rxBytes é maior\n",
    "        if (row.rxBytesT2>=row.rxBytesT3):\n",
    "            return 0\n",
    "        else:\n",
    "            return 1"
   ]
  },
  {
   "cell_type": "code",
   "execution_count": 4,
   "metadata": {
    "collapsed": true
   },
   "outputs": [],
   "source": [
    "def download_complete(row, column):\n",
    "    if (row[column]==0):\n",
    "        if(row.downloadTimeT2!=100.0):\n",
    "            return 1\n",
    "        else:\n",
    "            return 0\n",
    "    else:\n",
    "        if(row.downloadTimeT3!=100.0):\n",
    "            return 1\n",
    "        else: \n",
    "            return 0\n",
    "\n",
    "        \n",
    "def download_time(row, column):\n",
    "    if ((row[column]==0)&(row.downloadTimeT2<100)):\n",
    "        return row.downloadTimeT2\n",
    "    elif ((row[column]==1)&(row.downloadTimeT3<100)):\n",
    "        return row.downloadTimeT3\n",
    "\n",
    "    \n",
    "def throughput(row, column):\n",
    "    if (row[column]==0):\n",
    "        tp = (row.rxBytesT2/row.downloadTimeT2)*8/1e6\n",
    "        return tp\n",
    "    else:\n",
    "        tp = (row.rxBytesT3/row.downloadTimeT3)*8/1e6\n",
    "        return tp"
   ]
  },
  {
   "cell_type": "code",
   "execution_count": 5,
   "metadata": {
    "collapsed": true
   },
   "outputs": [],
   "source": [
    "def optimum_choice(row, column):\n",
    "    if (row[column]==row.best_output):\n",
    "        return 1\n",
    "    else:\n",
    "        return 0"
   ]
  },
  {
   "cell_type": "code",
   "execution_count": 6,
   "metadata": {
    "collapsed": true
   },
   "outputs": [],
   "source": [
    "def a2a4rsrp(row):\n",
    "    if (row.rsrp2>=row.rsrp3):\n",
    "        return 0\n",
    "    else:\n",
    "        return 1"
   ]
  },
  {
   "cell_type": "markdown",
   "metadata": {},
   "source": [
    "# Sem Shadowing"
   ]
  },
  {
   "cell_type": "code",
   "execution_count": 1,
   "metadata": {
    "collapsed": false
   },
   "outputs": [
    {
     "ename": "NameError",
     "evalue": "name 'pd' is not defined",
     "output_type": "error",
     "traceback": [
      "\u001b[0;31m---------------------------------------------------------------------------\u001b[0m",
      "\u001b[0;31mNameError\u001b[0m                                 Traceback (most recent call last)",
      "\u001b[0;32m<ipython-input-1-f750e2d07c34>\u001b[0m in \u001b[0;36m<module>\u001b[0;34m()\u001b[0m\n\u001b[1;32m      1\u001b[0m \u001b[0;31m# importando os datasets\u001b[0m\u001b[0;34m\u001b[0m\u001b[0;34m\u001b[0m\u001b[0m\n\u001b[0;32m----> 2\u001b[0;31m \u001b[0mt2\u001b[0m \u001b[0;34m=\u001b[0m \u001b[0mpd\u001b[0m\u001b[0;34m.\u001b[0m\u001b[0mread_csv\u001b[0m\u001b[0;34m(\u001b[0m\u001b[0;34m'resultados/t2_OkumuraHata_Modificado'\u001b[0m\u001b[0;34m,\u001b[0m \u001b[0mdelimiter\u001b[0m\u001b[0;34m=\u001b[0m\u001b[0;34m'\\t'\u001b[0m\u001b[0;34m)\u001b[0m\u001b[0;34m\u001b[0m\u001b[0m\n\u001b[0m\u001b[1;32m      3\u001b[0m \u001b[0mt3\u001b[0m \u001b[0;34m=\u001b[0m \u001b[0mpd\u001b[0m\u001b[0;34m.\u001b[0m\u001b[0mread_csv\u001b[0m\u001b[0;34m(\u001b[0m\u001b[0;34m'resultados/t3_OkumuraHata_Modificado'\u001b[0m\u001b[0;34m,\u001b[0m \u001b[0mdelimiter\u001b[0m\u001b[0;34m=\u001b[0m\u001b[0;34m'\\t'\u001b[0m\u001b[0;34m)\u001b[0m\u001b[0;34m\u001b[0m\u001b[0m\n\u001b[1;32m      4\u001b[0m \u001b[0;34m\u001b[0m\u001b[0m\n\u001b[1;32m      5\u001b[0m \u001b[0;31m# garantindo que utilizaremos apenas as sementes presentes nos dois datasets\u001b[0m\u001b[0;34m\u001b[0m\u001b[0;34m\u001b[0m\u001b[0m\n",
      "\u001b[0;31mNameError\u001b[0m: name 'pd' is not defined"
     ]
    }
   ],
   "source": [
    "# importando os datasets\n",
    "t2 = pd.read_csv('resultados/t2_OkumuraHata_Modificado', delimiter='\\t')\n",
    "t3 = pd.read_csv('resultados/t3_OkumuraHata_Modificado', delimiter='\\t')\n",
    "\n",
    "# garantindo que utilizaremos apenas as sementes presentes nos dois datasets\n",
    "t2 = t2[t2.nRun.isin(t3.nRun)]\n",
    "t3 = t3[t3.nRun.isin(t2.nRun)]\n",
    "t2 = t2.reset_index(drop=True)\n",
    "t3 = t3.reset_index(drop=True)\n",
    "\n",
    "# combinando os datasets\n",
    "data = t2\n",
    "data = data.drop(['targetCellId', 'downloadTime', 'rxBytes'], axis=1)\n",
    "data['downloadTimeT2'] = t2.downloadTime\n",
    "data['downloadTimeT3'] = t3.downloadTime\n",
    "data['rxBytesT2'] = t2.rxBytes\n",
    "data['rxBytesT3'] = t3.rxBytes\n",
    "\n",
    "from ho_func import rsrp_value, rsrq_value\n",
    "\n",
    "data['rsrp1'] = data.rsrp1.apply(rsrp_value)\n",
    "data['rsrp2'] = data.rsrp2.apply(rsrp_value)\n",
    "data['rsrp3'] = data.rsrp3.apply(rsrp_value)\n",
    "data['previousrsrp1'] = data.previousrsrp1.apply(rsrp_value)\n",
    "data['previousrsrp2'] = data.previousrsrp2.apply(rsrp_value)\n",
    "data['previousrsrp3'] = data.previousrsrp3.apply(rsrp_value)\n",
    "data['rsrq1'] = data.rsrq1.apply(rsrq_value)\n",
    "data['rsrq2'] = data.rsrq2.apply(rsrq_value)\n",
    "data['rsrq3'] = data.rsrq3.apply(rsrq_value)\n",
    "data['previousrsrq1'] = data.previousrsrq1.apply(rsrq_value)\n",
    "data['previousrsrq2'] = data.previousrsrq2.apply(rsrq_value)\n",
    "data['previousrsrq3'] = data.previousrsrq3.apply(rsrq_value)\n",
    "\n",
    "# normalize\n",
    "original_data = data\n",
    "data = (data - data.mean()) / (data.std())\n",
    "data[['nRun','angle','downloadTimeT2','downloadTimeT3','rxBytesT2','rxBytesT3','best_output']] = original_data[['nRun','angle','downloadTimeT2','downloadTimeT3','rxBytesT2','rxBytesT3','best_output']]\n",
    "\n",
    "data['best_output'] = data.apply(best_output, axis=1)\n",
    "data.head()"
   ]
  },
  {
   "cell_type": "code",
   "execution_count": null,
   "metadata": {
    "collapsed": false
   },
   "outputs": [],
   "source": [
    "teste = data[data.nRun>800]\n",
    "data = data[data.nRun<=800]"
   ]
  },
  {
   "cell_type": "code",
   "execution_count": null,
   "metadata": {
    "collapsed": false
   },
   "outputs": [],
   "source": [
    "import seaborn as sns\n",
    "features = data[['rsrp1','rsrq1','rsrp2','rsrq2','rsrp3','rsrq3','previousrsrp1','previousrsrq1','previousrsrp2','previousrsrq2','previousrsrp3','previousrsrq3','best_output']]\n",
    "features = features.rename(columns={'rsrp1': 'RSRP eNB 1', 'rsrq1': 'RSRQ eNB 1', 'rsrp2': 'RSRP eNB 2', 'rsrq2': 'RSRQ eNB 2', 'rsrp3': 'RSRP eNB 3', 'rsrq3': 'RSRQ eNB 3', 'previousrsrp1': 'RSRP eNB 1 (anterior)', 'previousrsrq1': 'RSRQ eNB 1 (anterior)', 'previousrsrp2': 'RSRP eNB 2 (anterior)', 'previousrsrq2': 'RSRQ eNB 2 (anterior)', 'previousrsrp3': 'RSRP eNB 3 (anterior)', 'previousrsrq3': 'RSRQ eNB 3 (anterior)', 'best_output': 'Melhor Target'})\n",
    "sns.heatmap(features.corr())"
   ]
  },
  {
   "cell_type": "code",
   "execution_count": null,
   "metadata": {
    "collapsed": false
   },
   "outputs": [],
   "source": [
    "param_test = {'hidden_layer_sizes': [(i) for i in range(1,101)]}"
   ]
  },
  {
   "cell_type": "markdown",
   "metadata": {},
   "source": [
    "### Estratégia 1"
   ]
  },
  {
   "cell_type": "code",
   "execution_count": null,
   "metadata": {
    "collapsed": false
   },
   "outputs": [],
   "source": [
    "# A: Download Completo ou Incompleto (para todas as amostras)\n",
    "nn1_a_input = data[['rsrp1','rsrq1','rsrp2','rsrq2','rsrp3','rsrq3','previousrsrp1','previousrsrq1','previousrsrp2','previousrsrq2','previousrsrp3','previousrsrq3']]\n",
    "\n",
    "# NN A para T2\n",
    "nn1_a0_output = (data.downloadTimeT2<100).astype(int)\n",
    "nn1_a0 = GridSearchCV(estimator=MLPClassifier(solver='lbfgs', random_state=1, validation_fraction=0.25), param_grid=param_test, cv=5, scoring='roc_auc')\n",
    "nn1_a0.fit(nn1_a_input.as_matrix(), nn1_a0_output);\n",
    "\n",
    "print (nn1_a0.best_params_)\n",
    "print ((nn1_a0.predict(nn1_a_input)==(data.downloadTimeT2<100).astype(int)).sum()/data.shape[0])\n",
    "\n",
    "# NN A para T3\n",
    "nn1_a1_output = (data.downloadTimeT3<100).astype(int)\n",
    "nn1_a1 = GridSearchCV(estimator=MLPClassifier(solver='lbfgs', random_state=1, validation_fraction=0.25), param_grid=param_test, cv=5, scoring='roc_auc')\n",
    "nn1_a1.fit(nn1_a_input.as_matrix(), nn1_a1_output);\n",
    "\n",
    "print (nn1_a1.best_params_)\n",
    "print ((nn1_a1.predict(nn1_a_input)==(data.downloadTimeT3<100).astype(int)).sum()/data.shape[0])"
   ]
  },
  {
   "cell_type": "code",
   "execution_count": null,
   "metadata": {
    "collapsed": false
   },
   "outputs": [],
   "source": [
    "# B: Tempo de Download (para amostras em que ambos os targets completam o download)\n",
    "nn1_b_input = data[(data.downloadTimeT2<100)&(data.downloadTimeT3<100)][['rsrp1','rsrq1','rsrp2','rsrq2','rsrp3','rsrq3','previousrsrp1','previousrsrq1','previousrsrp2','previousrsrq2','previousrsrp3','previousrsrq3']]\n",
    "# NN B para T2\n",
    "nn1_b0_output = data[(data.downloadTimeT2<100)&(data.downloadTimeT3<100)].downloadTimeT2\n",
    "nn1_b0 = GridSearchCV(estimator=MLPRegressor(solver='lbfgs', random_state=1, validation_fraction=0.25), param_grid=param_test, cv=5)\n",
    "nn1_b0.fit(nn1_b_input.as_matrix(), nn1_b0_output);\n",
    "\n",
    "print (nn1_b0.best_params_)\n",
    "print (mean_squared_error(nn1_b0.predict(nn1_b_input),data[(data.downloadTimeT2<100)&(data.downloadTimeT3<100)].downloadTimeT2))\n",
    "\n",
    "# NN B para T3\n",
    "nn1_b1_output = data[(data.downloadTimeT2<100)&(data.downloadTimeT3<100)].downloadTimeT3\n",
    "nn1_b1 = GridSearchCV(estimator=MLPRegressor(solver='lbfgs', random_state=1, validation_fraction=0.25), param_grid=param_test, cv=5)\n",
    "nn1_b1.fit(nn1_b_input.as_matrix(), nn1_b1_output);\n",
    "\n",
    "print (nn1_b1.best_params_)\n",
    "print (mean_squared_error(nn1_b1.predict(nn1_b_input),data[(data.downloadTimeT2<100)&(data.downloadTimeT3<100)].downloadTimeT3))"
   ]
  },
  {
   "cell_type": "code",
   "execution_count": null,
   "metadata": {
    "collapsed": false
   },
   "outputs": [],
   "source": [
    "def nn1_func(row):\n",
    "    nn1_input = row[['rsrp1','rsrq1','rsrp2','rsrq2','rsrp3','rsrq3','previousrsrp1','previousrsrq1','previousrsrp2','previousrsrq2','previousrsrp3','previousrsrq3']].values.reshape(1, -1)\n",
    "    # Nível 1A\n",
    "    # se o downloadTime previsto é menor que 100 para T2 e T3, ambos os targets completam o download\n",
    "    if ((nn1_a0.predict(nn1_input)==1)&(nn1_a1.predict(nn1_input)==1)):\n",
    "        # Nível 2B\n",
    "        # o melhor output será aquele para o qual o downloadTime previsto é menor\n",
    "        if (nn1_b0.predict(nn1_input)<=nn1_b1.predict(nn1_input)):\n",
    "            return 0\n",
    "        else:\n",
    "            return 1\n",
    "    \n",
    "    # se o downloadTime previsto é menor que 100 apenas para um dos targets, só um deles completa o download\n",
    "    elif ((nn1_a0.predict(nn1_input)==1)|(nn1_a1.predict(nn1_input)==1)):\n",
    "        # o melhor output será aquele para o qual o downloadTime previsto é menor que 100\n",
    "        if (nn1_a0.predict(nn1_input)==1):\n",
    "            return 0\n",
    "        else:\n",
    "            return 1\n",
    "  \n",
    "        \n",
    "((nn1_a_input.apply(nn1_func, axis=1)==data.best_output).sum())/data.best_output.size        "
   ]
  },
  {
   "cell_type": "markdown",
   "metadata": {},
   "source": [
    "### Estratégia 2"
   ]
  },
  {
   "cell_type": "code",
   "execution_count": null,
   "metadata": {
    "collapsed": false
   },
   "outputs": [],
   "source": [
    "# A: Download Completo ou Incompleto (para todas as amostras)\n",
    "\n",
    "# NN A para T2\n",
    "nn2_a0_input = data[['rsrp2','rsrq2','previousrsrp2','previousrsrq2']]\n",
    "nn2_a0_output = (data.downloadTimeT2<100).astype(int)\n",
    "nn2_a0 = GridSearchCV(estimator=MLPClassifier(solver='lbfgs', random_state=1, validation_fraction=0.25), param_grid=param_test, scoring='roc_auc', cv=5)\n",
    "nn2_a0.fit(nn2_a0_input.as_matrix(), nn2_a0_output);\n",
    "\n",
    "print (nn2_a0.best_params_)\n",
    "print ((nn2_a0.predict(nn2_a0_input)==(data.downloadTimeT2<100).astype(int)).sum()/data.shape[0])\n",
    "\n",
    "\n",
    "# NN A para T3\n",
    "nn2_a1_input = data[['rsrp3','rsrq3','previousrsrp3','previousrsrq3']]\n",
    "nn2_a1_output = (data.downloadTimeT3<100).astype(int)\n",
    "nn2_a1 = GridSearchCV(estimator=MLPClassifier(solver='lbfgs', random_state=1, validation_fraction=0.25), param_grid=param_test, scoring='roc_auc', cv=5)\n",
    "nn2_a1.fit(nn2_a1_input.as_matrix(), nn2_a1_output);\n",
    "\n",
    "print (nn2_a1.best_params_)\n",
    "print ((nn2_a1.predict(nn2_a1_input)==(data.downloadTimeT3<100).astype(int)).sum()/data.shape[0])"
   ]
  },
  {
   "cell_type": "code",
   "execution_count": null,
   "metadata": {
    "collapsed": false
   },
   "outputs": [],
   "source": [
    "# B: Tempo de Download (para amostras em que ambos os targets completam o download)\n",
    "\n",
    "param_test = {'hidden_layer_sizes':[(i) for i in range(1,101)]}\n",
    "\n",
    "# NN B para T2\n",
    "nn2_b0_input = data[(data.downloadTimeT2<100)&(data.downloadTimeT3<100)][['rsrp2','rsrq2','previousrsrp2','previousrsrq2']]\n",
    "nn2_b0_output = data[(data.downloadTimeT2<100)&(data.downloadTimeT3<100)].downloadTimeT2\n",
    "nn2_b0 = GridSearchCV(estimator=MLPRegressor(solver='lbfgs', random_state=1, validation_fraction=0.25), param_grid=param_test, cv=5)\n",
    "nn2_b0.fit(nn2_b0_input.as_matrix(), nn2_b0_output);\n",
    "\n",
    "print (nn2_b0.best_params_)\n",
    "print (mean_squared_error(nn2_b0.predict(nn2_b0_input),data[(data.downloadTimeT2<100)&(data.downloadTimeT3<100)].downloadTimeT2))\n",
    "\n",
    "\n",
    "# NN B para T3\n",
    "nn2_b1_input = data[(data.downloadTimeT2<100)&(data.downloadTimeT3<100)][['rsrp3','rsrq3','previousrsrp3','previousrsrq3']]\n",
    "nn2_b1_output = data[(data.downloadTimeT2<100)&(data.downloadTimeT3<100)].downloadTimeT3\n",
    "nn2_b1 = GridSearchCV(estimator=MLPRegressor(solver='lbfgs', random_state=1, validation_fraction=0.25), param_grid=param_test, cv=5)\n",
    "nn2_b1.fit(nn2_b1_input.as_matrix(), nn2_b1_output);\n",
    "\n",
    "print (nn2_b1.best_params_)\n",
    "print (mean_squared_error(nn2_b1.predict(nn2_b1_input),data[(data.downloadTimeT2<100)&(data.downloadTimeT3<100)].downloadTimeT3))"
   ]
  },
  {
   "cell_type": "code",
   "execution_count": null,
   "metadata": {
    "collapsed": false
   },
   "outputs": [],
   "source": [
    "def nn2_func(row):\n",
    "    nn2_a0_input = row[['rsrp2','rsrq2','previousrsrp2','previousrsrq2']].values.reshape(1, -1)\n",
    "    nn2_a1_input = row[['rsrp3','rsrq3','previousrsrp3','previousrsrq3']].values.reshape(1, -1)\n",
    "    \n",
    "    # Nível 1A\n",
    "    # se ambos os targets completam o download\n",
    "    if ((nn2_a0.predict(nn2_a0_input)==1)&(nn2_a1.predict(nn2_a1_input)==1)):\n",
    "        # Nível 2B\n",
    "        # o melhor output será aquele para o qual o downloadTime previsto é menor\n",
    "        nn2_b0_input = nn2_a0_input\n",
    "        nn2_b1_input = nn2_a0_input\n",
    "        if (nn2_b0.predict(nn2_b0_input)<=nn2_b1.predict(nn2_b1_input)):\n",
    "            return 0\n",
    "        else:\n",
    "            return 1\n",
    "    \n",
    "    # se apenas um dos targets completa o download\n",
    "    elif ((nn2_a0.predict(nn2_a0_input)==1)|(nn2_a1.predict(nn2_a1_input)==1)):\n",
    "        # o melhor output será aquele que completa o download, segundo a previsão\n",
    "        if (nn2_a0.predict(nn2_a0_input)==1):\n",
    "            return 0\n",
    "        else:\n",
    "            return 1\n",
    "\n",
    "        \n",
    "((data.apply(nn2_func, axis=1)==data.best_output).sum())/data.best_output.size"
   ]
  },
  {
   "cell_type": "markdown",
   "metadata": {},
   "source": [
    "### Estratégia 3"
   ]
  },
  {
   "cell_type": "code",
   "execution_count": null,
   "metadata": {
    "collapsed": false
   },
   "outputs": [],
   "source": [
    "nn3_input = data[['rsrp1','rsrq1','rsrp2','rsrq2','rsrp3','rsrq3','previousrsrp1','previousrsrq1','previousrsrp2','previousrsrq2','previousrsrp3','previousrsrq3']]\n",
    "nn3_output = data.best_output\n",
    "\n",
    "nn3 = GridSearchCV(estimator=MLPClassifier(solver='lbfgs', random_state=1, validation_fraction=0.25), param_grid=param_test, cv=5, scoring='roc_auc')\n",
    "\n",
    "nn3.fit(nn3_input.as_matrix(), nn3_output)\n",
    "\n",
    "def nn3_func(row):\n",
    "    nn3_input_ = row[['rsrp1','rsrq1','rsrp2','rsrq2','rsrp3','rsrq3','previousrsrp1','previousrsrq1','previousrsrp2','previousrsrq2','previousrsrp3','previousrsrq3']].values.reshape(1, -1)\n",
    "    return nn3.predict(nn3_input_)[0]\n",
    "\n",
    "print (nn3.best_params_)\n",
    "print (((nn3_input.apply(nn3_func, axis=1)==data.best_output).sum())/data.best_output.size)"
   ]
  },
  {
   "cell_type": "code",
   "execution_count": null,
   "metadata": {
    "collapsed": false
   },
   "outputs": [],
   "source": [
    "teste['best_choice_download_complete'] = teste.apply(lambda x: download_complete(x, column='best_output'), axis=1)\n",
    "teste['best_choice_download_time'] = teste.apply(lambda x: download_time(x, column='best_output'), axis=1)\n",
    "teste['best_choice_throughput'] = teste.apply(lambda x: throughput(x, column='best_output'), axis=1)"
   ]
  },
  {
   "cell_type": "code",
   "execution_count": null,
   "metadata": {
    "collapsed": false
   },
   "outputs": [],
   "source": [
    "teste['nn1'] = teste.apply(nn1_func, axis=1)\n",
    "teste['nn1_download_complete'] = teste.apply(lambda x: download_complete(x, column='nn1'), axis=1)\n",
    "teste['nn1_download_time'] = teste.apply(lambda x: download_time(x, column='nn1'), axis=1)\n",
    "teste['nn1_throughput'] = teste.apply(lambda x: throughput(x, column='nn1'), axis=1)"
   ]
  },
  {
   "cell_type": "code",
   "execution_count": null,
   "metadata": {
    "collapsed": false
   },
   "outputs": [],
   "source": [
    "teste['nn2'] = teste.apply(nn2_func, axis=1)\n",
    "teste['nn2_download_complete'] = teste.apply(lambda x: download_complete(x, column='nn2'), axis=1)\n",
    "teste['nn2_download_time'] = teste.apply(lambda x: download_time(x, column='nn2'), axis=1)\n",
    "teste['nn2_throughput'] = teste.apply(lambda x: throughput(x, column='nn2'), axis=1)"
   ]
  },
  {
   "cell_type": "code",
   "execution_count": null,
   "metadata": {
    "collapsed": false
   },
   "outputs": [],
   "source": [
    "teste['nn3'] = teste.apply(nn3_func, axis=1)\n",
    "teste['nn3_download_complete'] = teste.apply(lambda x: download_complete(x, column='nn3'), axis=1)\n",
    "teste['nn3_download_time'] = teste.apply(lambda x: download_time(x, column='nn3'), axis=1)\n",
    "teste['nn3_throughput'] = teste.apply(lambda x: throughput(x, column='nn3'), axis=1)"
   ]
  },
  {
   "cell_type": "markdown",
   "metadata": {},
   "source": [
    "### Estratégias Clássicas"
   ]
  },
  {
   "cell_type": "code",
   "execution_count": null,
   "metadata": {
    "collapsed": false
   },
   "outputs": [],
   "source": [
    "teste['a2a4rsrp'] = teste.apply(a2a4rsrp, axis=1)\n",
    "teste['a2a4rsrp_download_complete'] = teste.apply(lambda x: download_complete(x, column='a2a4rsrp'), axis=1)\n",
    "teste['a2a4rsrp_download_time'] = teste.apply(lambda x: download_time(x, column='a2a4rsrp'), axis=1)\n",
    "teste['a2a4rsrp_throughput'] = teste.apply(lambda x: throughput(x, column='a2a4rsrp'), axis=1)"
   ]
  },
  {
   "cell_type": "code",
   "execution_count": null,
   "metadata": {
    "collapsed": false
   },
   "outputs": [],
   "source": [
    "# importando os datasets com dados de simulações de outras duas estratégias clássicas\n",
    "a3rsrp = pd.read_csv('resultados/A3RSRP_OkumuraHata_Modificado', delimiter='\\t')\n",
    "a2a4rsrq = pd.read_csv('resultados/A2A4RSRQ_OkumuraHata_Modificado', delimiter='\\t')\n",
    "a3rsrp_teste = a3rsrp[a3rsrp.nRun>800]\n",
    "a2a4rsrq_teste = a2a4rsrq[a2a4rsrq.nRun>800]\n",
    "\n",
    "def func(row):\n",
    "    if (row.downloadTime<100):\n",
    "        return row.downloadTime\n",
    "    \n",
    "teste['a3rsrp_download_complete'] = (a3rsrp_teste.downloadTime<100).astype(int)\n",
    "teste['a3rsrp_download_time'] = a3rsrp_teste.apply((lambda x: func(x)), axis=1)\n",
    "teste['a3rsrp_throughput'] = (a3rsrp_teste.rxBytes/a3rsrp_teste.downloadTime)*8/1e6\n",
    "\n",
    "teste['a2a4rsrq_download_complete'] = (a2a4rsrq_teste.downloadTime<100).astype(int)\n",
    "teste['a2a4rsrq_download_time'] = a2a4rsrq_teste.apply((lambda x: func(x)), axis=1)\n",
    "teste['a2a4rsrq_throughput'] = (a2a4rsrq_teste.rxBytes/a2a4rsrq_teste.downloadTime)*8/1e6"
   ]
  },
  {
   "cell_type": "markdown",
   "metadata": {},
   "source": [
    "#### Resultados - Sem Shadowing"
   ]
  },
  {
   "cell_type": "code",
   "execution_count": null,
   "metadata": {
    "collapsed": false
   },
   "outputs": [],
   "source": [
    "estrategias = ['a2a4rsrp', 'a2a4rsrq', 'a3rsrp', 'nn1', 'nn2', 'nn3', 'best_choice']\n",
    "\n",
    "results_ss = {}\n",
    "casas = 3\n",
    "for estrategia in estrategias:\n",
    "    #print(\"\\n\\n\", estrategia)\n",
    "    #print(\"- Geral:\")\n",
    "    #print(\"Percentual de Downloads Completos: \", (teste[estrategia+\"_download_complete\"].sum()/teste.index.size)*100, \"%\")\n",
    "    #print(\"Tempo Médio de Download para os Downloads Completos: \", teste[estrategia+\"_download_time\"].mean(), \"s\")\n",
    "    #print(\"Throughput Médio: \", teste[estrategia+\"_throughput\"].mean(), \"Mbps\")\n",
    "    #print(\"- Para a região central [-30,0]:\")\n",
    "    #print(\"Percentual de Downloads Completos: \", (teste[(teste.angle>-30) & (teste.angle<0)][estrategia+\"_download_complete\"].sum()/teste[(teste.angle>-30) & (teste.angle<0)].index.size)*100, \"%\")\n",
    "    #print(\"Tempo Médio de Download para os Downloads Completos: \", teste[(teste.angle>-30) & (teste.angle<0)][estrategia+\"_download_time\"].mean(), \"s\")\n",
    "    #print(\"Throughput Médio: \", teste[(teste.angle>-30) & (teste.angle<0)][estrategia+\"_throughput\"].mean(), \"Mbps\")\n",
    "    results_ss[estrategia] = []\n",
    "    results_ss[estrategia].append(round((teste[estrategia+\"_download_complete\"].sum()/teste.index.size)*100,casas))\n",
    "    results_ss[estrategia].append(round(teste[estrategia+\"_download_time\"].mean(),casas))\n",
    "    results_ss[estrategia].append(round(teste[estrategia+\"_throughput\"].mean(),casas))\n",
    "    results_ss[estrategia].append(round((teste[(teste.angle>-30) & (teste.angle<0)][estrategia+\"_download_complete\"].sum()/teste[(teste.angle>-30) & (teste.angle<0)].index.size)*100,casas))\n",
    "    results_ss[estrategia].append(round(teste[(teste.angle>-30) & (teste.angle<0)][estrategia+\"_download_time\"].mean(),casas))\n",
    "    results_ss[estrategia].append(round(teste[(teste.angle>-30) & (teste.angle<0)][estrategia+\"_throughput\"].mean(),casas))"
   ]
  },
  {
   "cell_type": "markdown",
   "metadata": {},
   "source": [
    "#### Resultados para o conjunto de teste - OkumuraHata sem shadowing"
   ]
  },
  {
   "cell_type": "markdown",
   "metadata": {},
   "source": [
    "#### Geral"
   ]
  },
  {
   "cell_type": "markdown",
   "metadata": {
    "variables": {
     "results_ss['a2a4rsrp'][0]": {},
     "results_ss['a2a4rsrp'][1]": {},
     "results_ss['a2a4rsrp'][2]": {},
     "results_ss['a2a4rsrq'][0]": {},
     "results_ss['a2a4rsrq'][1]": {},
     "results_ss['a2a4rsrq'][2]": {},
     "results_ss['a3rsrp'][0]": {},
     "results_ss['a3rsrp'][1]": {},
     "results_ss['a3rsrp'][2]": {},
     "results_ss['best_choice'][0]": {},
     "results_ss['best_choice'][1]": {},
     "results_ss['best_choice'][2]": {},
     "results_ss['nn1'][0]": {},
     "results_ss['nn1'][1]": {},
     "results_ss['nn1'][2]": {},
     "results_ss['nn2'][0]": {},
     "results_ss['nn2'][1]": {},
     "results_ss['nn2'][2]": {},
     "results_ss['nn3'][0]": {},
     "results_ss['nn3'][1]": {},
     "results_ss['nn3'][2]": {}
    }
   },
   "source": [
    "|   |A2A4RSRP|A2A4RSRQ|A3RSRP|NN1|NN2|NN3|BEST CHOICE|\n",
    "|---|---|---|---|---|---|---|---|\n",
    "|Downloads completos (%)|{{results_ss['a2a4rsrp'][0]}}|{{results_ss['a2a4rsrq'][0]}}|{{results_ss['a3rsrp'][0]}}|{{results_ss['nn1'][0]}}|{{results_ss['nn2'][0]}}|{{results_ss['nn3'][0]}}|{{results_ss['best_choice'][0]}}|\n",
    "|Tempo médio de download para os downloads completos (s)|{{results_ss['a2a4rsrp'][1]}}|{{results_ss['a2a4rsrq'][1]}}|{{results_ss['a3rsrp'][1]}}|{{results_ss['nn1'][1]}}|{{results_ss['nn2'][1]}}|{{results_ss['nn3'][1]}}|{{results_ss['best_choice'][1]}}|\n",
    "|Throughput médio (Mbps)|{{results_ss['a2a4rsrp'][2]}}|{{results_ss['a2a4rsrq'][2]}}|{{results_ss['a3rsrp'][2]}}|{{results_ss['nn1'][2]}}|{{results_ss['nn2'][2]}}|{{results_ss['nn3'][2]}}|{{results_ss['best_choice'][2]}}|"
   ]
  },
  {
   "cell_type": "markdown",
   "metadata": {},
   "source": [
    "#### Para a região central [-30,0]"
   ]
  },
  {
   "cell_type": "markdown",
   "metadata": {
    "variables": {
     "results_ss['a2a4rsrp'][3]": {},
     "results_ss['a2a4rsrp'][4]": {},
     "results_ss['a2a4rsrp'][5]": {},
     "results_ss['a2a4rsrq'][3]": {},
     "results_ss['a2a4rsrq'][4]": {},
     "results_ss['a2a4rsrq'][5]": {},
     "results_ss['a3rsrp'][3]": {},
     "results_ss['a3rsrp'][4]": {},
     "results_ss['a3rsrp'][5]": {},
     "results_ss['best_choice'][3]": {},
     "results_ss['best_choice'][4]": {},
     "results_ss['best_choice'][5]": {},
     "results_ss['nn1'][3]": {},
     "results_ss['nn1'][4]": {},
     "results_ss['nn1'][5]": {},
     "results_ss['nn2'][3]": {},
     "results_ss['nn2'][4]": {},
     "results_ss['nn2'][5]": {},
     "results_ss['nn3'][3]": {},
     "results_ss['nn3'][4]": {},
     "results_ss['nn3'][5]": {}
    }
   },
   "source": [
    "|   |A2A4RSRP|A2A4RSRQ|A3RSRP|NN1|NN2|NN3|BEST CHOICE|\n",
    "|---|---|---|---|---|---|---|---|\n",
    "|Downloads completos (%)|{{results_ss['a2a4rsrp'][3]}}|{{results_ss['a2a4rsrq'][3]}}|{{results_ss['a3rsrp'][3]}}|{{results_ss['nn1'][3]}}|{{results_ss['nn2'][3]}}|{{results_ss['nn3'][3]}}|{{results_ss['best_choice'][3]}}|\n",
    "|Tempo médio de download para os downloads completos (s)|{{results_ss['a2a4rsrp'][4]}}|{{results_ss['a2a4rsrq'][4]}}|{{results_ss['a3rsrp'][4]}}|{{results_ss['nn1'][4]}}|{{results_ss['nn2'][4]}}|{{results_ss['nn3'][4]}}|{{results_ss['best_choice'][4]}}|\n",
    "|Throughput médio (Mbps)|{{results_ss['a2a4rsrp'][5]}}|{{results_ss['a2a4rsrq'][5]}}|{{results_ss['a3rsrp'][5]}}|{{results_ss['nn1'][5]}}|{{results_ss['nn2'][5]}}|{{results_ss['nn3'][5]}}|{{results_ss['best_choice'][5]}}|"
   ]
  },
  {
   "cell_type": "markdown",
   "metadata": {
    "collapsed": true
   },
   "source": [
    "# Com Shadowing"
   ]
  },
  {
   "cell_type": "code",
   "execution_count": 8,
   "metadata": {
    "collapsed": false
   },
   "outputs": [
    {
     "data": {
      "text/html": [
       "<div>\n",
       "<table border=\"1\" class=\"dataframe\">\n",
       "  <thead>\n",
       "    <tr style=\"text-align: right;\">\n",
       "      <th></th>\n",
       "      <th>nRun</th>\n",
       "      <th>angle</th>\n",
       "      <th>rsrp1</th>\n",
       "      <th>rsrq1</th>\n",
       "      <th>rsrp2</th>\n",
       "      <th>rsrq2</th>\n",
       "      <th>rsrp3</th>\n",
       "      <th>rsrq3</th>\n",
       "      <th>previousrsrp1</th>\n",
       "      <th>previousrsrq1</th>\n",
       "      <th>previousrsrp2</th>\n",
       "      <th>previousrsrq2</th>\n",
       "      <th>previousrsrp3</th>\n",
       "      <th>previousrsrq3</th>\n",
       "      <th>downloadTimeT2</th>\n",
       "      <th>downloadTimeT3</th>\n",
       "      <th>rxBytesT2</th>\n",
       "      <th>rxBytesT3</th>\n",
       "      <th>best_output</th>\n",
       "    </tr>\n",
       "  </thead>\n",
       "  <tbody>\n",
       "    <tr>\n",
       "      <th>0</th>\n",
       "      <td>2</td>\n",
       "      <td>-43.55760</td>\n",
       "      <td>-0.121026</td>\n",
       "      <td>0.848244</td>\n",
       "      <td>-0.504776</td>\n",
       "      <td>-0.539407</td>\n",
       "      <td>-1.123699</td>\n",
       "      <td>-1.508421</td>\n",
       "      <td>-0.124698</td>\n",
       "      <td>0.821356</td>\n",
       "      <td>-0.500336</td>\n",
       "      <td>-0.504574</td>\n",
       "      <td>-1.123461</td>\n",
       "      <td>-1.481195</td>\n",
       "      <td>100.0000</td>\n",
       "      <td>100.0000</td>\n",
       "      <td>14300448</td>\n",
       "      <td>14300448</td>\n",
       "      <td>0</td>\n",
       "    </tr>\n",
       "    <tr>\n",
       "      <th>1</th>\n",
       "      <td>4</td>\n",
       "      <td>-12.93740</td>\n",
       "      <td>0.534735</td>\n",
       "      <td>-0.303438</td>\n",
       "      <td>0.373384</td>\n",
       "      <td>-0.739633</td>\n",
       "      <td>1.350572</td>\n",
       "      <td>1.559385</td>\n",
       "      <td>0.530430</td>\n",
       "      <td>-0.219347</td>\n",
       "      <td>0.382462</td>\n",
       "      <td>-0.703401</td>\n",
       "      <td>1.357012</td>\n",
       "      <td>1.587641</td>\n",
       "      <td>55.6891</td>\n",
       "      <td>41.7761</td>\n",
       "      <td>15728640</td>\n",
       "      <td>15728640</td>\n",
       "      <td>1</td>\n",
       "    </tr>\n",
       "    <tr>\n",
       "      <th>2</th>\n",
       "      <td>5</td>\n",
       "      <td>-20.81640</td>\n",
       "      <td>-1.760427</td>\n",
       "      <td>-2.261297</td>\n",
       "      <td>-0.212056</td>\n",
       "      <td>1.562964</td>\n",
       "      <td>-1.464978</td>\n",
       "      <td>-1.201640</td>\n",
       "      <td>-1.762517</td>\n",
       "      <td>-2.300753</td>\n",
       "      <td>-0.206070</td>\n",
       "      <td>1.583117</td>\n",
       "      <td>-1.465595</td>\n",
       "      <td>-1.174311</td>\n",
       "      <td>100.0000</td>\n",
       "      <td>100.0000</td>\n",
       "      <td>1836064</td>\n",
       "      <td>1836064</td>\n",
       "      <td>0</td>\n",
       "    </tr>\n",
       "    <tr>\n",
       "      <th>3</th>\n",
       "      <td>7</td>\n",
       "      <td>28.78270</td>\n",
       "      <td>-2.170277</td>\n",
       "      <td>-0.648943</td>\n",
       "      <td>-2.773356</td>\n",
       "      <td>-1.740762</td>\n",
       "      <td>-1.464978</td>\n",
       "      <td>1.354865</td>\n",
       "      <td>-2.171972</td>\n",
       "      <td>-0.681882</td>\n",
       "      <td>-2.780897</td>\n",
       "      <td>-1.697539</td>\n",
       "      <td>-1.465595</td>\n",
       "      <td>1.383052</td>\n",
       "      <td>100.0000</td>\n",
       "      <td>100.0000</td>\n",
       "      <td>1675336</td>\n",
       "      <td>1675336</td>\n",
       "      <td>0</td>\n",
       "    </tr>\n",
       "    <tr>\n",
       "      <th>4</th>\n",
       "      <td>10</td>\n",
       "      <td>-4.90765</td>\n",
       "      <td>0.206855</td>\n",
       "      <td>0.848244</td>\n",
       "      <td>-0.212056</td>\n",
       "      <td>-0.639520</td>\n",
       "      <td>-0.185183</td>\n",
       "      <td>-0.281299</td>\n",
       "      <td>0.284757</td>\n",
       "      <td>0.821356</td>\n",
       "      <td>-0.206070</td>\n",
       "      <td>-0.603987</td>\n",
       "      <td>-0.182592</td>\n",
       "      <td>-0.355955</td>\n",
       "      <td>100.0000</td>\n",
       "      <td>100.0000</td>\n",
       "      <td>9988304</td>\n",
       "      <td>14768152</td>\n",
       "      <td>1</td>\n",
       "    </tr>\n",
       "  </tbody>\n",
       "</table>\n",
       "</div>"
      ],
      "text/plain": [
       "   nRun     angle     rsrp1     rsrq1     rsrp2     rsrq2     rsrp3     rsrq3  \\\n",
       "0     2 -43.55760 -0.121026  0.848244 -0.504776 -0.539407 -1.123699 -1.508421   \n",
       "1     4 -12.93740  0.534735 -0.303438  0.373384 -0.739633  1.350572  1.559385   \n",
       "2     5 -20.81640 -1.760427 -2.261297 -0.212056  1.562964 -1.464978 -1.201640   \n",
       "3     7  28.78270 -2.170277 -0.648943 -2.773356 -1.740762 -1.464978  1.354865   \n",
       "4    10  -4.90765  0.206855  0.848244 -0.212056 -0.639520 -0.185183 -0.281299   \n",
       "\n",
       "   previousrsrp1  previousrsrq1  previousrsrp2  previousrsrq2  previousrsrp3  \\\n",
       "0      -0.124698       0.821356      -0.500336      -0.504574      -1.123461   \n",
       "1       0.530430      -0.219347       0.382462      -0.703401       1.357012   \n",
       "2      -1.762517      -2.300753      -0.206070       1.583117      -1.465595   \n",
       "3      -2.171972      -0.681882      -2.780897      -1.697539      -1.465595   \n",
       "4       0.284757       0.821356      -0.206070      -0.603987      -0.182592   \n",
       "\n",
       "   previousrsrq3  downloadTimeT2  downloadTimeT3  rxBytesT2  rxBytesT3  \\\n",
       "0      -1.481195        100.0000        100.0000   14300448   14300448   \n",
       "1       1.587641         55.6891         41.7761   15728640   15728640   \n",
       "2      -1.174311        100.0000        100.0000    1836064    1836064   \n",
       "3       1.383052        100.0000        100.0000    1675336    1675336   \n",
       "4      -0.355955        100.0000        100.0000    9988304   14768152   \n",
       "\n",
       "   best_output  \n",
       "0            0  \n",
       "1            1  \n",
       "2            0  \n",
       "3            0  \n",
       "4            1  "
      ]
     },
     "execution_count": 8,
     "metadata": {},
     "output_type": "execute_result"
    }
   ],
   "source": [
    "t2 = pd.read_csv('resultados/t2_OhBuildings_ComShadowing_Modificado', delimiter='\\t')\n",
    "t3 = pd.read_csv('resultados/t3_OhBuildings_ComShadowing_Modificado', delimiter='\\t')\n",
    "\n",
    "t2 = t2[t2.nRun.isin(t3.nRun)]\n",
    "t2.reset_index(drop=True, inplace=True)\n",
    "t3 = t3[t3.nRun.isin(t2.nRun)]\n",
    "t3.reset_index(drop=True, inplace=True)\n",
    "\n",
    "a3rsrp = pd.read_csv('resultados/A3RSRP_OhBuildings_ComShadowing_Modificado', delimiter='\\t')\n",
    "a2a4rsrq = pd.read_csv('resultados/A2A4RSRQ_OhBuildings_ComShadowing_Modificado', delimiter='\\t')\n",
    "\n",
    "t2_runs = t2.nRun\n",
    "t3_runs = t3.nRun\n",
    "a3rsrp_runs = a3rsrp.nRun\n",
    "a2a4rsrq_runs = a2a4rsrq.nRun\n",
    "valid_results = t2[t2.rsrp1==t3.rsrp1].nRun\n",
    "valid_runs = set(t2_runs).intersection(t3_runs).intersection(a3rsrp_runs).intersection(a2a4rsrq_runs).intersection(valid_results)\n",
    "\n",
    "t2 = t2[t2.nRun.isin(valid_runs)]\n",
    "t3 = t3[t3.nRun.isin(valid_runs)]\n",
    "a3rsrp = a3rsrp[a3rsrp.nRun.isin(valid_runs)]\n",
    "a2a4rsrq = a2a4rsrq[a2a4rsrq.nRun.isin(valid_runs)]\n",
    "\n",
    "t2.reset_index(drop=True, inplace=True)\n",
    "t3.reset_index(drop=True, inplace=True)\n",
    "a3rsrp.reset_index(drop=True, inplace=True)\n",
    "a2a4rsrq.reset_index(drop=True, inplace=True)\n",
    "\n",
    "# combinando os datasets\n",
    "data = t2\n",
    "data = data.drop(['targetCellId', 'downloadTime', 'rxBytes'], axis=1)\n",
    "data['downloadTimeT2'] = t2.downloadTime\n",
    "data['downloadTimeT3'] = t3.downloadTime\n",
    "data['rxBytesT2'] = t2.rxBytes\n",
    "data['rxBytesT3'] = t3.rxBytes\n",
    "\n",
    "from ho_func import rsrp_value, rsrq_value\n",
    "\n",
    "data['rsrp1'] = data.rsrp1.apply(rsrp_value)\n",
    "data['rsrp2'] = data.rsrp2.apply(rsrp_value)\n",
    "data['rsrp3'] = data.rsrp3.apply(rsrp_value)\n",
    "data['previousrsrp1'] = data.previousrsrp1.apply(rsrp_value)\n",
    "data['previousrsrp2'] = data.previousrsrp2.apply(rsrp_value)\n",
    "data['previousrsrp3'] = data.previousrsrp3.apply(rsrp_value)\n",
    "data['rsrq1'] = data.rsrq1.apply(rsrq_value)\n",
    "data['rsrq2'] = data.rsrq2.apply(rsrq_value)\n",
    "data['rsrq3'] = data.rsrq3.apply(rsrq_value)\n",
    "data['previousrsrq1'] = data.previousrsrq1.apply(rsrq_value)\n",
    "data['previousrsrq2'] = data.previousrsrq2.apply(rsrq_value)\n",
    "data['previousrsrq3'] = data.previousrsrq3.apply(rsrq_value)\n",
    "\n",
    "data['best_output'] = data.apply(best_output, axis=1)\n",
    "\n",
    "# normalize\n",
    "original_data = data\n",
    "data = (data - data.mean()) / (data.std())\n",
    "data[['nRun','angle','downloadTimeT2','downloadTimeT3','rxBytesT2','rxBytesT3','best_output']] = original_data[['nRun','angle','downloadTimeT2','downloadTimeT3','rxBytesT2','rxBytesT3','best_output']]\n",
    "\n",
    "data.head()"
   ]
  },
  {
   "cell_type": "code",
   "execution_count": 9,
   "metadata": {
    "collapsed": false
   },
   "outputs": [],
   "source": [
    "teste = data.loc[800:999]\n",
    "data = data.loc[0:799]"
   ]
  },
  {
   "cell_type": "code",
   "execution_count": 10,
   "metadata": {
    "collapsed": true
   },
   "outputs": [],
   "source": [
    "a3rsrp_teste = a3rsrp.loc[800:999]\n",
    "a2a4rsrq_teste = a2a4rsrq.loc[800:999]"
   ]
  },
  {
   "cell_type": "code",
   "execution_count": 11,
   "metadata": {
    "collapsed": false
   },
   "outputs": [
    {
     "data": {
      "text/plain": [
       "<matplotlib.axes._subplots.AxesSubplot at 0x7fc2d5b4d320>"
      ]
     },
     "execution_count": 11,
     "metadata": {},
     "output_type": "execute_result"
    },
    {
     "data": {
      "image/png": "[encoded data removed]",
      "text/plain": [
       "<matplotlib.figure.Figure at 0x7fc2d5b4d358>"
      ]
     },
     "metadata": {},
     "output_type": "display_data"
    }
   ],
   "source": [
    "import seaborn as sns\n",
    "features = data[['rsrp1','rsrq1','rsrp2','rsrq2','rsrp3','rsrq3','previousrsrp1','previousrsrq1','previousrsrp2','previousrsrq2','previousrsrp3','previousrsrq3', 'best_output']]\n",
    "features = features.rename(columns={'rsrp1': 'RSRP eNB 1', 'rsrq1': 'RSRQ eNB 1', 'rsrp2': 'RSRP eNB 2', 'rsrq2': 'RSRQ eNB 2', 'rsrp3': 'RSRP eNB 3', 'rsrq3': 'RSRQ eNB 3', 'previousrsrp1': 'RSRP eNB 1 (anterior)', 'previousrsrq1': 'RSRQ eNB 1 (anterior)', 'previousrsrp2': 'RSRP eNB 2 (anterior)', 'previousrsrq2': 'RSRQ eNB 2 (anterior)', 'previousrsrp3': 'RSRP eNB 3 (anterior)', 'previousrsrq3': 'RSRQ eNB 3 (anterior)', 'best_output': 'Melhor Target'})\n",
    "sns.heatmap(features.corr())"
   ]
  },
  {
   "cell_type": "code",
   "execution_count": 12,
   "metadata": {
    "collapsed": false
   },
   "outputs": [],
   "source": [
    "param_test = {'hidden_layer_sizes': [(i) for i in range(1,101)]}"
   ]
  },
  {
   "cell_type": "markdown",
   "metadata": {},
   "source": [
    "### Estratégia 1"
   ]
  },
  {
   "cell_type": "code",
   "execution_count": 13,
   "metadata": {
    "collapsed": false
   },
   "outputs": [
    {
     "name": "stdout",
     "output_type": "stream",
     "text": [
      "{'hidden_layer_sizes': 1}\n",
      "0.79\n",
      "{'hidden_layer_sizes': 1}\n",
      "0.7525\n"
     ]
    }
   ],
   "source": [
    "# A: Download Completo ou Incompleto (para todas as amostras)\n",
    "nn1_a_input = data[['rsrp1','rsrq1','rsrp2','rsrq2','rsrp3','rsrq3','previousrsrp1','previousrsrq1','previousrsrp2','previousrsrq2','previousrsrp3','previousrsrq3']]\n",
    "\n",
    "# NN A para T2\n",
    "nn1_a0_output = (data.downloadTimeT2<100).astype(int)\n",
    "nn1_a0 = GridSearchCV(estimator=MLPClassifier(solver='lbfgs', random_state=1, validation_fraction=0.25), param_grid=param_test, cv=5, scoring='roc_auc')\n",
    "nn1_a0.fit(nn1_a_input.as_matrix(), nn1_a0_output);\n",
    "\n",
    "print (nn1_a0.best_params_)\n",
    "print ((nn1_a0.predict(nn1_a_input)==(data.downloadTimeT2<100).astype(int)).sum()/data.shape[0])\n",
    "\n",
    "# NN A para T3\n",
    "nn1_a1_output = (data.downloadTimeT3<100).astype(int)\n",
    "nn1_a1 = GridSearchCV(estimator=MLPClassifier(solver='lbfgs', random_state=1, validation_fraction=0.25), param_grid=param_test, cv=5, scoring='roc_auc')\n",
    "nn1_a1.fit(nn1_a_input.as_matrix(), nn1_a1_output);\n",
    "\n",
    "print (nn1_a1.best_params_)\n",
    "print ((nn1_a1.predict(nn1_a_input)==(data.downloadTimeT3<100).astype(int)).sum()/data.shape[0])"
   ]
  },
  {
   "cell_type": "code",
   "execution_count": 14,
   "metadata": {
    "collapsed": false
   },
   "outputs": [
    {
     "name": "stdout",
     "output_type": "stream",
     "text": [
      "{'hidden_layer_sizes': 5}\n",
      "38.5043609087\n",
      "{'hidden_layer_sizes': 6}\n",
      "71.7443021468\n"
     ]
    }
   ],
   "source": [
    "# B: Tempo de Download (para amostras em que ambos os targets completam o download)\n",
    "nn1_b_input = data[(data.downloadTimeT2<100)&(data.downloadTimeT3<100)][['rsrp1','rsrq1','rsrp2','rsrq2','rsrp3','rsrq3','previousrsrp1','previousrsrq1','previousrsrp2','previousrsrq2','previousrsrp3','previousrsrq3']]\n",
    "# NN B para T2\n",
    "nn1_b0_output = data[(data.downloadTimeT2<100)&(data.downloadTimeT3<100)].downloadTimeT2\n",
    "nn1_b0 = GridSearchCV(estimator=MLPRegressor(solver='lbfgs', random_state=1, validation_fraction=0.25), param_grid=param_test, cv=5)\n",
    "nn1_b0.fit(nn1_b_input.as_matrix(), nn1_b0_output);\n",
    "\n",
    "print (nn1_b0.best_params_)\n",
    "print (mean_squared_error(nn1_b0.predict(nn1_b_input),data[(data.downloadTimeT2<100)&(data.downloadTimeT3<100)].downloadTimeT2))\n",
    "\n",
    "# NN B para T3\n",
    "nn1_b1_output = data[(data.downloadTimeT2<100)&(data.downloadTimeT3<100)].downloadTimeT3\n",
    "nn1_b1 = GridSearchCV(estimator=MLPRegressor(solver='lbfgs', random_state=1, validation_fraction=0.25), param_grid=param_test, cv=5)\n",
    "nn1_b1.fit(nn1_b_input.as_matrix(), nn1_b1_output);\n",
    "\n",
    "print (nn1_b1.best_params_)\n",
    "print (mean_squared_error(nn1_b1.predict(nn1_b_input),data[(data.downloadTimeT2<100)&(data.downloadTimeT3<100)].downloadTimeT3))"
   ]
  },
  {
   "cell_type": "code",
   "execution_count": 15,
   "metadata": {
    "collapsed": false
   },
   "outputs": [
    {
     "name": "stdout",
     "output_type": "stream",
     "text": [
      "{'hidden_layer_sizes': 4}\n",
      "8.57841512911e+12\n",
      "{'hidden_layer_sizes': 4}\n",
      "9.85403706978e+12\n"
     ]
    }
   ],
   "source": [
    "# C: RxBytes (para amostras em que ambos os targets não completam o download)\n",
    "nn1_c_input = data[(data.downloadTimeT2>=100)&(data.downloadTimeT3>=100)][['rsrp1','rsrq1','rsrp2','rsrq2','rsrp3','rsrq3','previousrsrp1','previousrsrq1','previousrsrp2','previousrsrq2','previousrsrp3','previousrsrq3']]\n",
    "# NN B para T2\n",
    "nn1_c0_output = data[(data.downloadTimeT2>=100)&(data.downloadTimeT3>=100)].rxBytesT2\n",
    "nn1_c0 = GridSearchCV(estimator=MLPRegressor(solver='lbfgs', random_state=1, validation_fraction=0.25), param_grid=param_test, cv=5)\n",
    "nn1_c0.fit(nn1_c_input.as_matrix(), nn1_c0_output);\n",
    "\n",
    "print (nn1_c0.best_params_)\n",
    "print (mean_squared_error(nn1_c0.predict(nn1_c_input),data[(data.downloadTimeT2>=100)&(data.downloadTimeT3>=100)].rxBytesT2))\n",
    "\n",
    "\n",
    "# NN B para T3\n",
    "nn1_c1_output = data[(data.downloadTimeT2>=100)&(data.downloadTimeT3>=100)].rxBytesT3\n",
    "nn1_c1 = GridSearchCV(estimator=MLPRegressor(solver='lbfgs', random_state=1, validation_fraction=0.25), param_grid=param_test, cv=5)\n",
    "nn1_c1.fit(nn1_c_input.as_matrix(), nn1_c1_output);\n",
    "\n",
    "print (nn1_c1.best_params_)\n",
    "print (mean_squared_error(nn1_c1.predict(nn1_c_input),data[(data.downloadTimeT2>=100)&(data.downloadTimeT3>=100)].rxBytesT3))"
   ]
  },
  {
   "cell_type": "code",
   "execution_count": 16,
   "metadata": {
    "collapsed": false
   },
   "outputs": [
    {
     "data": {
      "text/plain": [
       "0.59624999999999995"
      ]
     },
     "execution_count": 16,
     "metadata": {},
     "output_type": "execute_result"
    }
   ],
   "source": [
    "def nn1_func(row):\n",
    "    nn1_input = row[['rsrp1','rsrq1','rsrp2','rsrq2','rsrp3','rsrq3','previousrsrp1','previousrsrq1','previousrsrp2','previousrsrq2','previousrsrp3','previousrsrq3']].values.reshape(1, -1)\n",
    "    # Nível 1A\n",
    "    # se o downloadTime previsto é menor que 100 para T2 e T3, ambos os targets completam o download\n",
    "    if ((nn1_a0.predict(nn1_input)==1)&(nn1_a1.predict(nn1_input)==1)):\n",
    "        # Nível 2B\n",
    "        # o melhor output será aquele para o qual o downloadTime previsto é menor\n",
    "        if (nn1_b0.predict(nn1_input)<=nn1_b1.predict(nn1_input)):\n",
    "            return 0\n",
    "        else:\n",
    "            return 1\n",
    "    \n",
    "    # se o downloadTime previsto é menor que 100 apenas para um dos targets, só um deles completa o download\n",
    "    elif ((nn1_a0.predict(nn1_input)==1)|(nn1_a1.predict(nn1_input)==1)):\n",
    "        # o melhor output será aquele para o qual o downloadTime previsto é menor que 100\n",
    "        if (nn1_a0.predict(nn1_input)==1):\n",
    "            return 0\n",
    "        else:\n",
    "            return 1\n",
    "        \n",
    "    # se o downloadTime previsto é menor que 100 para ambos os targets\n",
    "    elif ((nn1_a0.predict(nn1_input)==0)&(nn1_a1.predict(nn1_input)==0)):\n",
    "        # o melhor output será aquele para o qual o rxBytes previsto é maior\n",
    "        if (nn1_c0.predict(nn1_input)>=nn1_c1.predict(nn1_input)):\n",
    "            return 0\n",
    "        else:\n",
    "            return 1      \n",
    "        \n",
    "((nn1_a_input.apply(nn1_func, axis=1)==data.best_output).sum())/data.best_output.size        "
   ]
  },
  {
   "cell_type": "markdown",
   "metadata": {},
   "source": [
    "### Estratégia 2"
   ]
  },
  {
   "cell_type": "code",
   "execution_count": 17,
   "metadata": {
    "collapsed": false
   },
   "outputs": [
    {
     "name": "stdout",
     "output_type": "stream",
     "text": [
      "{'hidden_layer_sizes': 6}\n",
      "0.74875\n",
      "{'hidden_layer_sizes': 4}\n",
      "0.73625\n"
     ]
    }
   ],
   "source": [
    "# A: Download Completo ou Incompleto (para todas as amostras)\n",
    "\n",
    "# NN A para T2\n",
    "nn2_a0_input = data[['rsrp2','rsrq2','previousrsrp2','previousrsrq2']]\n",
    "nn2_a0_output = (data.downloadTimeT2<100).astype(int)\n",
    "nn2_a0 = GridSearchCV(estimator=MLPClassifier(solver='lbfgs', random_state=1, validation_fraction=0.25), param_grid=param_test, scoring='roc_auc', cv=5)\n",
    "nn2_a0.fit(nn2_a0_input.as_matrix(), nn2_a0_output);\n",
    "\n",
    "print (nn2_a0.best_params_)\n",
    "print ((nn2_a0.predict(nn2_a0_input)==(data.downloadTimeT2<100).astype(int)).sum()/data.shape[0])\n",
    "\n",
    "\n",
    "# NN A para T3\n",
    "nn2_a1_input = data[['rsrp3','rsrq3','previousrsrp3','previousrsrq3']]\n",
    "nn2_a1_output = (data.downloadTimeT3<100).astype(int)\n",
    "nn2_a1 = GridSearchCV(estimator=MLPClassifier(solver='lbfgs', random_state=1, validation_fraction=0.25), param_grid=param_test, scoring='roc_auc', cv=5)\n",
    "nn2_a1.fit(nn2_a1_input.as_matrix(), nn2_a1_output);\n",
    "\n",
    "print (nn2_a1.best_params_)\n",
    "print ((nn2_a1.predict(nn2_a1_input)==(data.downloadTimeT3<100).astype(int)).sum()/data.shape[0])"
   ]
  },
  {
   "cell_type": "code",
   "execution_count": 18,
   "metadata": {
    "collapsed": false
   },
   "outputs": [
    {
     "name": "stdout",
     "output_type": "stream",
     "text": [
      "{'hidden_layer_sizes': 11}\n",
      "56.6167803607\n",
      "{'hidden_layer_sizes': 49}\n",
      "109.370451953\n"
     ]
    }
   ],
   "source": [
    "# B: Tempo de Download (para amostras em que ambos os targets completam o download)\n",
    "\n",
    "param_test = {'hidden_layer_sizes':[(i) for i in range(1,101)]}\n",
    "\n",
    "# NN B para T2\n",
    "nn2_b0_input = data[(data.downloadTimeT2<100)&(data.downloadTimeT3<100)][['rsrp2','rsrq2','previousrsrp2','previousrsrq2']]\n",
    "nn2_b0_output = data[(data.downloadTimeT2<100)&(data.downloadTimeT3<100)].downloadTimeT2\n",
    "nn2_b0 = GridSearchCV(estimator=MLPRegressor(solver='lbfgs', random_state=1, validation_fraction=0.25), param_grid=param_test, cv=5)\n",
    "nn2_b0.fit(nn2_b0_input.as_matrix(), nn2_b0_output);\n",
    "\n",
    "print (nn2_b0.best_params_)\n",
    "print (mean_squared_error(nn2_b0.predict(nn2_b0_input),data[(data.downloadTimeT2<100)&(data.downloadTimeT3<100)].downloadTimeT2))\n",
    "\n",
    "\n",
    "# NN B para T3\n",
    "nn2_b1_input = data[(data.downloadTimeT2<100)&(data.downloadTimeT3<100)][['rsrp3','rsrq3','previousrsrp3','previousrsrq3']]\n",
    "nn2_b1_output = data[(data.downloadTimeT2<100)&(data.downloadTimeT3<100)].downloadTimeT3\n",
    "nn2_b1 = GridSearchCV(estimator=MLPRegressor(solver='lbfgs', random_state=1, validation_fraction=0.25), param_grid=param_test, cv=5)\n",
    "nn2_b1.fit(nn2_b1_input.as_matrix(), nn2_b1_output);\n",
    "\n",
    "print (nn2_b1.best_params_)\n",
    "print (mean_squared_error(nn2_b1.predict(nn2_b1_input),data[(data.downloadTimeT2<100)&(data.downloadTimeT3<100)].downloadTimeT3))"
   ]
  },
  {
   "cell_type": "code",
   "execution_count": 19,
   "metadata": {
    "collapsed": false
   },
   "outputs": [
    {
     "name": "stdout",
     "output_type": "stream",
     "text": [
      "{'hidden_layer_sizes': 10}\n",
      "1.2844076538e+13\n",
      "{'hidden_layer_sizes': 6}\n",
      "1.58266051267e+13\n"
     ]
    }
   ],
   "source": [
    "# C: Bytes Recebidos (para amostras em que ambos os targets não completam o download)\n",
    "\n",
    "# NN C para T2\n",
    "nn2_c0_input = data[(data.downloadTimeT2>=100)&(data.downloadTimeT3>=100)][['rsrp2','rsrq2','previousrsrp2','previousrsrq2']]\n",
    "nn2_c0_output = data[(data.downloadTimeT2>=100)&(data.downloadTimeT3>=100)].rxBytesT2\n",
    "nn2_c0 = GridSearchCV(estimator=MLPRegressor(solver='lbfgs', random_state=1, validation_fraction=0.25), param_grid=param_test, cv=5)\n",
    "nn2_c0.fit(nn2_c0_input.as_matrix(), nn2_c0_output);\n",
    "\n",
    "print (nn2_c0.best_params_)\n",
    "print (mean_squared_error(nn2_c0.predict(nn2_c0_input),data[(data.downloadTimeT2>=100)&(data.downloadTimeT3>=100)].rxBytesT2))\n",
    "\n",
    "# NN C para T3\n",
    "nn2_c1_input = data[(data.downloadTimeT2>=100)&(data.downloadTimeT3>=100)][['rsrp3','rsrq3','previousrsrp3','previousrsrq3']]\n",
    "nn2_c1_output = data[(data.downloadTimeT2>=100)&(data.downloadTimeT3>=100)].rxBytesT3\n",
    "nn2_c1 = GridSearchCV(estimator=MLPRegressor(solver='lbfgs', random_state=1, validation_fraction=0.25), param_grid=param_test, cv=5)\n",
    "nn2_c1.fit(nn2_c1_input.as_matrix(), nn2_c1_output);\n",
    "\n",
    "print (nn2_c1.best_params_)\n",
    "print (mean_squared_error(nn2_c1.predict(nn2_c1_input),data[(data.downloadTimeT2>=100)&(data.downloadTimeT3>=100)].rxBytesT3))"
   ]
  },
  {
   "cell_type": "code",
   "execution_count": 20,
   "metadata": {
    "collapsed": false
   },
   "outputs": [
    {
     "data": {
      "text/plain": [
       "0.53874999999999995"
      ]
     },
     "execution_count": 20,
     "metadata": {},
     "output_type": "execute_result"
    }
   ],
   "source": [
    "def nn2_func(row):\n",
    "    nn2_a0_input = row[['rsrp2','rsrq2','previousrsrp2','previousrsrq2']].values.reshape(1, -1)\n",
    "    nn2_a1_input = row[['rsrp3','rsrq3','previousrsrp3','previousrsrq3']].values.reshape(1, -1)\n",
    "    \n",
    "    # Nível 1A\n",
    "    # se ambos os targets completam o download\n",
    "    if ((nn2_a0.predict(nn2_a0_input)==1)&(nn2_a1.predict(nn2_a1_input)==1)):\n",
    "        # Nível 2B\n",
    "        # o melhor output será aquele para o qual o downloadTime previsto é menor\n",
    "        nn2_b0_input = nn2_a0_input\n",
    "        nn2_b1_input = nn2_a0_input\n",
    "        if (nn2_b0.predict(nn2_b0_input)<=nn2_b1.predict(nn2_b1_input)):\n",
    "            return 0\n",
    "        else:\n",
    "            return 1\n",
    "    \n",
    "    # se apenas um dos targets completa o download\n",
    "    elif ((nn2_a0.predict(nn2_a0_input)==1)|(nn2_a1.predict(nn2_a1_input)==1)):\n",
    "        # o melhor output será aquele que completa o download, segundo a previsão\n",
    "        if (nn2_a0.predict(nn2_a0_input)==1):\n",
    "            return 0\n",
    "        else:\n",
    "            return 1\n",
    "        \n",
    "    # se apenas nenhum dos targets completa o download\n",
    "    elif ((nn2_a0.predict(nn2_a0_input)==0)&(nn2_a1.predict(nn2_a1_input)==0)):\n",
    "        # o melhor output será aquele para o qual o rxBytes previsto é maior\n",
    "        nn2_c0_input = nn2_a0_input\n",
    "        nn2_c1_input = nn2_a0_input\n",
    "        if (nn2_c0.predict(nn2_c0_input)>=nn2_c1.predict(nn2_c1_input)):\n",
    "            return 0\n",
    "        else:\n",
    "            return 1        \n",
    "        \n",
    "((data.apply(nn2_func, axis=1)==data.best_output).sum())/data.best_output.size"
   ]
  },
  {
   "cell_type": "markdown",
   "metadata": {},
   "source": [
    "### Estratégia 3"
   ]
  },
  {
   "cell_type": "code",
   "execution_count": 21,
   "metadata": {
    "collapsed": false
   },
   "outputs": [
    {
     "name": "stdout",
     "output_type": "stream",
     "text": [
      "{'hidden_layer_sizes': 4}\n",
      "0.7775\n"
     ]
    }
   ],
   "source": [
    "nn3_input = data[['rsrp1','rsrq1','rsrp2','rsrq2','rsrp3','rsrq3','previousrsrp1','previousrsrq1','previousrsrp2','previousrsrq2','previousrsrp3','previousrsrq3']]\n",
    "nn3_output = data.best_output\n",
    "\n",
    "nn3 = GridSearchCV(estimator=MLPClassifier(solver='lbfgs', random_state=1, validation_fraction=0.25), param_grid=param_test, cv=5, scoring='roc_auc')\n",
    "\n",
    "nn3.fit(nn3_input.as_matrix(), nn3_output)\n",
    "\n",
    "def nn3_func(row):\n",
    "    nn3_input_ = row[['rsrp1','rsrq1','rsrp2','rsrq2','rsrp3','rsrq3','previousrsrp1','previousrsrq1','previousrsrp2','previousrsrq2','previousrsrp3','previousrsrq3']].values.reshape(1, -1)\n",
    "    return nn3.predict(nn3_input_)[0]\n",
    "\n",
    "print (nn3.best_params_)\n",
    "print (((nn3_input.apply(nn3_func, axis=1)==data.best_output).sum())/data.best_output.size)"
   ]
  },
  {
   "cell_type": "code",
   "execution_count": 22,
   "metadata": {
    "collapsed": false
   },
   "outputs": [],
   "source": [
    "teste['best_choice_download_complete'] = teste.apply(lambda x: download_complete(x, column='best_output'), axis=1)\n",
    "teste['best_choice_download_time'] = teste.apply(lambda x: download_time(x, column='best_output'), axis=1)\n",
    "teste['best_choice_throughput'] = teste.apply(lambda x: throughput(x, column='best_output'), axis=1)"
   ]
  },
  {
   "cell_type": "code",
   "execution_count": 23,
   "metadata": {
    "collapsed": false
   },
   "outputs": [],
   "source": [
    "teste['nn1'] = teste.apply(nn1_func, axis=1)\n",
    "teste['nn1_download_complete'] = teste.apply(lambda x: download_complete(x, column='nn1'), axis=1)\n",
    "teste['nn1_download_time'] = teste.apply(lambda x: download_time(x, column='nn1'), axis=1)\n",
    "teste['nn1_throughput'] = teste.apply(lambda x: throughput(x, column='nn1'), axis=1)"
   ]
  },
  {
   "cell_type": "code",
   "execution_count": 24,
   "metadata": {
    "collapsed": false
   },
   "outputs": [],
   "source": [
    "teste['nn2'] = teste.apply(nn2_func, axis=1)\n",
    "teste['nn2_download_complete'] = teste.apply(lambda x: download_complete(x, column='nn2'), axis=1)\n",
    "teste['nn2_download_time'] = teste.apply(lambda x: download_time(x, column='nn2'), axis=1)\n",
    "teste['nn2_throughput'] = teste.apply(lambda x: throughput(x, column='nn2'), axis=1)"
   ]
  },
  {
   "cell_type": "code",
   "execution_count": 25,
   "metadata": {
    "collapsed": false
   },
   "outputs": [],
   "source": [
    "teste['nn3'] = teste.apply(nn3_func, axis=1)\n",
    "teste['nn3_download_complete'] = teste.apply(lambda x: download_complete(x, column='nn3'), axis=1)\n",
    "teste['nn3_download_time'] = teste.apply(lambda x: download_time(x, column='nn3'), axis=1)\n",
    "teste['nn3_throughput'] = teste.apply(lambda x: throughput(x, column='nn3'), axis=1)"
   ]
  },
  {
   "cell_type": "markdown",
   "metadata": {},
   "source": [
    "\n",
    "### Estratégias Clássicas"
   ]
  },
  {
   "cell_type": "code",
   "execution_count": 26,
   "metadata": {
    "collapsed": false
   },
   "outputs": [],
   "source": [
    "teste['a2a4rsrp'] = teste.apply(a2a4rsrp, axis=1)\n",
    "teste['a2a4rsrp_download_complete'] = teste.apply(lambda x: download_complete(x, column='a2a4rsrp'), axis=1)\n",
    "teste['a2a4rsrp_download_time'] = teste.apply(lambda x: download_time(x, column='a2a4rsrp'), axis=1)\n",
    "teste['a2a4rsrp_throughput'] = teste.apply(lambda x: throughput(x, column='a2a4rsrp'), axis=1)"
   ]
  },
  {
   "cell_type": "code",
   "execution_count": 27,
   "metadata": {
    "collapsed": false
   },
   "outputs": [],
   "source": [
    "def func(row):\n",
    "    if (row.downloadTime<100):\n",
    "        return row.downloadTime\n",
    "    \n",
    "teste['a3rsrp_download_complete'] = (a3rsrp_teste.downloadTime<100).astype(int)\n",
    "teste['a3rsrp_download_time'] = a3rsrp_teste.apply((lambda x: func(x)), axis=1)\n",
    "teste['a3rsrp_throughput'] = (a3rsrp_teste.rxBytes/a3rsrp_teste.downloadTime)*8/1e6\n",
    "\n",
    "teste['a2a4rsrq_download_complete'] = (a2a4rsrq_teste.downloadTime<100).astype(int)\n",
    "teste['a2a4rsrq_download_time'] = a2a4rsrq_teste.apply((lambda x: func(x)), axis=1)\n",
    "teste['a2a4rsrq_throughput'] = (a2a4rsrq_teste.rxBytes/a2a4rsrq_teste.downloadTime)*8/1e6"
   ]
  },
  {
   "cell_type": "markdown",
   "metadata": {},
   "source": [
    "#### Resultados - Sem Shadowing"
   ]
  },
  {
   "cell_type": "code",
   "execution_count": 28,
   "metadata": {
    "collapsed": false
   },
   "outputs": [],
   "source": [
    "estrategias = ['a2a4rsrp', 'a2a4rsrq', 'a3rsrp', 'nn1', 'nn2', 'nn3', 'best_choice']\n",
    "\n",
    "results_ss = {}\n",
    "casas = 3\n",
    "for estrategia in estrategias:\n",
    "    #print(\"\\n\\n\", estrategia)\n",
    "    #print(\"- Geral:\")\n",
    "    #print(\"Percentual de Downloads Completos: \", (teste[estrategia+\"_download_complete\"].sum()/teste.index.size)*100, \"%\")\n",
    "    #print(\"Tempo Médio de Download para os Downloads Completos: \", teste[estrategia+\"_download_time\"].mean(), \"s\")\n",
    "    #print(\"Throughput Médio: \", teste[estrategia+\"_throughput\"].mean(), \"Mbps\")\n",
    "    #print(\"- Para a região central [-30,0]:\")\n",
    "    #print(\"Percentual de Downloads Completos: \", (teste[(teste.angle>-30) & (teste.angle<0)][estrategia+\"_download_complete\"].sum()/teste[(teste.angle>-30) & (teste.angle<0)].index.size)*100, \"%\")\n",
    "    #print(\"Tempo Médio de Download para os Downloads Completos: \", teste[(teste.angle>-30) & (teste.angle<0)][estrategia+\"_download_time\"].mean(), \"s\")\n",
    "    #print(\"Throughput Médio: \", teste[(teste.angle>-30) & (teste.angle<0)][estrategia+\"_throughput\"].mean(), \"Mbps\")\n",
    "    results_ss[estrategia] = []\n",
    "    results_ss[estrategia].append(round((teste[estrategia+\"_download_complete\"].sum()/teste.index.size)*100,casas))\n",
    "    results_ss[estrategia].append(round(teste[estrategia+\"_download_time\"].mean(),casas))\n",
    "    results_ss[estrategia].append(round(teste[estrategia+\"_throughput\"].mean(),casas))\n",
    "    results_ss[estrategia].append(round((teste[(teste.angle>-30) & (teste.angle<0)][estrategia+\"_download_complete\"].sum()/teste[(teste.angle>-30) & (teste.angle<0)].index.size)*100,casas))\n",
    "    results_ss[estrategia].append(round(teste[(teste.angle>-30) & (teste.angle<0)][estrategia+\"_download_time\"].mean(),casas))\n",
    "    results_ss[estrategia].append(round(teste[(teste.angle>-30) & (teste.angle<0)][estrategia+\"_throughput\"].mean(),casas))"
   ]
  },
  {
   "cell_type": "markdown",
   "metadata": {},
   "source": [
    "#### Resultados para o conjunto de teste - OhBuildings com shadowing"
   ]
  },
  {
   "cell_type": "markdown",
   "metadata": {},
   "source": [
    "#### Geral"
   ]
  },
  {
   "cell_type": "markdown",
   "metadata": {
    "variables": {
     "results_ss['a2a4rsrp'][0]": "50.0",
     "results_ss['a2a4rsrp'][1]": "38.938",
     "results_ss['a2a4rsrp'][2]": "1.96",
     "results_ss['a2a4rsrq'][0]": "57.0",
     "results_ss['a2a4rsrq'][1]": "38.388",
     "results_ss['a2a4rsrq'][2]": "2.173",
     "results_ss['a3rsrp'][0]": "58.0",
     "results_ss['a3rsrp'][1]": "36.569",
     "results_ss['a3rsrp'][2]": "2.301",
     "results_ss['best_choice'][0]": "69.5",
     "results_ss['best_choice'][1]": "39.241",
     "results_ss['best_choice'][2]": "2.454",
     "results_ss['nn1'][0]": "51.5",
     "results_ss['nn1'][1]": "38.17",
     "results_ss['nn1'][2]": "2.02",
     "results_ss['nn2'][0]": "48.0",
     "results_ss['nn2'][1]": "38.358",
     "results_ss['nn2'][2]": "1.939",
     "results_ss['nn3'][0]": "51.5",
     "results_ss['nn3'][1]": "38.469",
     "results_ss['nn3'][2]": "2.018"
    }
   },
   "source": [
    "|   |A2A4RSRP|A2A4RSRQ|A3RSRP|NN1|NN2|NN3|BEST CHOICE|\n",
    "|---|---|---|---|---|---|---|---|\n",
    "|Downloads completos (%)|{{results_ss['a2a4rsrp'][0]}}|{{results_ss['a2a4rsrq'][0]}}|{{results_ss['a3rsrp'][0]}}|{{results_ss['nn1'][0]}}|{{results_ss['nn2'][0]}}|{{results_ss['nn3'][0]}}|{{results_ss['best_choice'][0]}}|\n",
    "|Tempo médio de download para os downloads completos (s)|{{results_ss['a2a4rsrp'][1]}}|{{results_ss['a2a4rsrq'][1]}}|{{results_ss['a3rsrp'][1]}}|{{results_ss['nn1'][1]}}|{{results_ss['nn2'][1]}}|{{results_ss['nn3'][1]}}|{{results_ss['best_choice'][1]}}|\n",
    "|Throughput médio (Mbps)|{{results_ss['a2a4rsrp'][2]}}|{{results_ss['a2a4rsrq'][2]}}|{{results_ss['a3rsrp'][2]}}|{{results_ss['nn1'][2]}}|{{results_ss['nn2'][2]}}|{{results_ss['nn3'][2]}}|{{results_ss['best_choice'][2]}}|"
   ]
  },
  {
   "cell_type": "markdown",
   "metadata": {},
   "source": [
    "#### Para a região central [-30,0]"
   ]
  },
  {
   "cell_type": "markdown",
   "metadata": {
    "variables": {
     "results_ss['a2a4rsrp'][3]": "49.254",
     "results_ss['a2a4rsrp'][4]": "41.969",
     "results_ss['a2a4rsrp'][5]": "1.805",
     "results_ss['a2a4rsrq'][3]": "56.716",
     "results_ss['a2a4rsrq'][4]": "42.488",
     "results_ss['a2a4rsrq'][5]": "2.007",
     "results_ss['a3rsrp'][3]": "49.254",
     "results_ss['a3rsrp'][4]": "41.227",
     "results_ss['a3rsrp'][5]": "1.855",
     "results_ss['best_choice'][3]": "59.701",
     "results_ss['best_choice'][4]": "40.993",
     "results_ss['best_choice'][5]": "2.095",
     "results_ss['nn1'][3]": "50.746",
     "results_ss['nn1'][4]": "40.381",
     "results_ss['nn1'][5]": "1.907",
     "results_ss['nn2'][3]": "41.791",
     "results_ss['nn2'][4]": "39.944",
     "results_ss['nn2'][5]": "1.711",
     "results_ss['nn3'][3]": "47.761",
     "results_ss['nn3'][4]": "40.467",
     "results_ss['nn3'][5]": "1.825"
    }
   },
   "source": [
    "|   |A2A4RSRP|A2A4RSRQ|A3RSRP|NN1|NN2|NN3|BEST CHOICE|\n",
    "|---|---|---|---|---|---|---|---|\n",
    "|Downloads completos (%)|{{results_ss['a2a4rsrp'][3]}}|{{results_ss['a2a4rsrq'][3]}}|{{results_ss['a3rsrp'][3]}}|{{results_ss['nn1'][3]}}|{{results_ss['nn2'][3]}}|{{results_ss['nn3'][3]}}|{{results_ss['best_choice'][3]}}|\n",
    "|Tempo médio de download para os downloads completos (s)|{{results_ss['a2a4rsrp'][4]}}|{{results_ss['a2a4rsrq'][4]}}|{{results_ss['a3rsrp'][4]}}|{{results_ss['nn1'][4]}}|{{results_ss['nn2'][4]}}|{{results_ss['nn3'][4]}}|{{results_ss['best_choice'][4]}}|\n",
    "|Throughput médio (Mbps)|{{results_ss['a2a4rsrp'][5]}}|{{results_ss['a2a4rsrq'][5]}}|{{results_ss['a3rsrp'][5]}}|{{results_ss['nn1'][5]}}|{{results_ss['nn2'][5]}}|{{results_ss['nn3'][5]}}|{{results_ss['best_choice'][5]}}|"
   ]
  },
  {
   "cell_type": "code",
   "execution_count": null,
   "metadata": {
    "collapsed": true
   },
   "outputs": [],
   "source": []
  }
 ],
 "metadata": {
  "kernelspec": {
   "display_name": "Python 3",
   "language": "python",
   "name": "python3"
  },
  "language_info": {
   "codemirror_mode": {
    "name": "ipython",
    "version": 3
   },
   "file_extension": ".py",
   "mimetype": "text/x-python",
   "name": "python",
   "nbconvert_exporter": "python",
   "pygments_lexer": "ipython3",
   "version": "3.6.0"
  }
 },
 "nbformat": 4,
 "nbformat_minor": 2
}
