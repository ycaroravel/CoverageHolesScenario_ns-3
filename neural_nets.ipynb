{
 "cells": [
  {
   "cell_type": "code",
   "execution_count": null,
   "metadata": {
    "collapsed": true
   },
   "outputs": [],
   "source": []
  },
  {
   "cell_type": "code",
   "execution_count": 1,
   "metadata": {
    "collapsed": false
   },
   "outputs": [
    {
     "data": {
      "text/html": [
       "<script>\n",
       "code_show=true; \n",
       "function code_toggle() {\n",
       " if (code_show){\n",
       " $('div.input').hide();\n",
       " } else {\n",
       " $('div.input').show();\n",
       " }\n",
       " code_show = !code_show\n",
       "} \n",
       "$( document ).ready(code_toggle);\n",
       "</script>\n",
       "<form action=\"javascript:code_toggle()\"><input type=\"submit\" value=\"Click here to toggle on/off the raw code.\"></form>"
      ],
      "text/plain": [
       "<IPython.core.display.HTML object>"
      ]
     },
     "execution_count": 1,
     "metadata": {},
     "output_type": "execute_result"
    }
   ],
   "source": [
    "from IPython.display import HTML\n",
    "\n",
    "HTML('''<script>\n",
    "code_show=true; \n",
    "function code_toggle() {\n",
    " if (code_show){\n",
    " $('div.input').hide();\n",
    " } else {\n",
    " $('div.input').show();\n",
    " }\n",
    " code_show = !code_show\n",
    "} \n",
    "$( document ).ready(code_toggle);\n",
    "</script>\n",
    "<form action=\"javascript:code_toggle()\"><input type=\"submit\" value=\"Click here to toggle on/off the raw code.\"></form>''')"
   ]
  },
  {
   "cell_type": "code",
   "execution_count": 396,
   "metadata": {
    "collapsed": true
   },
   "outputs": [],
   "source": [
    "import pandas as pd\n",
    "import numpy as np\n",
    "from sklearn.neural_network import MLPClassifier\n",
    "from sklearn.neural_network import MLPRegressor\n",
    "import matplotlib.pyplot as plt\n",
    "%matplotlib inline"
   ]
  },
  {
   "cell_type": "code",
   "execution_count": 397,
   "metadata": {
    "collapsed": false
   },
   "outputs": [],
   "source": [
    "def best_output(row):\n",
    "    # se o downloadTime é diferente de 100 para T2 e T3, ambos os targets completam o download\n",
    "    if ((row.downloadTimeT2!=100)&(row.downloadTimeT3!=100)):\n",
    "        # o melhor output será aquele para o qual o downloadTime é menor\n",
    "        if (row.downloadTimeT2<=row.downloadTimeT3):\n",
    "            return 0\n",
    "        else:\n",
    "            return 1\n",
    "    \n",
    "    # se o downloadTime é diferente de 100 apenas para um dos targets, só um deles completa o download\n",
    "    elif ((row.downloadTimeT2!=100)|(row.downloadTimeT3!=100)):\n",
    "        # o melhor output será aquele para o qual o downloadTime é diferente de 100\n",
    "        if (row.downloadTimeT2!=100):\n",
    "            return 0\n",
    "        else:\n",
    "            return 1\n",
    "        \n",
    "    # se o downloadTime é igual a 100 para T2 e T3, ambos os targets não completam o download\n",
    "    elif ((row.downloadTimeT2==100)&(row.downloadTimeT3==100)):\n",
    "        # o melhor output será aquele para o qual o rxBytes é maior\n",
    "        if (row.rxBytesT2>=row.rxBytesT3):\n",
    "            return 0\n",
    "        else:\n",
    "            return 1"
   ]
  },
  {
   "cell_type": "code",
   "execution_count": 398,
   "metadata": {
    "collapsed": true
   },
   "outputs": [],
   "source": [
    "def download_complete(row, column):\n",
    "    if (row[column]==0):\n",
    "        if(row.downloadTimeT2!=100.0):\n",
    "            return 1\n",
    "        else:\n",
    "            return 0\n",
    "    else:\n",
    "        if(row.downloadTimeT3!=100.0):\n",
    "            return 1\n",
    "        else: \n",
    "            return 0\n",
    "\n",
    "        \n",
    "def download_time(row, column):\n",
    "    if ((row[column]==0)&(row.downloadTimeT2<100)):\n",
    "        return row.downloadTimeT2\n",
    "    elif ((row[column]==1)&(row.downloadTimeT3<100)):\n",
    "        return row.downloadTimeT3\n",
    "\n",
    "    \n",
    "def throughput(row, column):\n",
    "    if (row[column]==0):\n",
    "        tp = (row.rxBytesT2/row.downloadTimeT2)*8/1e6\n",
    "        return tp\n",
    "    else:\n",
    "        tp = (row.rxBytesT3/row.downloadTimeT3)*8/1e6\n",
    "        return tp"
   ]
  },
  {
   "cell_type": "code",
   "execution_count": 399,
   "metadata": {
    "collapsed": true
   },
   "outputs": [],
   "source": [
    "def optimum_choice(row, column):\n",
    "    if (row[column]==row.best_output):\n",
    "        return 1\n",
    "    else:\n",
    "        return 0"
   ]
  },
  {
   "cell_type": "code",
   "execution_count": 400,
   "metadata": {
    "collapsed": true
   },
   "outputs": [],
   "source": [
    "def a2a4rsrp(row):\n",
    "    if (row.rsrp2>=row.rsrp3):\n",
    "        return 0\n",
    "    else:\n",
    "        return 1"
   ]
  },
  {
   "cell_type": "markdown",
   "metadata": {},
   "source": [
    "# Sem Shadowing"
   ]
  },
  {
   "cell_type": "code",
   "execution_count": 401,
   "metadata": {
    "collapsed": false
   },
   "outputs": [],
   "source": [
    "# importando os datasets\n",
    "t2 = pd.read_csv('resultados/t2_OkumuraHata_Modificado', delimiter='\\t')\n",
    "t3 = pd.read_csv('resultados/t3_OkumuraHata_Modificado', delimiter='\\t')\n",
    "\n",
    "# garantindo que utilizaremos apenas as sementes presentes nos dois datasets\n",
    "t2 = t2[t2.nRun.isin(t3.nRun)]\n",
    "t3 = t3[t3.nRun.isin(t2.nRun)]\n",
    "t2 = t2.reset_index(drop=True)\n",
    "t3 = t3.reset_index(drop=True)"
   ]
  },
  {
   "cell_type": "code",
   "execution_count": 402,
   "metadata": {
    "collapsed": false
   },
   "outputs": [],
   "source": [
    "# combinando os datasets\n",
    "data = t2\n",
    "data = data.drop(['targetCellId', 'downloadTime', 'rxBytes'], axis=1)\n",
    "data['downloadTimeT2'] = t2.downloadTime\n",
    "data['downloadTimeT3'] = t3.downloadTime\n",
    "data['rxBytesT2'] = t2.rxBytes\n",
    "data['rxBytesT3'] = t3.rxBytes"
   ]
  },
  {
   "cell_type": "code",
   "execution_count": 403,
   "metadata": {
    "collapsed": false
   },
   "outputs": [
    {
     "data": {
      "text/html": [
       "<div>\n",
       "<table border=\"1\" class=\"dataframe\">\n",
       "  <thead>\n",
       "    <tr style=\"text-align: right;\">\n",
       "      <th></th>\n",
       "      <th>nRun</th>\n",
       "      <th>angle</th>\n",
       "      <th>rsrp1</th>\n",
       "      <th>rsrq1</th>\n",
       "      <th>rsrp2</th>\n",
       "      <th>rsrq2</th>\n",
       "      <th>rsrp3</th>\n",
       "      <th>rsrq3</th>\n",
       "      <th>previousrsrp1</th>\n",
       "      <th>previousrsrq1</th>\n",
       "      <th>previousrsrp2</th>\n",
       "      <th>previousrsrq2</th>\n",
       "      <th>previousrsrp3</th>\n",
       "      <th>previousrsrq3</th>\n",
       "      <th>downloadTimeT2</th>\n",
       "      <th>downloadTimeT3</th>\n",
       "      <th>rxBytesT2</th>\n",
       "      <th>rxBytesT3</th>\n",
       "      <th>best_output</th>\n",
       "    </tr>\n",
       "  </thead>\n",
       "  <tbody>\n",
       "    <tr>\n",
       "      <th>0</th>\n",
       "      <td>1</td>\n",
       "      <td>-54.57300</td>\n",
       "      <td>-91.4534</td>\n",
       "      <td>-4.36266</td>\n",
       "      <td>-96.7808</td>\n",
       "      <td>-9.69006</td>\n",
       "      <td>-102.9210</td>\n",
       "      <td>-15.8302</td>\n",
       "      <td>-91.2293</td>\n",
       "      <td>-4.27418</td>\n",
       "      <td>-96.9354</td>\n",
       "      <td>-9.9803</td>\n",
       "      <td>-102.8840</td>\n",
       "      <td>-15.9288</td>\n",
       "      <td>37.000</td>\n",
       "      <td>100.0000</td>\n",
       "      <td>15728640</td>\n",
       "      <td>10170752</td>\n",
       "      <td>0</td>\n",
       "    </tr>\n",
       "    <tr>\n",
       "      <th>1</th>\n",
       "      <td>2</td>\n",
       "      <td>-24.03920</td>\n",
       "      <td>-91.2610</td>\n",
       "      <td>-4.30386</td>\n",
       "      <td>-97.6844</td>\n",
       "      <td>-10.72730</td>\n",
       "      <td>-100.5270</td>\n",
       "      <td>-13.5702</td>\n",
       "      <td>-91.0186</td>\n",
       "      <td>-4.21518</td>\n",
       "      <td>-97.8386</td>\n",
       "      <td>-11.0352</td>\n",
       "      <td>-100.5620</td>\n",
       "      <td>-13.7581</td>\n",
       "      <td>46.809</td>\n",
       "      <td>100.0000</td>\n",
       "      <td>15728640</td>\n",
       "      <td>15106984</td>\n",
       "      <td>0</td>\n",
       "    </tr>\n",
       "    <tr>\n",
       "      <th>2</th>\n",
       "      <td>3</td>\n",
       "      <td>-20.04290</td>\n",
       "      <td>-91.3627</td>\n",
       "      <td>-4.33647</td>\n",
       "      <td>-97.8093</td>\n",
       "      <td>-10.78300</td>\n",
       "      <td>-100.2320</td>\n",
       "      <td>-13.2054</td>\n",
       "      <td>-91.1204</td>\n",
       "      <td>-4.24653</td>\n",
       "      <td>-97.9572</td>\n",
       "      <td>-11.0833</td>\n",
       "      <td>-100.2760</td>\n",
       "      <td>-13.4026</td>\n",
       "      <td>48.781</td>\n",
       "      <td>42.7271</td>\n",
       "      <td>15728640</td>\n",
       "      <td>15728640</td>\n",
       "      <td>1</td>\n",
       "    </tr>\n",
       "    <tr>\n",
       "      <th>3</th>\n",
       "      <td>4</td>\n",
       "      <td>-49.51330</td>\n",
       "      <td>-91.3211</td>\n",
       "      <td>-4.33040</td>\n",
       "      <td>-96.8836</td>\n",
       "      <td>-9.89290</td>\n",
       "      <td>-102.4740</td>\n",
       "      <td>-15.4829</td>\n",
       "      <td>-91.0927</td>\n",
       "      <td>-4.24175</td>\n",
       "      <td>-97.0454</td>\n",
       "      <td>-10.1945</td>\n",
       "      <td>-102.4470</td>\n",
       "      <td>-15.5956</td>\n",
       "      <td>38.277</td>\n",
       "      <td>100.0000</td>\n",
       "      <td>15728640</td>\n",
       "      <td>10490760</td>\n",
       "      <td>0</td>\n",
       "    </tr>\n",
       "    <tr>\n",
       "      <th>4</th>\n",
       "      <td>5</td>\n",
       "      <td>-9.37145</td>\n",
       "      <td>-91.3008</td>\n",
       "      <td>-4.29974</td>\n",
       "      <td>-98.4062</td>\n",
       "      <td>-11.40520</td>\n",
       "      <td>-99.5329</td>\n",
       "      <td>-12.5319</td>\n",
       "      <td>-91.0547</td>\n",
       "      <td>-4.21276</td>\n",
       "      <td>-98.5311</td>\n",
       "      <td>-11.6892</td>\n",
       "      <td>-99.6079</td>\n",
       "      <td>-12.7659</td>\n",
       "      <td>100.000</td>\n",
       "      <td>39.6510</td>\n",
       "      <td>15560208</td>\n",
       "      <td>15728640</td>\n",
       "      <td>1</td>\n",
       "    </tr>\n",
       "  </tbody>\n",
       "</table>\n",
       "</div>"
      ],
      "text/plain": [
       "   nRun     angle    rsrp1    rsrq1    rsrp2     rsrq2     rsrp3    rsrq3  \\\n",
       "0     1 -54.57300 -91.4534 -4.36266 -96.7808  -9.69006 -102.9210 -15.8302   \n",
       "1     2 -24.03920 -91.2610 -4.30386 -97.6844 -10.72730 -100.5270 -13.5702   \n",
       "2     3 -20.04290 -91.3627 -4.33647 -97.8093 -10.78300 -100.2320 -13.2054   \n",
       "3     4 -49.51330 -91.3211 -4.33040 -96.8836  -9.89290 -102.4740 -15.4829   \n",
       "4     5  -9.37145 -91.3008 -4.29974 -98.4062 -11.40520  -99.5329 -12.5319   \n",
       "\n",
       "   previousrsrp1  previousrsrq1  previousrsrp2  previousrsrq2  previousrsrp3  \\\n",
       "0       -91.2293       -4.27418       -96.9354        -9.9803      -102.8840   \n",
       "1       -91.0186       -4.21518       -97.8386       -11.0352      -100.5620   \n",
       "2       -91.1204       -4.24653       -97.9572       -11.0833      -100.2760   \n",
       "3       -91.0927       -4.24175       -97.0454       -10.1945      -102.4470   \n",
       "4       -91.0547       -4.21276       -98.5311       -11.6892       -99.6079   \n",
       "\n",
       "   previousrsrq3  downloadTimeT2  downloadTimeT3  rxBytesT2  rxBytesT3  \\\n",
       "0       -15.9288          37.000        100.0000   15728640   10170752   \n",
       "1       -13.7581          46.809        100.0000   15728640   15106984   \n",
       "2       -13.4026          48.781         42.7271   15728640   15728640   \n",
       "3       -15.5956          38.277        100.0000   15728640   10490760   \n",
       "4       -12.7659         100.000         39.6510   15560208   15728640   \n",
       "\n",
       "   best_output  \n",
       "0            0  \n",
       "1            0  \n",
       "2            1  \n",
       "3            0  \n",
       "4            1  "
      ]
     },
     "execution_count": 403,
     "metadata": {},
     "output_type": "execute_result"
    }
   ],
   "source": [
    "data['best_output'] = data.apply(best_output, axis=1)\n",
    "data.head()"
   ]
  },
  {
   "cell_type": "code",
   "execution_count": 404,
   "metadata": {
    "collapsed": false
   },
   "outputs": [],
   "source": [
    "teste = data[data.nRun>800]\n",
    "data = data[data.nRun<=800]"
   ]
  },
  {
   "cell_type": "markdown",
   "metadata": {},
   "source": [
    "### Estratégia 1"
   ]
  },
  {
   "cell_type": "code",
   "execution_count": 405,
   "metadata": {
    "collapsed": true
   },
   "outputs": [],
   "source": [
    "# A: Download Completo ou Incompleto (para todas as amostras)\n",
    "nn1_a_input = data[['rsrp1','rsrq1','rsrp2','rsrq2','rsrp3','rsrq3','previousrsrp1','previousrsrq1','previousrsrp2','previousrsrq2','previousrsrp3','previousrsrq3']]\n",
    "\n",
    "# NN A para T2\n",
    "nn1_a0_output = (data.downloadTimeT2<100).astype(int)\n",
    "nn1_a0 = MLPClassifier(solver='lbfgs', alpha=1e-5, hidden_layer_sizes=(20), random_state=1, validation_fraction=0.25)\n",
    "nn1_a0.fit(nn1_a_input.as_matrix(), nn1_a0_output);\n",
    "\n",
    "# NN A para T3\n",
    "nn1_a1_output = (data.downloadTimeT3<100).astype(int)\n",
    "nn1_a1 = MLPClassifier(solver='lbfgs', alpha=1e-5, hidden_layer_sizes=(20), random_state=1, validation_fraction=0.25)\n",
    "nn1_a1.fit(nn1_a_input.as_matrix(), nn1_a1_output);"
   ]
  },
  {
   "cell_type": "code",
   "execution_count": 406,
   "metadata": {
    "collapsed": false
   },
   "outputs": [
    {
     "name": "stdout",
     "output_type": "stream",
     "text": [
      "0.9975\n",
      "0.99875\n"
     ]
    }
   ],
   "source": [
    "print ((nn1_a0.predict(nn1_a_input)==(data.downloadTimeT2!=100).astype(int)).sum()/data.shape[0])\n",
    "print ((nn1_a1.predict(nn1_a_input)==(data.downloadTimeT3!=100).astype(int)).sum()/data.shape[0])"
   ]
  },
  {
   "cell_type": "code",
   "execution_count": 407,
   "metadata": {
    "collapsed": false
   },
   "outputs": [],
   "source": [
    "# B: Tempo de Download (para amostras em que ambos os targets completam o download)\n",
    "nn1_b_input = data[(data.downloadTimeT2!=100)&(data.downloadTimeT3!=100)][['rsrp1','rsrq1','rsrp2','rsrq2','rsrp3','rsrq3','previousrsrp1','previousrsrq1','previousrsrp2','previousrsrq2','previousrsrp3','previousrsrq3']]\n",
    "# NN B para T2\n",
    "nn1_b0_output = data[(data.downloadTimeT2!=100)&(data.downloadTimeT3!=100)].downloadTimeT2\n",
    "nn1_b0 = MLPRegressor(solver='lbfgs', alpha=1e-5, hidden_layer_sizes=(5), random_state=1, validation_fraction=0.1)\n",
    "nn1_b0.fit(nn1_b_input.as_matrix(), nn1_b0_output);\n",
    "# NN B para T3\n",
    "nn1_b1_output = data[(data.downloadTimeT2!=100)&(data.downloadTimeT3!=100)].downloadTimeT3\n",
    "nn1_b1 = MLPRegressor(solver='lbfgs', alpha=1e-5, hidden_layer_sizes=(5), random_state=1, validation_fraction=0.1)\n",
    "nn1_b1.fit(nn1_b_input.as_matrix(), nn1_b1_output);"
   ]
  },
  {
   "cell_type": "code",
   "execution_count": 408,
   "metadata": {
    "collapsed": false
   },
   "outputs": [
    {
     "name": "stdout",
     "output_type": "stream",
     "text": [
      "0.286826277776\n",
      "0.124935778445\n"
     ]
    }
   ],
   "source": [
    "from sklearn.metrics import mean_squared_error\n",
    "print (mean_squared_error(nn1_b0.predict(nn1_b_input),data[(data.downloadTimeT2!=100)&(data.downloadTimeT3!=100)].downloadTimeT2))\n",
    "print (mean_squared_error(nn1_b1.predict(nn1_b_input),data[(data.downloadTimeT2!=100)&(data.downloadTimeT3!=100)].downloadTimeT3))"
   ]
  },
  {
   "cell_type": "code",
   "execution_count": 409,
   "metadata": {
    "collapsed": true
   },
   "outputs": [],
   "source": [
    "def nn1_func(row):\n",
    "    nn1_input = row[['rsrp1','rsrq1','rsrp2','rsrq2','rsrp3','rsrq3','previousrsrp1','previousrsrq1','previousrsrp2','previousrsrq2','previousrsrp3','previousrsrq3']].values.reshape(1, -1)\n",
    "    # Nível 1A\n",
    "    # se o downloadTime previsto é menor que 100 para T2 e T3, ambos os targets completam o download\n",
    "    if ((nn1_a0.predict(nn1_input)==1)&(nn1_a1.predict(nn1_input)==1)):\n",
    "        # Nível 2B\n",
    "        # o melhor output será aquele para o qual o downloadTime previsto é menor\n",
    "        if (nn1_b0.predict(nn1_input)<=nn1_b1.predict(nn1_input)):\n",
    "            return 0\n",
    "        else:\n",
    "            return 1\n",
    "    \n",
    "    # se o downloadTime previsto é menor que 100 apenas para um dos targets, só um deles completa o download\n",
    "    elif ((nn1_a0.predict(nn1_input)==1)|(nn1_a1.predict(nn1_input)==1)):\n",
    "        # o melhor output será aquele para o qual o downloadTime previsto é menor que 100\n",
    "        if (nn1_a0.predict(nn1_input)==1):\n",
    "            return 0\n",
    "        else:\n",
    "            return 1"
   ]
  },
  {
   "cell_type": "code",
   "execution_count": 410,
   "metadata": {
    "collapsed": false
   },
   "outputs": [
    {
     "data": {
      "text/plain": [
       "0.99875000000000003"
      ]
     },
     "execution_count": 410,
     "metadata": {},
     "output_type": "execute_result"
    }
   ],
   "source": [
    "((nn1_a_input.apply(nn1_func, axis=1)==data.best_output).sum())/data.best_output.size"
   ]
  },
  {
   "cell_type": "code",
   "execution_count": 411,
   "metadata": {
    "collapsed": false
   },
   "outputs": [
    {
     "data": {
      "text/plain": [
       "<matplotlib.axes._subplots.AxesSubplot at 0x7f30a4a879b0>"
      ]
     },
     "execution_count": 411,
     "metadata": {},
     "output_type": "execute_result"
    },
    {
     "data": {
      "image/png": "[encoded data removed]",
      "text/plain": [
       "<matplotlib.figure.Figure at 0x7f30a4afad68>"
      ]
     },
     "metadata": {},
     "output_type": "display_data"
    }
   ],
   "source": [
    "import seaborn as sns\n",
    "features = data[['rsrp1','rsrq1','rsrp2','rsrq2','rsrp3','rsrq3','previousrsrp1','previousrsrq1','previousrsrp2','previousrsrq2','previousrsrp3','previousrsrq3','best_output']]\n",
    "sns.heatmap(features.corr())"
   ]
  },
  {
   "cell_type": "markdown",
   "metadata": {},
   "source": [
    "### Estratégia 2"
   ]
  },
  {
   "cell_type": "code",
   "execution_count": 412,
   "metadata": {
    "collapsed": false
   },
   "outputs": [],
   "source": [
    "# A: Download Completo ou Incompleto (para todas as amostras)\n",
    "\n",
    "# NN A para T2\n",
    "nn2_a0_input = data[['rsrp2','rsrq2']]\n",
    "nn2_a0_output = (data.downloadTimeT2<100).astype(int)\n",
    "nn2_a0 = MLPClassifier(solver='lbfgs', alpha=1e-5, hidden_layer_sizes=(20), random_state=1, validation_fraction=0.25)\n",
    "nn2_a0.fit(nn2_a0_input.as_matrix(), nn2_a0_output);\n",
    "\n",
    "# NN A para T3\n",
    "nn2_a1_input = data[['rsrp3','rsrq3']]\n",
    "nn2_a1_output = (data.downloadTimeT3<100).astype(int)\n",
    "nn2_a1 = MLPClassifier(solver='lbfgs', alpha=1e-5, hidden_layer_sizes=(20), random_state=1, validation_fraction=0.25)\n",
    "nn2_a1.fit(nn2_a1_input.as_matrix(), nn2_a1_output);"
   ]
  },
  {
   "cell_type": "code",
   "execution_count": 413,
   "metadata": {
    "collapsed": false
   },
   "outputs": [
    {
     "name": "stdout",
     "output_type": "stream",
     "text": [
      "0.9975\n",
      "0.99875\n"
     ]
    }
   ],
   "source": [
    "print ((nn2_a0.predict(nn2_a0_input)==(data.downloadTimeT2!=100).astype(int)).sum()/data.shape[0])\n",
    "print ((nn2_a1.predict(nn2_a1_input)==(data.downloadTimeT3!=100).astype(int)).sum()/data.shape[0])"
   ]
  },
  {
   "cell_type": "code",
   "execution_count": 414,
   "metadata": {
    "collapsed": false
   },
   "outputs": [],
   "source": [
    "# B: Tempo de Download (para amostras em que ambos os targets completam o download)\n",
    "\n",
    "# NN B para T2\n",
    "nn2_b0_input = data[(data.downloadTimeT2!=100)&(data.downloadTimeT3!=100)][['rsrp2','rsrq2']]\n",
    "nn2_b0_output = data[(data.downloadTimeT2!=100)&(data.downloadTimeT3!=100)].downloadTimeT2\n",
    "nn2_b0 = MLPRegressor(solver='lbfgs', alpha=1e-2, hidden_layer_sizes=(5), random_state=1, validation_fraction=0.1)\n",
    "nn2_b0.fit(nn2_b0_input.as_matrix(), nn2_b0_output);\n",
    "# NN B para T3\n",
    "nn2_b1_input = data[(data.downloadTimeT2!=100)&(data.downloadTimeT3!=100)][['rsrp3','rsrq3']]\n",
    "nn2_b1_output = data[(data.downloadTimeT2!=100)&(data.downloadTimeT3!=100)].downloadTimeT3\n",
    "nn2_b1 = MLPRegressor(solver='lbfgs', alpha=1e-5, hidden_layer_sizes=(5), random_state=1, validation_fraction=0.1)\n",
    "nn2_b1.fit(nn2_b1_input.as_matrix(), nn2_b1_output);"
   ]
  },
  {
   "cell_type": "code",
   "execution_count": 415,
   "metadata": {
    "collapsed": false
   },
   "outputs": [
    {
     "name": "stdout",
     "output_type": "stream",
     "text": [
      "1.03581198586\n",
      "0.139856680391\n"
     ]
    }
   ],
   "source": [
    "from sklearn.metrics import mean_squared_error\n",
    "print (mean_squared_error(nn2_b0.predict(nn2_b0_input),data[(data.downloadTimeT2!=100)&(data.downloadTimeT3!=100)].downloadTimeT2))\n",
    "print (mean_squared_error(nn2_b1.predict(nn2_b1_input),data[(data.downloadTimeT2!=100)&(data.downloadTimeT3!=100)].downloadTimeT3))"
   ]
  },
  {
   "cell_type": "code",
   "execution_count": 416,
   "metadata": {
    "collapsed": true
   },
   "outputs": [],
   "source": [
    "def nn2_func(row):\n",
    "    nn2_a0_input = row[['rsrp2','rsrq2']].values.reshape(1, -1)\n",
    "    nn2_a1_input = row[['rsrp3','rsrq3']].values.reshape(1, -1)\n",
    "    \n",
    "    # Nível 1A\n",
    "    # se ambos os targets completam o download\n",
    "    if ((nn2_a0.predict(nn2_a0_input)==1)&(nn2_a1.predict(nn2_a1_input)==1)):\n",
    "        # Nível 2B\n",
    "        # o melhor output será aquele para o qual o downloadTime previsto é menor\n",
    "        nn2_b0_input = nn2_a0_input\n",
    "        nn2_b1_input = nn2_a0_input\n",
    "        if (nn2_b0.predict(nn2_b0_input)<=nn2_b1.predict(nn2_b1_input)):\n",
    "            return 0\n",
    "        else:\n",
    "            return 1\n",
    "    \n",
    "    # se apenas um dos targets completa o download\n",
    "    elif ((nn2_a0.predict(nn2_a0_input)==1)|(nn2_a1.predict(nn2_a1_input)==1)):\n",
    "        # o melhor output será aquele que completa o download, segundo a previsão\n",
    "        if (nn2_a0.predict(nn2_a0_input)==1):\n",
    "            return 0\n",
    "        else:\n",
    "            return 1"
   ]
  },
  {
   "cell_type": "code",
   "execution_count": 417,
   "metadata": {
    "collapsed": false
   },
   "outputs": [
    {
     "data": {
      "text/plain": [
       "0.99875000000000003"
      ]
     },
     "execution_count": 417,
     "metadata": {},
     "output_type": "execute_result"
    }
   ],
   "source": [
    "((data.apply(nn2_func, axis=1)==data.best_output).sum())/data.best_output.size"
   ]
  },
  {
   "cell_type": "markdown",
   "metadata": {},
   "source": [
    "### Estratégia 3"
   ]
  },
  {
   "cell_type": "code",
   "execution_count": 418,
   "metadata": {
    "collapsed": false
   },
   "outputs": [
    {
     "data": {
      "text/plain": [
       "MLPClassifier(activation='relu', alpha=1e-05, batch_size='auto', beta_1=0.9,\n",
       "       beta_2=0.999, early_stopping=False, epsilon=1e-08,\n",
       "       hidden_layer_sizes=5, learning_rate='constant',\n",
       "       learning_rate_init=0.001, max_iter=200, momentum=0.9,\n",
       "       nesterovs_momentum=True, power_t=0.5, random_state=1, shuffle=True,\n",
       "       solver='lbfgs', tol=0.0001, validation_fraction=0.25, verbose=False,\n",
       "       warm_start=False)"
      ]
     },
     "execution_count": 418,
     "metadata": {},
     "output_type": "execute_result"
    }
   ],
   "source": [
    "nn3_input = data[['rsrp1','rsrq1','rsrp2','rsrq2','rsrp3','rsrq3','previousrsrp1','previousrsrq1','previousrsrp2','previousrsrq2','previousrsrp3','previousrsrq3']]\n",
    "nn3_output = data.best_output\n",
    "\n",
    "nn3 = MLPClassifier(solver='lbfgs', alpha=1e-5, hidden_layer_sizes=(5), random_state=1, validation_fraction=0.25)\n",
    "\n",
    "nn3.fit(nn3_input.as_matrix(), nn3_output)"
   ]
  },
  {
   "cell_type": "code",
   "execution_count": 419,
   "metadata": {
    "collapsed": true
   },
   "outputs": [],
   "source": [
    "def nn3_func(row):\n",
    "    nn3_input_ = row[['rsrp1','rsrq1','rsrp2','rsrq2','rsrp3','rsrq3','previousrsrp1','previousrsrq1','previousrsrp2','previousrsrq2','previousrsrp3','previousrsrq3']].values.reshape(1, -1)\n",
    "    return nn3.predict(nn3_input_)[0]"
   ]
  },
  {
   "cell_type": "code",
   "execution_count": 420,
   "metadata": {
    "collapsed": false
   },
   "outputs": [
    {
     "data": {
      "text/plain": [
       "0.99875000000000003"
      ]
     },
     "execution_count": 420,
     "metadata": {},
     "output_type": "execute_result"
    }
   ],
   "source": [
    "((data.apply(nn3_func, axis=1)==data.best_output).sum())/data.best_output.size"
   ]
  },
  {
   "cell_type": "code",
   "execution_count": 421,
   "metadata": {
    "collapsed": false
   },
   "outputs": [],
   "source": [
    "teste['best_choice_download_complete'] = teste.apply(lambda x: download_complete(x, column='best_output'), axis=1)\n",
    "teste['best_choice_download_time'] = teste.apply(lambda x: download_time(x, column='best_output'), axis=1)\n",
    "teste['best_choice_throughput'] = teste.apply(lambda x: throughput(x, column='best_output'), axis=1)"
   ]
  },
  {
   "cell_type": "code",
   "execution_count": 422,
   "metadata": {
    "collapsed": false
   },
   "outputs": [],
   "source": [
    "teste['nn1'] = teste.apply(nn1_func, axis=1)\n",
    "teste['nn1_download_complete'] = teste.apply(lambda x: download_complete(x, column='nn1'), axis=1)\n",
    "teste['nn1_download_time'] = teste.apply(lambda x: download_time(x, column='nn1'), axis=1)\n",
    "teste['nn1_throughput'] = teste.apply(lambda x: throughput(x, column='nn1'), axis=1)"
   ]
  },
  {
   "cell_type": "code",
   "execution_count": 423,
   "metadata": {
    "collapsed": false
   },
   "outputs": [],
   "source": [
    "teste['nn2'] = teste.apply(nn2_func, axis=1)\n",
    "teste['nn2_download_complete'] = teste.apply(lambda x: download_complete(x, column='nn2'), axis=1)\n",
    "teste['nn2_download_time'] = teste.apply(lambda x: download_time(x, column='nn2'), axis=1)\n",
    "teste['nn2_throughput'] = teste.apply(lambda x: throughput(x, column='nn2'), axis=1)"
   ]
  },
  {
   "cell_type": "code",
   "execution_count": 424,
   "metadata": {
    "collapsed": false
   },
   "outputs": [],
   "source": [
    "teste['nn3'] = teste.apply(nn3_func, axis=1)\n",
    "teste['nn3_download_complete'] = teste.apply(lambda x: download_complete(x, column='nn3'), axis=1)\n",
    "teste['nn3_download_time'] = teste.apply(lambda x: download_time(x, column='nn3'), axis=1)\n",
    "teste['nn3_throughput'] = teste.apply(lambda x: throughput(x, column='nn3'), axis=1)"
   ]
  },
  {
   "cell_type": "markdown",
   "metadata": {},
   "source": [
    "### Estratégias Clássicas"
   ]
  },
  {
   "cell_type": "code",
   "execution_count": 425,
   "metadata": {
    "collapsed": false
   },
   "outputs": [],
   "source": [
    "teste['a2a4rsrp'] = teste.apply(a2a4rsrp, axis=1)\n",
    "teste['a2a4rsrp_download_complete'] = teste.apply(lambda x: download_complete(x, column='a2a4rsrp'), axis=1)\n",
    "teste['a2a4rsrp_download_time'] = teste.apply(lambda x: download_time(x, column='a2a4rsrp'), axis=1)\n",
    "teste['a2a4rsrp_throughput'] = teste.apply(lambda x: throughput(x, column='a2a4rsrp'), axis=1)"
   ]
  },
  {
   "cell_type": "code",
   "execution_count": 426,
   "metadata": {
    "collapsed": false
   },
   "outputs": [],
   "source": [
    "# importando os datasets com dados de simulações de outras duas estratégias clássicas\n",
    "a3rsrp = pd.read_csv('resultados/A3RSRP_OkumuraHata_Modificado', delimiter='\\t')\n",
    "a2a4rsrq = pd.read_csv('resultados/A2A4RSRQ_OkumuraHata_Modificado', delimiter='\\t')\n",
    "a3rsrp_teste = a3rsrp[a3rsrp.nRun>800]\n",
    "a2a4rsrq_teste = a2a4rsrq[a2a4rsrq.nRun>800]\n",
    "\n",
    "def func(row):\n",
    "    if (row.downloadTime<100):\n",
    "        return row.downloadTime\n",
    "    \n",
    "teste['a3rsrp_download_complete'] = (a3rsrp_teste.downloadTime<100).astype(int)\n",
    "teste['a3rsrp_download_time'] = a3rsrp_teste.apply((lambda x: func(x)), axis=1)\n",
    "teste['a3rsrp_throughput'] = (a3rsrp_teste.rxBytes/a3rsrp_teste.downloadTime)*8/1e6\n",
    "\n",
    "teste['a2a4rsrq_download_complete'] = (a2a4rsrq_teste.downloadTime<100).astype(int)\n",
    "teste['a2a4rsrq_download_time'] = a2a4rsrq_teste.apply((lambda x: func(x)), axis=1)\n",
    "teste['a2a4rsrq_throughput'] = (a2a4rsrq_teste.rxBytes/a2a4rsrq_teste.downloadTime)*8/1e6"
   ]
  },
  {
   "cell_type": "markdown",
   "metadata": {},
   "source": [
    "#### Resultados - Sem Shadowing"
   ]
  },
  {
   "cell_type": "code",
   "execution_count": 427,
   "metadata": {
    "collapsed": false
   },
   "outputs": [],
   "source": [
    "estrategias = ['a2a4rsrp', 'a2a4rsrq', 'a3rsrp', 'nn1', 'nn2', 'nn3', 'best_choice']\n",
    "\n",
    "results_ss = {}\n",
    "\n",
    "for estrategia in estrategias:\n",
    "    #print(\"\\n\\n\", estrategia)\n",
    "    #print(\"- Geral:\")\n",
    "    #print(\"Percentual de Downloads Completos: \", (teste[estrategia+\"_download_complete\"].sum()/teste.index.size)*100, \"%\")\n",
    "    #print(\"Tempo Médio de Download para os Downloads Completos: \", teste[estrategia+\"_download_time\"].mean(), \"s\")\n",
    "    #print(\"Throughput Médio: \", teste[estrategia+\"_throughput\"].mean(), \"Mbps\")\n",
    "    #print(\"- Para a região central [-30,0]:\")\n",
    "    #print(\"Percentual de Downloads Completos: \", (teste[(teste.angle>-30) & (teste.angle<0)][estrategia+\"_download_complete\"].sum()/teste[(teste.angle>-30) & (teste.angle<0)].index.size)*100, \"%\")\n",
    "    #print(\"Tempo Médio de Download para os Downloads Completos: \", teste[(teste.angle>-30) & (teste.angle<0)][estrategia+\"_download_time\"].mean(), \"s\")\n",
    "    #print(\"Throughput Médio: \", teste[(teste.angle>-30) & (teste.angle<0)][estrategia+\"_throughput\"].mean(), \"Mbps\")\n",
    "    results_ss[estrategia] = []\n",
    "    results_ss[estrategia].append(round((teste[estrategia+\"_download_complete\"].sum()/teste.index.size)*100,1))\n",
    "    results_ss[estrategia].append(round(teste[estrategia+\"_download_time\"].mean(),1))\n",
    "    results_ss[estrategia].append(round(teste[estrategia+\"_throughput\"].mean(),1))\n",
    "    results_ss[estrategia].append(round((teste[(teste.angle>-30) & (teste.angle<0)][estrategia+\"_download_complete\"].sum()/teste[(teste.angle>-30) & (teste.angle<0)].index.size)*100,1))\n",
    "    results_ss[estrategia].append(round(teste[(teste.angle>-30) & (teste.angle<0)][estrategia+\"_download_time\"].mean(),1))\n",
    "    results_ss[estrategia].append(round(teste[(teste.angle>-30) & (teste.angle<0)][estrategia+\"_throughput\"].mean(),1))"
   ]
  },
  {
   "cell_type": "markdown",
   "metadata": {},
   "source": [
    "#### Resultados para o conjunto de teste - OkumuraHata sem shadowing"
   ]
  },
  {
   "cell_type": "markdown",
   "metadata": {},
   "source": [
    "#### Geral"
   ]
  },
  {
   "cell_type": "markdown",
   "metadata": {
    "variables": {
     "results_ss['a2a4rsrp'][0]": "92.0",
     "results_ss['a2a4rsrp'][1]": "41.6",
     "results_ss['a2a4rsrp'][2]": "2.9",
     "results_ss['a2a4rsrq'][0]": "94.0",
     "results_ss['a2a4rsrq'][1]": "37.6",
     "results_ss['a2a4rsrq'][2]": "3.3",
     "results_ss['a3rsrp'][0]": "99.0",
     "results_ss['a3rsrp'][1]": "36.7",
     "results_ss['a3rsrp'][2]": "3.5",
     "results_ss['best_choice'][0]": "100.0",
     "results_ss['best_choice'][1]": "39.9",
     "results_ss['best_choice'][2]": "3.2",
     "results_ss['nn1'][0]": "100.0",
     "results_ss['nn1'][1]": "39.9",
     "results_ss['nn1'][2]": "3.2",
     "results_ss['nn2'][0]": "100.0",
     "results_ss['nn2'][1]": "39.9",
     "results_ss['nn2'][2]": "3.2",
     "results_ss['nn3'][0]": "100.0",
     "results_ss['nn3'][1]": "39.9",
     "results_ss['nn3'][2]": "3.2"
    }
   },
   "source": [
    "|   |A2A4RSRP|A2A4RSRQ|A3RSRP|NN1|NN2|NN3|BEST CHOICE|\n",
    "|---|---|---|---|---|---|---|---|\n",
    "|Downloads completos (%)|{{results_ss['a2a4rsrp'][0]}}|{{results_ss['a2a4rsrq'][0]}}|{{results_ss['a3rsrp'][0]}}|{{results_ss['nn1'][0]}}|{{results_ss['nn2'][0]}}|{{results_ss['nn3'][0]}}|{{results_ss['best_choice'][0]}}|\n",
    "|Tempo médio de download para os downloads completos (s)|{{results_ss['a2a4rsrp'][1]}}|{{results_ss['a2a4rsrq'][1]}}|{{results_ss['a3rsrp'][1]}}|{{results_ss['nn1'][1]}}|{{results_ss['nn2'][1]}}|{{results_ss['nn3'][1]}}|{{results_ss['best_choice'][1]}}|\n",
    "|Throughput médio (Mbps)|{{results_ss['a2a4rsrp'][2]}}|{{results_ss['a2a4rsrq'][2]}}|{{results_ss['a3rsrp'][2]}}|{{results_ss['nn1'][2]}}|{{results_ss['nn2'][2]}}|{{results_ss['nn3'][2]}}|{{results_ss['best_choice'][2]}}|"
   ]
  },
  {
   "cell_type": "markdown",
   "metadata": {},
   "source": [
    "#### Para a região central [-30,0]"
   ]
  },
  {
   "cell_type": "markdown",
   "metadata": {
    "variables": {
     "results_ss['a2a4rsrp'][3]": "73.3",
     "results_ss['a2a4rsrp'][4]": "49.7",
     "results_ss['a2a4rsrp'][5]": "2.2",
     "results_ss['a2a4rsrq'][3]": "81.7",
     "results_ss['a2a4rsrq'][4]": "45.6",
     "results_ss['a2a4rsrq'][5]": "2.5",
     "results_ss['a3rsrp'][3]": "96.7",
     "results_ss['a3rsrp'][4]": "45.1",
     "results_ss['a3rsrp'][5]": "2.8",
     "results_ss['best_choice'][3]": "100.0",
     "results_ss['best_choice'][4]": "42.0",
     "results_ss['best_choice'][5]": "3.0",
     "results_ss['nn1'][3]": "100.0",
     "results_ss['nn1'][4]": "42.0",
     "results_ss['nn1'][5]": "3.0",
     "results_ss['nn2'][3]": "100.0",
     "results_ss['nn2'][4]": "42.0",
     "results_ss['nn2'][5]": "3.0",
     "results_ss['nn3'][3]": "100.0",
     "results_ss['nn3'][4]": "42.0",
     "results_ss['nn3'][5]": "3.0"
    }
   },
   "source": [
    "|   |A2A4RSRP|A2A4RSRQ|A3RSRP|NN1|NN2|NN3|BEST CHOICE|\n",
    "|---|---|---|---|---|---|---|---|\n",
    "|Downloads completos (%)|{{results_ss['a2a4rsrp'][3]}}|{{results_ss['a2a4rsrq'][3]}}|{{results_ss['a3rsrp'][3]}}|{{results_ss['nn1'][3]}}|{{results_ss['nn2'][3]}}|{{results_ss['nn3'][3]}}|{{results_ss['best_choice'][3]}}|\n",
    "|Tempo médio de download para os downloads completos (s)|{{results_ss['a2a4rsrp'][4]}}|{{results_ss['a2a4rsrq'][4]}}|{{results_ss['a3rsrp'][4]}}|{{results_ss['nn1'][4]}}|{{results_ss['nn2'][4]}}|{{results_ss['nn3'][4]}}|{{results_ss['best_choice'][4]}}|\n",
    "|Throughput médio (Mbps)|{{results_ss['a2a4rsrp'][5]}}|{{results_ss['a2a4rsrq'][5]}}|{{results_ss['a3rsrp'][5]}}|{{results_ss['nn1'][5]}}|{{results_ss['nn2'][5]}}|{{results_ss['nn3'][5]}}|{{results_ss['best_choice'][5]}}|"
   ]
  },
  {
   "cell_type": "markdown",
   "metadata": {
    "collapsed": true
   },
   "source": [
    "# Com Shadowing"
   ]
  },
  {
   "cell_type": "code",
   "execution_count": 428,
   "metadata": {
    "collapsed": false
   },
   "outputs": [],
   "source": [
    "t2 = pd.read_csv('resultados/t2_OhBuildings_ComShadowing_Modificado', delimiter='\\t')\n",
    "t3 = pd.read_csv('resultados/t3_OhBuildings_ComShadowing_Modificado', delimiter='\\t')"
   ]
  },
  {
   "cell_type": "code",
   "execution_count": 429,
   "metadata": {
    "collapsed": true
   },
   "outputs": [],
   "source": [
    "t2 = t2[t2.nRun.isin(t3.nRun)]\n",
    "t2.reset_index(drop=True, inplace=True)\n",
    "t3 = t3[t3.nRun.isin(t2.nRun)]\n",
    "t3.reset_index(drop=True, inplace=True)"
   ]
  },
  {
   "cell_type": "code",
   "execution_count": 430,
   "metadata": {
    "collapsed": true
   },
   "outputs": [],
   "source": [
    "a3rsrp = pd.read_csv('resultados/A3RSRP_OhBuildings_ComShadowing_Modificado', delimiter='\\t')\n",
    "a2a4rsrq = pd.read_csv('resultados/A2A4RSRQ_OhBuildings_ComShadowing_Modificado', delimiter='\\t')"
   ]
  },
  {
   "cell_type": "code",
   "execution_count": 431,
   "metadata": {
    "collapsed": false
   },
   "outputs": [],
   "source": [
    "t2_runs = t2.nRun\n",
    "t3_runs = t3.nRun\n",
    "a3rsrp_runs = a3rsrp.nRun\n",
    "a2a4rsrq_runs = a2a4rsrq.nRun\n",
    "valid_results = t2[t2.rsrp1==t3.rsrp1].nRun\n",
    "valid_runs = set(t2_runs).intersection(t3_runs).intersection(a3rsrp_runs).intersection(a2a4rsrq_runs).intersection(valid_results)"
   ]
  },
  {
   "cell_type": "code",
   "execution_count": 432,
   "metadata": {
    "collapsed": false
   },
   "outputs": [],
   "source": [
    "t2 = t2[t2.nRun.isin(valid_runs)]\n",
    "t3 = t3[t3.nRun.isin(valid_runs)]\n",
    "a3rsrp = a3rsrp[a3rsrp.nRun.isin(valid_runs)]\n",
    "a2a4rsrq = a2a4rsrq[a2a4rsrq.nRun.isin(valid_runs)]\n",
    "\n",
    "t2.reset_index(drop=True, inplace=True)\n",
    "t3.reset_index(drop=True, inplace=True)\n",
    "a3rsrp.reset_index(drop=True, inplace=True)\n",
    "a2a4rsrq.reset_index(drop=True, inplace=True)"
   ]
  },
  {
   "cell_type": "code",
   "execution_count": 433,
   "metadata": {
    "collapsed": false
   },
   "outputs": [],
   "source": [
    "# combinando os datasets\n",
    "data = t2\n",
    "data = data.drop(['targetCellId', 'downloadTime', 'rxBytes'], axis=1)\n",
    "data['downloadTimeT2'] = t2.downloadTime\n",
    "data['downloadTimeT3'] = t3.downloadTime\n",
    "data['rxBytesT2'] = t2.rxBytes\n",
    "data['rxBytesT3'] = t3.rxBytes"
   ]
  },
  {
   "cell_type": "code",
   "execution_count": 434,
   "metadata": {
    "collapsed": false
   },
   "outputs": [],
   "source": [
    "data['best_output'] = data.apply(best_output, axis=1)"
   ]
  },
  {
   "cell_type": "code",
   "execution_count": 435,
   "metadata": {
    "collapsed": false
   },
   "outputs": [],
   "source": [
    "teste = data[(data.nRun>800) & (data.nRun<=1000)]\n",
    "data = data[data.nRun<=800]"
   ]
  },
  {
   "cell_type": "code",
   "execution_count": 436,
   "metadata": {
    "collapsed": true
   },
   "outputs": [],
   "source": [
    "a3rsrp_teste = a3rsrp[(a3rsrp.nRun>800) & (a3rsrp.nRun<=1000)]\n",
    "a2a4rsrq_teste = a2a4rsrq[(a2a4rsrq.nRun>800) & (a3rsrp.nRun<=1000)]"
   ]
  },
  {
   "cell_type": "markdown",
   "metadata": {},
   "source": [
    "### Estratégia 1"
   ]
  },
  {
   "cell_type": "code",
   "execution_count": 482,
   "metadata": {
    "collapsed": false
   },
   "outputs": [],
   "source": [
    "# A: Download Completo ou Incompleto (para todas as amostras)\n",
    "nn1_a_input = data[['rsrp1','rsrq1','rsrp2','rsrq2','rsrp3','rsrq3','previousrsrp1','previousrsrq1','previousrsrp2','previousrsrq2','previousrsrp3','previousrsrq3']]\n",
    "\n",
    "# NN A para T2\n",
    "nn1_a0_output = (data.downloadTimeT2<100).astype(int)\n",
    "nn1_a0 = MLPClassifier(solver='lbfgs', alpha=1e-4, hidden_layer_sizes=(), random_state=1, validation_fraction=0.25)\n",
    "nn1_a0.fit(nn1_a_input.as_matrix(), nn1_a0_output);\n",
    "\n",
    "# NN A para T3\n",
    "nn1_a1_output = (data.downloadTimeT3<100).astype(int)\n",
    "nn1_a1 = MLPClassifier(solver='lbfgs', alpha=1e-4, hidden_layer_sizes=(), random_state=1, validation_fraction=0.25)\n",
    "nn1_a1.fit(nn1_a_input.as_matrix(), nn1_a1_output);"
   ]
  },
  {
   "cell_type": "code",
   "execution_count": 483,
   "metadata": {
    "collapsed": false
   },
   "outputs": [
    {
     "name": "stdout",
     "output_type": "stream",
     "text": [
      "0.901639344262\n",
      "0.799180327869\n"
     ]
    }
   ],
   "source": [
    "print ((nn1_a0.predict(nn1_a_input)==(data.downloadTimeT2!=100).astype(int)).sum()/data.shape[0])\n",
    "print ((nn1_a1.predict(nn1_a_input)==(data.downloadTimeT3!=100).astype(int)).sum()/data.shape[0])"
   ]
  },
  {
   "cell_type": "code",
   "execution_count": 439,
   "metadata": {
    "collapsed": false
   },
   "outputs": [],
   "source": [
    "# B: Tempo de Download (para amostras em que ambos os targets completam o download)\n",
    "nn1_b_input = data[(data.downloadTimeT2!=100)&(data.downloadTimeT3!=100)][['rsrp1','rsrq1','rsrp2','rsrq2','rsrp3','rsrq3','previousrsrp1','previousrsrq1','previousrsrp2','previousrsrq2','previousrsrp3','previousrsrq3']]\n",
    "# NN B para T2\n",
    "nn1_b0_output = data[(data.downloadTimeT2!=100)&(data.downloadTimeT3!=100)].downloadTimeT2\n",
    "nn1_b0 = MLPRegressor(solver='lbfgs', alpha=1e-5, hidden_layer_sizes=(), random_state=1, validation_fraction=0.1)\n",
    "nn1_b0.fit(nn1_b_input.as_matrix(), nn1_b0_output);\n",
    "# NN B para T3\n",
    "nn1_b1_output = data[(data.downloadTimeT2!=100)&(data.downloadTimeT3!=100)].downloadTimeT3\n",
    "nn1_b1 = MLPRegressor(solver='lbfgs', alpha=1e-5, hidden_layer_sizes=(), random_state=1, validation_fraction=0.1)\n",
    "nn1_b1.fit(nn1_b_input.as_matrix(), nn1_b1_output);"
   ]
  },
  {
   "cell_type": "code",
   "execution_count": 440,
   "metadata": {
    "collapsed": false
   },
   "outputs": [
    {
     "name": "stdout",
     "output_type": "stream",
     "text": [
      "13.4092405802\n",
      "111.440473006\n"
     ]
    }
   ],
   "source": [
    "from sklearn.metrics import mean_squared_error\n",
    "print (mean_squared_error(nn1_b0.predict(nn1_b_input),data[(data.downloadTimeT2!=100)&(data.downloadTimeT3!=100)].downloadTimeT2))\n",
    "print (mean_squared_error(nn1_b1.predict(nn1_b_input),data[(data.downloadTimeT2!=100)&(data.downloadTimeT3!=100)].downloadTimeT3))"
   ]
  },
  {
   "cell_type": "code",
   "execution_count": 441,
   "metadata": {
    "collapsed": false
   },
   "outputs": [],
   "source": [
    "# C: RxBytes (para amostras em que ambos os targets não completam o download)\n",
    "nn1_c_input = data[(data.downloadTimeT2>=100)&(data.downloadTimeT3>=100)][['rsrp1','rsrq1','rsrp2','rsrq2','rsrp3','rsrq3','previousrsrp1','previousrsrq1','previousrsrp2','previousrsrq2','previousrsrp3','previousrsrq3']]\n",
    "# NN B para T2\n",
    "nn1_c0_output = data[(data.downloadTimeT2>=100)&(data.downloadTimeT3>=100)].rxBytesT2\n",
    "nn1_c0 = MLPRegressor(solver='lbfgs', alpha=1e-5, hidden_layer_sizes=(), random_state=1, validation_fraction=0.1)\n",
    "nn1_c0.fit(nn1_c_input.as_matrix(), nn1_c0_output);\n",
    "# NN B para T3\n",
    "nn1_c1_output = data[(data.downloadTimeT2>=100)&(data.downloadTimeT3>=100)].rxBytesT3\n",
    "nn1_c1 = MLPRegressor(solver='lbfgs', alpha=1e-5, hidden_layer_sizes=(), random_state=1, validation_fraction=0.1)\n",
    "nn1_c1.fit(nn1_c_input.as_matrix(), nn1_c1_output);"
   ]
  },
  {
   "cell_type": "code",
   "execution_count": 442,
   "metadata": {
    "collapsed": false
   },
   "outputs": [
    {
     "name": "stdout",
     "output_type": "stream",
     "text": [
      "1.13056481944e+13\n",
      "1.33244513315e+13\n"
     ]
    }
   ],
   "source": [
    "from sklearn.metrics import mean_squared_error\n",
    "print (mean_squared_error(nn1_c0.predict(nn1_c_input),data[(data.downloadTimeT2>=100)&(data.downloadTimeT3>=100)].rxBytesT2))\n",
    "print (mean_squared_error(nn1_c1.predict(nn1_c_input),data[(data.downloadTimeT2>=100)&(data.downloadTimeT3>=100)].rxBytesT3))"
   ]
  },
  {
   "cell_type": "code",
   "execution_count": 443,
   "metadata": {
    "collapsed": true
   },
   "outputs": [],
   "source": [
    "def nn1_func(row):\n",
    "    nn1_input = row[['rsrp1','rsrq1','rsrp2','rsrq2','rsrp3','rsrq3','previousrsrp1','previousrsrq1','previousrsrp2','previousrsrq2','previousrsrp3','previousrsrq3']].values.reshape(1, -1)\n",
    "    # Nível 1A\n",
    "    # se o downloadTime previsto é menor que 100 para T2 e T3, ambos os targets completam o download\n",
    "    if ((nn1_a0.predict(nn1_input)==1)&(nn1_a1.predict(nn1_input)==1)):\n",
    "        # Nível 2B\n",
    "        # o melhor output será aquele para o qual o downloadTime previsto é menor\n",
    "        if (nn1_b0.predict(nn1_input)<=nn1_b1.predict(nn1_input)):\n",
    "            return 0\n",
    "        else:\n",
    "            return 1\n",
    "    \n",
    "    # se o downloadTime previsto é menor que 100 apenas para um dos targets, só um deles completa o download\n",
    "    elif ((nn1_a0.predict(nn1_input)==1)|(nn1_a1.predict(nn1_input)==1)):\n",
    "        # o melhor output será aquele para o qual o downloadTime previsto é menor que 100\n",
    "        if (nn1_a0.predict(nn1_input)==1):\n",
    "            return 0\n",
    "        else:\n",
    "            return 1\n",
    "        \n",
    "    # se o downloadTime previsto é menor que 100 para ambos os targets\n",
    "    elif ((nn1_a0.predict(nn1_input)==0)&(nn1_a1.predict(nn1_input)==0)):\n",
    "        # o melhor output será aquele para o qual o rxBytes previsto é maior\n",
    "        if (nn1_c0.predict(nn1_input)>=nn1_c1.predict(nn1_input)):\n",
    "            return 0\n",
    "        else:\n",
    "            return 1        "
   ]
  },
  {
   "cell_type": "code",
   "execution_count": 444,
   "metadata": {
    "collapsed": false
   },
   "outputs": [
    {
     "data": {
      "text/plain": [
       "0.77663934426229508"
      ]
     },
     "execution_count": 444,
     "metadata": {},
     "output_type": "execute_result"
    }
   ],
   "source": [
    "((nn1_a_input.apply(nn1_func, axis=1)==data.best_output).sum())/data.best_output.size"
   ]
  },
  {
   "cell_type": "code",
   "execution_count": 445,
   "metadata": {
    "collapsed": false
   },
   "outputs": [
    {
     "data": {
      "text/plain": [
       "<matplotlib.axes._subplots.AxesSubplot at 0x7f30a4c65358>"
      ]
     },
     "execution_count": 445,
     "metadata": {},
     "output_type": "execute_result"
    },
    {
     "data": {
      "image/png": "[encoded data removed]",
      "text/plain": [
       "<matplotlib.figure.Figure at 0x7f30a4cb14a8>"
      ]
     },
     "metadata": {},
     "output_type": "display_data"
    }
   ],
   "source": [
    "import seaborn as sns\n",
    "features = data[['rsrp1','rsrq1','rsrp2','rsrq2','rsrp3','rsrq3','previousrsrp1','previousrsrq1','previousrsrp2','previousrsrq2','previousrsrp3','previousrsrq3','best_output']]\n",
    "sns.heatmap(features.corr())"
   ]
  },
  {
   "cell_type": "markdown",
   "metadata": {},
   "source": [
    "### Estratégia 2"
   ]
  },
  {
   "cell_type": "code",
   "execution_count": 484,
   "metadata": {
    "collapsed": true
   },
   "outputs": [],
   "source": [
    "data_norm = (data - data.mean()) / (data.max() - data.min())"
   ]
  },
  {
   "cell_type": "code",
   "execution_count": 501,
   "metadata": {
    "collapsed": false
   },
   "outputs": [
    {
     "name": "stdout",
     "output_type": "stream",
     "text": [
      "0.743852459016\n",
      "0.737704918033\n"
     ]
    }
   ],
   "source": [
    "# A: Download Completo ou Incompleto (para todas as amostras)\n",
    "\n",
    "# NN A para T2\n",
    "nn2_a0_input = data[['rsrp2','rsrq2']]\n",
    "nn2_a0_output = (data.downloadTimeT2<100).astype(int)\n",
    "nn2_a0 = MLPClassifier(solver='lbfgs', alpha=1e-5, hidden_layer_sizes=(20,15), random_state=1, validation_fraction=0.25)\n",
    "nn2_a0.fit(nn2_a0_input.as_matrix(), nn2_a0_output);\n",
    "\n",
    "# NN A para T3\n",
    "nn2_a1_input = data_norm[['rsrp3','rsrq3']]\n",
    "nn2_a1_output = (data.downloadTimeT3<100).astype(int)\n",
    "nn2_a1 = MLPClassifier(solver='lbfgs', alpha=1e-5, hidden_layer_sizes=(20,15), random_state=1, validation_fraction=0.25)\n",
    "nn2_a1.fit(nn2_a1_input.as_matrix(), nn2_a1_output);\n",
    "\n",
    "\n",
    "print ((nn2_a0.predict(nn2_a0_input)==(data.downloadTimeT2!=100).astype(int)).sum()/data.shape[0])\n",
    "print ((nn2_a1.predict(nn2_a1_input)==(data.downloadTimeT3!=100).astype(int)).sum()/data.shape[0])"
   ]
  },
  {
   "cell_type": "code",
   "execution_count": 502,
   "metadata": {
    "collapsed": false
   },
   "outputs": [
    {
     "name": "stdout",
     "output_type": "stream",
     "text": [
      "62.8248017321\n",
      "175.255961131\n"
     ]
    }
   ],
   "source": [
    "# B: Tempo de Download (para amostras em que ambos os targets completam o download)\n",
    "\n",
    "# NN B para T2\n",
    "nn2_b0_input = data[(data.downloadTimeT2!=100)&(data.downloadTimeT3!=100)][['rsrp2','rsrq2']]\n",
    "nn2_b0_output = data[(data.downloadTimeT2!=100)&(data.downloadTimeT3!=100)].downloadTimeT2\n",
    "nn2_b0 = MLPRegressor(solver='lbfgs', alpha=1e-2, hidden_layer_sizes=(20,15), random_state=1, validation_fraction=0.1)\n",
    "nn2_b0.fit(nn2_b0_input.as_matrix(), nn2_b0_output);\n",
    "# NN B para T3\n",
    "nn2_b1_input = data_norm[(data.downloadTimeT2!=100)&(data.downloadTimeT3!=100)][['rsrp3','rsrq3']]\n",
    "nn2_b1_output = data[(data.downloadTimeT2!=100)&(data.downloadTimeT3!=100)].downloadTimeT3\n",
    "nn2_b1 = MLPRegressor(solver='lbfgs', alpha=1e-3, hidden_layer_sizes=(20,15), random_state=1, validation_fraction=0.1)\n",
    "nn2_b1.fit(nn2_b1_input.as_matrix(), nn2_b1_output);\n",
    "\n",
    "from sklearn.metrics import mean_squared_error\n",
    "print (mean_squared_error(nn2_b0.predict(nn2_b0_input),data[(data.downloadTimeT2!=100)&(data.downloadTimeT3!=100)].downloadTimeT2))\n",
    "print (mean_squared_error(nn2_b1.predict(nn2_b1_input),data[(data.downloadTimeT2!=100)&(data.downloadTimeT3!=100)].downloadTimeT3))"
   ]
  },
  {
   "cell_type": "code",
   "execution_count": 448,
   "metadata": {
    "collapsed": false
   },
   "outputs": [
    {
     "name": "stdout",
     "output_type": "stream",
     "text": [
      "1.82493041031e+13\n",
      "1.81942807837e+13\n"
     ]
    }
   ],
   "source": [
    "# C: Bytes Recebidos (para amostras em que ambos os targets não completam o download)\n",
    "\n",
    "# NN C para T2\n",
    "nn2_c0_input = data[(data.downloadTimeT2==100)&(data.downloadTimeT3==100)][['rsrp2','rsrq2']]\n",
    "nn2_c0_output = data[(data.downloadTimeT2==100)&(data.downloadTimeT3==100)].rxBytesT2\n",
    "nn2_c0 = MLPRegressor(solver='lbfgs', alpha=1e-2, hidden_layer_sizes=(), random_state=1, validation_fraction=0.3)\n",
    "nn2_c0.fit(nn2_c0_input.as_matrix(), nn2_c0_output);\n",
    "# NN C para T3\n",
    "nn2_c1_input = data[(data.downloadTimeT2==100)&(data.downloadTimeT3==100)][['rsrp3','rsrq3']]\n",
    "nn2_c1_output = data[(data.downloadTimeT2==100)&(data.downloadTimeT3==100)].rxBytesT3\n",
    "nn2_c1 = MLPRegressor(solver='lbfgs', alpha=1e-2, hidden_layer_sizes=(), random_state=1, validation_fraction=0.3)\n",
    "nn2_c1.fit(nn2_c1_input.as_matrix(), nn2_c1_output);\n",
    "\n",
    "from sklearn.metrics import mean_squared_error\n",
    "print (mean_squared_error(nn2_c0.predict(nn2_c0_input),data[(data.downloadTimeT2==100)&(data.downloadTimeT3==100)].rxBytesT2))\n",
    "print (mean_squared_error(nn2_c1.predict(nn2_c1_input),data[(data.downloadTimeT2==100)&(data.downloadTimeT3==100)].rxBytesT3))"
   ]
  },
  {
   "cell_type": "code",
   "execution_count": 449,
   "metadata": {
    "collapsed": false
   },
   "outputs": [
    {
     "data": {
      "text/plain": [
       "0.58401639344262291"
      ]
     },
     "execution_count": 449,
     "metadata": {},
     "output_type": "execute_result"
    }
   ],
   "source": [
    "def nn2_func(row):\n",
    "    nn2_a0_input = row[['rsrp2','rsrq2']].values.reshape(1, -1)\n",
    "    nn2_a1_input = row[['rsrp3','rsrq3']].values.reshape(1, -1)\n",
    "    \n",
    "    # Nível 1A\n",
    "    # se ambos os targets completam o download\n",
    "    if ((nn2_a0.predict(nn2_a0_input)==1)&(nn2_a1.predict(nn2_a1_input)==1)):\n",
    "        # Nível 2B\n",
    "        # o melhor output será aquele para o qual o downloadTime previsto é menor\n",
    "        nn2_b0_input = nn2_a0_input\n",
    "        nn2_b1_input = nn2_a0_input\n",
    "        if (nn2_b0.predict(nn2_b0_input)<=nn2_b1.predict(nn2_b1_input)):\n",
    "            return 0\n",
    "        else:\n",
    "            return 1\n",
    "    \n",
    "    # se apenas um dos targets completa o download\n",
    "    elif ((nn2_a0.predict(nn2_a0_input)==1)|(nn2_a1.predict(nn2_a1_input)==1)):\n",
    "        # o melhor output será aquele que completa o download, segundo a previsão\n",
    "        if (nn2_a0.predict(nn2_a0_input)==1):\n",
    "            return 0\n",
    "        else:\n",
    "            return 1\n",
    "        \n",
    "    # se apenas nenhum dos targets completa o download\n",
    "    elif ((nn2_a0.predict(nn2_a0_input)==0)&(nn2_a1.predict(nn2_a1_input)==0)):\n",
    "        # o melhor output será aquele para o qual o rxBytes previsto é maior\n",
    "        nn2_c0_input = nn2_a0_input\n",
    "        nn2_c1_input = nn2_a0_input\n",
    "        if (nn2_c0.predict(nn2_c0_input)>=nn2_c1.predict(nn2_c1_input)):\n",
    "            return 0\n",
    "        else:\n",
    "            return 1        \n",
    "        \n",
    "((data.apply(nn2_func, axis=1)==data.best_output).sum())/data.best_output.size"
   ]
  },
  {
   "cell_type": "markdown",
   "metadata": {},
   "source": [
    "### Estratégia 3"
   ]
  },
  {
   "cell_type": "code",
   "execution_count": 450,
   "metadata": {
    "collapsed": false
   },
   "outputs": [
    {
     "data": {
      "text/plain": [
       "0.88729508196721307"
      ]
     },
     "execution_count": 450,
     "metadata": {},
     "output_type": "execute_result"
    }
   ],
   "source": [
    "nn3_input = data[['rsrp1','rsrq1','rsrp2','rsrq2','rsrp3','rsrq3','previousrsrp1','previousrsrq1','previousrsrp2','previousrsrq2','previousrsrp3','previousrsrq3']]\n",
    "nn3_output = data.best_output\n",
    "\n",
    "nn3 = MLPClassifier(solver='lbfgs', alpha=1e-4, hidden_layer_sizes=(), random_state=1, validation_fraction=0.3)\n",
    "\n",
    "nn3.fit(nn3_input.as_matrix(), nn3_output)\n",
    "\n",
    "def nn3_func(row):\n",
    "    nn3_input_ = row[['rsrp1','rsrq1','rsrp2','rsrq2','rsrp3','rsrq3','previousrsrp1','previousrsrq1','previousrsrp2','previousrsrq2','previousrsrp3','previousrsrq3']].values.reshape(1, -1)\n",
    "    return nn3.predict(nn3_input_)[0]\n",
    "\n",
    "(nn3.predict(nn3_input)==data.best_output).sum()/data.best_output.size"
   ]
  },
  {
   "cell_type": "code",
   "execution_count": 451,
   "metadata": {
    "collapsed": false
   },
   "outputs": [],
   "source": [
    "teste['best_choice_download_complete'] = teste.apply(lambda x: download_complete(x, column='best_output'), axis=1)\n",
    "teste['best_choice_download_time'] = teste.apply(lambda x: download_time(x, column='best_output'), axis=1)\n",
    "teste['best_choice_throughput'] = teste.apply(lambda x: throughput(x, column='best_output'), axis=1)"
   ]
  },
  {
   "cell_type": "code",
   "execution_count": 452,
   "metadata": {
    "collapsed": false
   },
   "outputs": [],
   "source": [
    "teste['nn1'] = teste.apply(nn1_func, axis=1)\n",
    "teste['nn1_download_complete'] = teste.apply(lambda x: download_complete(x, column='nn1'), axis=1)\n",
    "teste['nn1_download_time'] = teste.apply(lambda x: download_time(x, column='nn1'), axis=1)\n",
    "teste['nn1_throughput'] = teste.apply(lambda x: throughput(x, column='nn1'), axis=1)"
   ]
  },
  {
   "cell_type": "code",
   "execution_count": 453,
   "metadata": {
    "collapsed": false
   },
   "outputs": [],
   "source": [
    "teste['nn2'] = teste.apply(nn2_func, axis=1)\n",
    "teste['nn2_download_complete'] = teste.apply(lambda x: download_complete(x, column='nn2'), axis=1)\n",
    "teste['nn2_download_time'] = teste.apply(lambda x: download_time(x, column='nn2'), axis=1)\n",
    "teste['nn2_throughput'] = teste.apply(lambda x: throughput(x, column='nn2'), axis=1)"
   ]
  },
  {
   "cell_type": "code",
   "execution_count": 454,
   "metadata": {
    "collapsed": false
   },
   "outputs": [],
   "source": [
    "teste['nn3'] = teste.apply(nn3_func, axis=1)\n",
    "teste['nn3_download_complete'] = teste.apply(lambda x: download_complete(x, column='nn3'), axis=1)\n",
    "teste['nn3_download_time'] = teste.apply(lambda x: download_time(x, column='nn3'), axis=1)\n",
    "teste['nn3_throughput'] = teste.apply(lambda x: throughput(x, column='nn3'), axis=1)"
   ]
  },
  {
   "cell_type": "markdown",
   "metadata": {},
   "source": [
    "### Estratégias Clássicas"
   ]
  },
  {
   "cell_type": "code",
   "execution_count": 455,
   "metadata": {
    "collapsed": false
   },
   "outputs": [],
   "source": [
    "teste['a2a4rsrp'] = teste.apply(a2a4rsrp, axis=1)\n",
    "teste['a2a4rsrp_download_complete'] = teste.apply(lambda x: download_complete(x, column='a2a4rsrp'), axis=1)\n",
    "teste['a2a4rsrp_download_time'] = teste.apply(lambda x: download_time(x, column='a2a4rsrp'), axis=1)\n",
    "teste['a2a4rsrp_throughput'] = teste.apply(lambda x: throughput(x, column='a2a4rsrp'), axis=1)"
   ]
  },
  {
   "cell_type": "code",
   "execution_count": 456,
   "metadata": {
    "collapsed": false
   },
   "outputs": [],
   "source": [
    "def func(row):\n",
    "    if (row.downloadTime<100):\n",
    "        return row.downloadTime\n",
    "    \n",
    "teste['a3rsrp_download_complete'] = (a3rsrp_teste.downloadTime<100).astype(int)\n",
    "teste['a3rsrp_download_time'] = a3rsrp_teste.apply((lambda x: func(x)), axis=1)\n",
    "teste['a3rsrp_throughput'] = (a3rsrp_teste.rxBytes/a3rsrp_teste.downloadTime)*8/1e6\n",
    "\n",
    "teste['a2a4rsrq_download_complete'] = (a2a4rsrq_teste.downloadTime<100).astype(int)\n",
    "teste['a2a4rsrq_download_time'] = a2a4rsrq_teste.apply((lambda x: func(x)), axis=1)\n",
    "teste['a2a4rsrq_throughput'] = (a2a4rsrq_teste.rxBytes/a2a4rsrq_teste.downloadTime)*8/1e6"
   ]
  },
  {
   "cell_type": "markdown",
   "metadata": {},
   "source": [
    "#### Resultados - Sem Shadowing"
   ]
  },
  {
   "cell_type": "code",
   "execution_count": 457,
   "metadata": {
    "collapsed": false
   },
   "outputs": [],
   "source": [
    "estrategias = ['a2a4rsrp', 'a2a4rsrq', 'a3rsrp', 'nn1', 'nn2', 'nn3', 'best_choice']\n",
    "\n",
    "results_ss = {}\n",
    "\n",
    "for estrategia in estrategias:\n",
    "    #print(\"\\n\\n\", estrategia)\n",
    "    #print(\"- Geral:\")\n",
    "    #print(\"Percentual de Downloads Completos: \", (teste[estrategia+\"_download_complete\"].sum()/teste.index.size)*100, \"%\")\n",
    "    #print(\"Tempo Médio de Download para os Downloads Completos: \", teste[estrategia+\"_download_time\"].mean(), \"s\")\n",
    "    #print(\"Throughput Médio: \", teste[estrategia+\"_throughput\"].mean(), \"Mbps\")\n",
    "    #print(\"- Para a região central [-30,0]:\")\n",
    "    #print(\"Percentual de Downloads Completos: \", (teste[(teste.angle>-30) & (teste.angle<0)][estrategia+\"_download_complete\"].sum()/teste[(teste.angle>-30) & (teste.angle<0)].index.size)*100, \"%\")\n",
    "    #print(\"Tempo Médio de Download para os Downloads Completos: \", teste[(teste.angle>-30) & (teste.angle<0)][estrategia+\"_download_time\"].mean(), \"s\")\n",
    "    #print(\"Throughput Médio: \", teste[(teste.angle>-30) & (teste.angle<0)][estrategia+\"_throughput\"].mean(), \"Mbps\")\n",
    "    results_ss[estrategia] = []\n",
    "    results_ss[estrategia].append(round((teste[estrategia+\"_download_complete\"].sum()/teste.index.size)*100,1))\n",
    "    results_ss[estrategia].append(round(teste[estrategia+\"_download_time\"].mean(),1))\n",
    "    results_ss[estrategia].append(round(teste[estrategia+\"_throughput\"].mean(),1))\n",
    "    results_ss[estrategia].append(round((teste[(teste.angle>-30) & (teste.angle<0)][estrategia+\"_download_complete\"].sum()/teste[(teste.angle>-30) & (teste.angle<0)].index.size)*100,1))\n",
    "    results_ss[estrategia].append(round(teste[(teste.angle>-30) & (teste.angle<0)][estrategia+\"_download_time\"].mean(),1))\n",
    "    results_ss[estrategia].append(round(teste[(teste.angle>-30) & (teste.angle<0)][estrategia+\"_throughput\"].mean(),1))"
   ]
  },
  {
   "cell_type": "markdown",
   "metadata": {},
   "source": [
    "#### Resultados para o conjunto de teste - OhBuildings com shadowing"
   ]
  },
  {
   "cell_type": "markdown",
   "metadata": {},
   "source": [
    "#### Geral"
   ]
  },
  {
   "cell_type": "markdown",
   "metadata": {
    "variables": {
     "results_ss['a2a4rsrp'][0]": "44.7",
     "results_ss['a2a4rsrp'][1]": "37.5",
     "results_ss['a2a4rsrp'][2]": "1.9",
     "results_ss['a2a4rsrq'][0]": "50.4",
     "results_ss['a2a4rsrq'][1]": "36.4",
     "results_ss['a2a4rsrq'][2]": "2.1",
     "results_ss['a3rsrp'][0]": "49.6",
     "results_ss['a3rsrp'][1]": "34.7",
     "results_ss['a3rsrp'][2]": "2.2",
     "results_ss['best_choice'][0]": "57.7",
     "results_ss['best_choice'][1]": "37.6",
     "results_ss['best_choice'][2]": "2.3",
     "results_ss['nn1'][0]": "52.8",
     "results_ss['nn1'][1]": "36.4",
     "results_ss['nn1'][2]": "2.2",
     "results_ss['nn2'][0]": "35.0",
     "results_ss['nn2'][1]": "36.0",
     "results_ss['nn2'][2]": "1.7",
     "results_ss['nn3'][0]": "52.8",
     "results_ss['nn3'][1]": "36.4",
     "results_ss['nn3'][2]": "2.2"
    }
   },
   "source": [
    "|   |A2A4RSRP|A2A4RSRQ|A3RSRP|NN1|NN2|NN3|BEST CHOICE|\n",
    "|---|---|---|---|---|---|---|---|\n",
    "|Downloads completos (%)|{{results_ss['a2a4rsrp'][0]}}|{{results_ss['a2a4rsrq'][0]}}|{{results_ss['a3rsrp'][0]}}|{{results_ss['nn1'][0]}}|{{results_ss['nn2'][0]}}|{{results_ss['nn3'][0]}}|{{results_ss['best_choice'][0]}}|\n",
    "|Tempo médio de download para os downloads completos (s)|{{results_ss['a2a4rsrp'][1]}}|{{results_ss['a2a4rsrq'][1]}}|{{results_ss['a3rsrp'][1]}}|{{results_ss['nn1'][1]}}|{{results_ss['nn2'][1]}}|{{results_ss['nn3'][1]}}|{{results_ss['best_choice'][1]}}|\n",
    "|Throughput médio (Mbps)|{{results_ss['a2a4rsrp'][2]}}|{{results_ss['a2a4rsrq'][2]}}|{{results_ss['a3rsrp'][2]}}|{{results_ss['nn1'][2]}}|{{results_ss['nn2'][2]}}|{{results_ss['nn3'][2]}}|{{results_ss['best_choice'][2]}}|"
   ]
  },
  {
   "cell_type": "markdown",
   "metadata": {},
   "source": [
    "#### Para a região central [-30,0]"
   ]
  },
  {
   "cell_type": "markdown",
   "metadata": {
    "variables": {
     "results_ss['a2a4rsrp'][3]": "47.4",
     "results_ss['a2a4rsrp'][4]": "40.7",
     "results_ss['a2a4rsrp'][5]": "1.9",
     "results_ss['a2a4rsrq'][3]": "44.7",
     "results_ss['a2a4rsrq'][4]": "41.8",
     "results_ss['a2a4rsrq'][5]": "1.8",
     "results_ss['a3rsrp'][3]": "44.7",
     "results_ss['a3rsrp'][4]": "38.4",
     "results_ss['a3rsrp'][5]": "2.0",
     "results_ss['best_choice'][3]": "57.9",
     "results_ss['best_choice'][4]": "38.7",
     "results_ss['best_choice'][5]": "2.4",
     "results_ss['nn1'][3]": "44.7",
     "results_ss['nn1'][4]": "35.5",
     "results_ss['nn1'][5]": "2.0",
     "results_ss['nn2'][3]": "42.1",
     "results_ss['nn2'][4]": "35.1",
     "results_ss['nn2'][5]": "2.0",
     "results_ss['nn3'][3]": "47.4",
     "results_ss['nn3'][4]": "35.9",
     "results_ss['nn3'][5]": "2.1"
    }
   },
   "source": [
    "|   |A2A4RSRP|A2A4RSRQ|A3RSRP|NN1|NN2|NN3|BEST CHOICE|\n",
    "|---|---|---|---|---|---|---|---|\n",
    "|Downloads completos (%)|{{results_ss['a2a4rsrp'][3]}}|{{results_ss['a2a4rsrq'][3]}}|{{results_ss['a3rsrp'][3]}}|{{results_ss['nn1'][3]}}|{{results_ss['nn2'][3]}}|{{results_ss['nn3'][3]}}|{{results_ss['best_choice'][3]}}|\n",
    "|Tempo médio de download para os downloads completos (s)|{{results_ss['a2a4rsrp'][4]}}|{{results_ss['a2a4rsrq'][4]}}|{{results_ss['a3rsrp'][4]}}|{{results_ss['nn1'][4]}}|{{results_ss['nn2'][4]}}|{{results_ss['nn3'][4]}}|{{results_ss['best_choice'][4]}}|\n",
    "|Throughput médio (Mbps)|{{results_ss['a2a4rsrp'][5]}}|{{results_ss['a2a4rsrq'][5]}}|{{results_ss['a3rsrp'][5]}}|{{results_ss['nn1'][5]}}|{{results_ss['nn2'][5]}}|{{results_ss['nn3'][5]}}|{{results_ss['best_choice'][5]}}|"
   ]
  },
  {
   "cell_type": "code",
   "execution_count": null,
   "metadata": {
    "collapsed": true
   },
   "outputs": [],
   "source": []
  }
 ],
 "metadata": {
  "kernelspec": {
   "display_name": "Python 3",
   "language": "python",
   "name": "python3"
  },
  "language_info": {
   "codemirror_mode": {
    "name": "ipython",
    "version": 3
   },
   "file_extension": ".py",
   "mimetype": "text/x-python",
   "name": "python",
   "nbconvert_exporter": "python",
   "pygments_lexer": "ipython3",
   "version": "3.6.0"
  }
 },
 "nbformat": 4,
 "nbformat_minor": 2
}
